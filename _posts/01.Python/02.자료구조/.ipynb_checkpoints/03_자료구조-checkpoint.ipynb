{
 "cells": [
  {
   "cell_type": "markdown",
   "id": "da193321",
   "metadata": {
    "slideshow": {
     "slide_type": "slide"
    }
   },
   "source": [
    "# 자료구조란\n",
    "\n",
    "- 여러 개의 값들을 모아서 관리하는 데이터 타입.\n",
    "    - List : 순서가 있으며 중복된 값들을 모으는 것을 허용하고 구성하는 값들(원소)을 변경할 수 있다.\n",
    "    - Tuple : 순서가 있으며 중복된 값들을 모으는 것을 허용하는데 구성하는 값들을 변경할 수 없다.\n",
    "    - Dictionary : key-value 형태로 값들을 저장해 관리한다.\n",
    "    - Set : 중복을 허용하지 않고 값들의 순서가 없다.\n",
    "- 원소, 성분, 요소, element\n",
    "    - len(자료구조) 함수\n",
    "        - 자료구조 내의 원소의 개수를 반환한다."
   ]
  },
  {
   "cell_type": "markdown",
   "id": "2f9f8646",
   "metadata": {},
   "source": [
    "## List"
   ]
  },
  {
   "cell_type": "code",
   "execution_count": 122,
   "id": "949c7e07",
   "metadata": {
    "ExecuteTime": {
     "end_time": "2022-12-18T00:22:24.071490Z",
     "start_time": "2022-12-18T00:22:23.651455Z"
    },
    "slideshow": {
     "slide_type": "fragment"
    }
   },
   "outputs": [],
   "source": [
    "l1 = [10, 20, 30, 40, 50]"
   ]
  },
  {
   "cell_type": "code",
   "execution_count": 123,
   "id": "a8005685",
   "metadata": {
    "ExecuteTime": {
     "end_time": "2022-12-18T00:22:24.071490Z",
     "start_time": "2022-12-18T00:22:23.651455Z"
    },
    "slideshow": {
     "slide_type": "fragment"
    }
   },
   "outputs": [
    {
     "name": "stdout",
     "output_type": "stream",
     "text": [
      "[10, 20, 30, 40, 50]\n"
     ]
    }
   ],
   "source": [
    "print(l1)"
   ]
  },
  {
   "cell_type": "code",
   "execution_count": 124,
   "id": "c980def7",
   "metadata": {
    "ExecuteTime": {
     "end_time": "2022-12-18T00:22:24.071490Z",
     "start_time": "2022-12-18T00:22:23.651455Z"
    },
    "slideshow": {
     "slide_type": "fragment"
    }
   },
   "outputs": [
    {
     "name": "stdout",
     "output_type": "stream",
     "text": [
      "<class 'list'>\n"
     ]
    }
   ],
   "source": [
    "print(type(l1))"
   ]
  },
  {
   "cell_type": "code",
   "execution_count": 125,
   "id": "752b6090",
   "metadata": {
    "ExecuteTime": {
     "end_time": "2022-12-18T00:22:24.071490Z",
     "start_time": "2022-12-18T00:22:23.651455Z"
    },
    "slideshow": {
     "slide_type": "fragment"
    }
   },
   "outputs": [
    {
     "name": "stdout",
     "output_type": "stream",
     "text": [
      "['a', 20, 1.2, True]\n"
     ]
    }
   ],
   "source": [
    "# 다른 타입의 값들을 모을수 있다\n",
    "l2 = [ 'a', 20, 1.2, True ] \n",
    "print(l2)"
   ]
  },
  {
   "cell_type": "code",
   "execution_count": 126,
   "id": "efc59691",
   "metadata": {
    "ExecuteTime": {
     "end_time": "2022-12-18T00:22:24.071490Z",
     "start_time": "2022-12-18T00:22:23.651455Z"
    },
    "slideshow": {
     "slide_type": "fragment"
    }
   },
   "outputs": [
    {
     "name": "stdout",
     "output_type": "stream",
     "text": [
      "[]\n"
     ]
    }
   ],
   "source": [
    "# 빈 리스트를 만들 수있음\n",
    "l3 = [] \n",
    "print(l3)"
   ]
  },
  {
   "cell_type": "markdown",
   "id": "08d634bf",
   "metadata": {
    "slideshow": {
     "slide_type": "subslide"
    }
   },
   "source": [
    "## Indexing과 Slicing을 이용한 원소(element) 조회 및 변경\n",
    "\n",
    "### Indexing\n",
    "- 하나의 원소를 조회하거나 변경할 때 사용\n",
    "- 리스트\\[index\\] \n",
    "    - index의 원소를 조회\n",
    "- 리스트\\[index\\] = 값\n",
    "    - index의 원소를 변경"
   ]
  },
  {
   "cell_type": "code",
   "execution_count": 127,
   "id": "8f4da8df",
   "metadata": {},
   "outputs": [],
   "source": [
    "l1 = [1, 2, 3, 4, 5 ]"
   ]
  },
  {
   "cell_type": "code",
   "execution_count": 128,
   "id": "a6bc3b4a",
   "metadata": {},
   "outputs": [
    {
     "name": "stdout",
     "output_type": "stream",
     "text": [
      "[1, 2, 6, 4, 5]\n"
     ]
    }
   ],
   "source": [
    "# 2번째 index 값 => 6 변경\n",
    "l1[2] = 6 \n",
    "print(l1)"
   ]
  },
  {
   "cell_type": "markdown",
   "id": "ab5a40cb",
   "metadata": {
    "slideshow": {
     "slide_type": "fragment"
    }
   },
   "source": [
    "### Slicing\n",
    "- 범위로 조회하거나 그 범위의 값들을 변경한다.\n",
    "- 기본구문: **리스트\\[ 시작 index : 종료 index : 간격\\]**\n",
    "    - 시작 index ~ (종료 index – 1)\n",
    "    - 간격을 지정하면 간격만큼 index를 증/감한다. (생략 시 1이 기본 간격)\n",
    "#### slicing을 이용한 값 변경\n",
    "- slicing 을 이용할 경우 slicing된 원소 개수와 동일한 개수의 값들을 대입한다.\n",
    "    - `리스트[1:5] = 10,20,30,40` : index 1, 2, 3, 4의 값을 각각 10, 20, 30, 40 으로 변경"
   ]
  },
  {
   "cell_type": "code",
   "execution_count": 2,
   "id": "f2ef6138",
   "metadata": {
    "slideshow": {
     "slide_type": "fragment"
    }
   },
   "outputs": [],
   "source": [
    "# indexsing - 리스트에서 원소(값) 한개만 조회\n",
    "l1 = [1, 2, 3, 4, 5 ]"
   ]
  },
  {
   "cell_type": "code",
   "execution_count": 3,
   "id": "bdf4b07f",
   "metadata": {
    "slideshow": {
     "slide_type": "fragment"
    }
   },
   "outputs": [
    {
     "name": "stdout",
     "output_type": "stream",
     "text": [
      "5\n",
      "[1, 2, 3, 4, 5]\n"
     ]
    }
   ],
   "source": [
    "# 원소값의 갯수 5개\n",
    "print(len(l1)) \n",
    "print(l1)"
   ]
  },
  {
   "cell_type": "code",
   "execution_count": 4,
   "id": "45966a72",
   "metadata": {
    "slideshow": {
     "slide_type": "fragment"
    }
   },
   "outputs": [
    {
     "name": "stdout",
     "output_type": "stream",
     "text": [
      "1 4\n"
     ]
    }
   ],
   "source": [
    "# 0 ~ 뒤에서 2번째 index\n",
    "print( l1[0], l1[-2] ) "
   ]
  },
  {
   "cell_type": "code",
   "execution_count": 5,
   "id": "eab97b0c",
   "metadata": {
    "slideshow": {
     "slide_type": "fragment"
    }
   },
   "outputs": [
    {
     "name": "stdout",
     "output_type": "stream",
     "text": [
      "3 5\n"
     ]
    }
   ],
   "source": [
    "# 2 ~ 뒤에서 1번째 index\n",
    "print( l1[2], l1[-1] ) "
   ]
  },
  {
   "cell_type": "code",
   "execution_count": 132,
   "id": "8cb7400f",
   "metadata": {
    "slideshow": {
     "slide_type": "fragment"
    }
   },
   "outputs": [
    {
     "name": "stdout",
     "output_type": "stream",
     "text": [
      "[100, 2, 3, 4, 5]\n"
     ]
    }
   ],
   "source": [
    "# 0번째 Index => 100으로 변경\n",
    "l1[0] = 100 \n",
    "print(l1)"
   ]
  },
  {
   "cell_type": "code",
   "execution_count": 133,
   "id": "5d462776",
   "metadata": {
    "slideshow": {
     "slide_type": "fragment"
    }
   },
   "outputs": [
    {
     "name": "stdout",
     "output_type": "stream",
     "text": [
      "[100, 2, 3, 4, -100]\n"
     ]
    }
   ],
   "source": [
    "# 뒤에서 1번째 Index -100으로 변경\n",
    "l1[-1] = -100  \n",
    "print(l1)"
   ]
  },
  {
   "cell_type": "code",
   "execution_count": 134,
   "id": "75926921",
   "metadata": {},
   "outputs": [],
   "source": [
    "# l1에 뒤에서 1번째 Index 삭제\n",
    "del l1[-1] "
   ]
  },
  {
   "cell_type": "code",
   "execution_count": 135,
   "id": "bbf672ff",
   "metadata": {},
   "outputs": [],
   "source": [
    "# 마지막 Index에 100000 추가\n",
    "l1.append(10000) "
   ]
  },
  {
   "cell_type": "code",
   "execution_count": 136,
   "id": "ec02c0c8",
   "metadata": {},
   "outputs": [
    {
     "name": "stdout",
     "output_type": "stream",
     "text": [
      "[100, 2, 3, 4, 10000]\n"
     ]
    }
   ],
   "source": [
    "print(l1)"
   ]
  },
  {
   "cell_type": "code",
   "execution_count": 137,
   "id": "7a34668f",
   "metadata": {},
   "outputs": [],
   "source": [
    "# slicing\n",
    "l2 = [0, 1, 2, 3, 4, 5, 6, 7, 8, 9]"
   ]
  },
  {
   "cell_type": "code",
   "execution_count": 138,
   "id": "9336e26b",
   "metadata": {},
   "outputs": [
    {
     "name": "stdout",
     "output_type": "stream",
     "text": [
      "10\n"
     ]
    }
   ],
   "source": [
    "# l2 안에 들어가 있는 원소 개수\n",
    "print(len(l2)) "
   ]
  },
  {
   "cell_type": "code",
   "execution_count": 139,
   "id": "60efb9ba",
   "metadata": {},
   "outputs": [
    {
     "name": "stdout",
     "output_type": "stream",
     "text": [
      "[1, 2, 3, 4, 5]\n"
     ]
    }
   ],
   "source": [
    "# Index를 조회할때는 0부터 조회한다\n",
    "## 1 ~ 6 번째 index 조회\n",
    "print(l2[ 1 : 6]) "
   ]
  },
  {
   "cell_type": "code",
   "execution_count": 140,
   "id": "020e8aa2",
   "metadata": {},
   "outputs": [
    {
     "name": "stdout",
     "output_type": "stream",
     "text": [
      "[1, 4, 7]\n"
     ]
    }
   ],
   "source": [
    "# 1 ~ 8 번째 index 간격 : 3 \n",
    "print(l2[ 1 : 8 : 3]) "
   ]
  },
  {
   "cell_type": "code",
   "execution_count": 141,
   "id": "655c420d",
   "metadata": {},
   "outputs": [
    {
     "name": "stdout",
     "output_type": "stream",
     "text": [
      "[0, 1, 2, 3, 4]\n"
     ]
    }
   ],
   "source": [
    "# 첫번째 (생략가능) ~ 5 번째 index \n",
    "print(l2[ : 5 ]) "
   ]
  },
  {
   "cell_type": "code",
   "execution_count": 142,
   "id": "6fdf68c7",
   "metadata": {},
   "outputs": [
    {
     "name": "stdout",
     "output_type": "stream",
     "text": [
      "[5, 6, 7, 8, 9]\n"
     ]
    }
   ],
   "source": [
    "# 5 ~ 마지막번째 index \n",
    "print(l2[ 5 : ]) "
   ]
  },
  {
   "cell_type": "code",
   "execution_count": 143,
   "id": "ae68b7a6",
   "metadata": {},
   "outputs": [
    {
     "name": "stdout",
     "output_type": "stream",
     "text": [
      "[2, 4, 6, 8]\n"
     ]
    }
   ],
   "source": [
    "# 2 ~ 마지막 Index까지 간격 : 2\n",
    "print(l2[ 2 : : 2]) "
   ]
  },
  {
   "cell_type": "code",
   "execution_count": 144,
   "id": "9cc9b5e5",
   "metadata": {},
   "outputs": [
    {
     "name": "stdout",
     "output_type": "stream",
     "text": [
      "[1, 2, 3, 4, 5, 6, 7, 8]\n"
     ]
    }
   ],
   "source": [
    "# 1 ~ 뒤에서 2번째 Index\n",
    "print(l2[ 1 : -1 ]) "
   ]
  },
  {
   "cell_type": "code",
   "execution_count": 145,
   "id": "4e7447dd",
   "metadata": {},
   "outputs": [
    {
     "name": "stdout",
     "output_type": "stream",
     "text": [
      "[9, 8, 7, 6, 5, 4, 3, 2, 1, 0]\n"
     ]
    }
   ],
   "source": [
    "# 역순 \n",
    "print(l2[ : : -1]) "
   ]
  },
  {
   "cell_type": "code",
   "execution_count": 146,
   "id": "dc4bad55",
   "metadata": {},
   "outputs": [
    {
     "name": "stdout",
     "output_type": "stream",
     "text": [
      "[0, 1, 20, 30, 40, 5, 6, 7, 8, 9]\n"
     ]
    }
   ],
   "source": [
    "# 2 ~ 5 index사이의 값들을 각각 20, 30 40 값 변경\n",
    "l2[ 2 : 5 ] = [ 20, 30, 40] \n",
    "print(l2)"
   ]
  },
  {
   "cell_type": "code",
   "execution_count": 147,
   "id": "e7a34133",
   "metadata": {},
   "outputs": [
    {
     "name": "stdout",
     "output_type": "stream",
     "text": [
      "[0, 1, 20, 30, 40, 5, 1000, 2000]\n"
     ]
    }
   ],
   "source": [
    "# 6 ~ 7 Index 값을 각각 1000, 2000 값 변경\n",
    "l2[ 6 : ] = [ 1000, 2000] \n",
    "print(l2)"
   ]
  },
  {
   "cell_type": "markdown",
   "id": "a4f9fe12",
   "metadata": {
    "slideshow": {
     "slide_type": "slide"
    }
   },
   "source": [
    "## List 연산자\n",
    "- 리스트 + 리스트\n",
    "    - 두 리스트의 원소들을 합친 리스트를 반환한다.\n",
    "- 리스트 * 정수\n",
    "    - 같은 리스트의 원소들을 정수번 합친 리스트를 반환한다.   \n",
    "- in, not in 연산자\n",
    "    - 값 in 리스트\n",
    "        - 리스트의 원소로 값이 **있으면** True, 없으면 False 반환\n",
    "    - 값 not in 리스트\n",
    "        - 리스트의 원소로 값이 **없으면** True, 있으면 False 반환  \n",
    "- len(리스트)\n",
    "    - 리스트 내의 원소수를 반환.        "
   ]
  },
  {
   "cell_type": "code",
   "execution_count": null,
   "id": "06702a84",
   "metadata": {
    "ExecuteTime": {
     "end_time": "2022-12-17T14:17:03.293505Z",
     "start_time": "2022-12-17T14:17:03.285501Z"
    },
    "slideshow": {
     "slide_type": "fragment"
    }
   },
   "outputs": [],
   "source": [
    "l1 = [ 1, 2, 3]\n",
    "l2 = [ 100, 200, 300, 400]"
   ]
  },
  {
   "cell_type": "code",
   "execution_count": 148,
   "id": "f085e817",
   "metadata": {
    "ExecuteTime": {
     "end_time": "2022-12-17T14:17:03.293505Z",
     "start_time": "2022-12-17T14:17:03.285501Z"
    },
    "slideshow": {
     "slide_type": "fragment"
    }
   },
   "outputs": [
    {
     "name": "stdout",
     "output_type": "stream",
     "text": [
      "[1, 2, 3, 100, 200, 300, 400]\n"
     ]
    }
   ],
   "source": [
    "# 두 리스트를 합침\n",
    "l3 = l1 + l2 \n",
    "print(l3)"
   ]
  },
  {
   "cell_type": "code",
   "execution_count": 149,
   "id": "0729a8e7",
   "metadata": {},
   "outputs": [
    {
     "name": "stdout",
     "output_type": "stream",
     "text": [
      "[1, 2, 3] [100, 200, 300, 400]\n"
     ]
    }
   ],
   "source": [
    "print(l1, l2)"
   ]
  },
  {
   "cell_type": "code",
   "execution_count": 150,
   "id": "9caa854f",
   "metadata": {},
   "outputs": [
    {
     "name": "stdout",
     "output_type": "stream",
     "text": [
      "[1, 2, 3, 1, 2, 3, 1, 2, 3]\n"
     ]
    }
   ],
   "source": [
    "# l1의 원소들 * 3\n",
    "l4 = l1 * 3 \n",
    "print(l4)"
   ]
  },
  {
   "cell_type": "code",
   "execution_count": 151,
   "id": "eb7b7be4",
   "metadata": {},
   "outputs": [],
   "source": [
    "l1 = [ 1, 2, 3]"
   ]
  },
  {
   "cell_type": "code",
   "execution_count": 152,
   "id": "106d324d",
   "metadata": {},
   "outputs": [
    {
     "name": "stdout",
     "output_type": "stream",
     "text": [
      "False\n",
      "True\n"
     ]
    }
   ],
   "source": [
    "# l1에 10이 있는지\n",
    "print(10 in l1) \n",
    "# l1에 10이 없는지\n",
    "print(10 not in l1)"
   ]
  },
  {
   "cell_type": "code",
   "execution_count": 153,
   "id": "8545cd28",
   "metadata": {},
   "outputs": [
    {
     "name": "stdout",
     "output_type": "stream",
     "text": [
      "False\n"
     ]
    }
   ],
   "source": [
    "# l1에 [ 1, 2 ] 리스트가 있는지\n",
    "print([ 1, 2 ] in l1 ) "
   ]
  },
  {
   "cell_type": "code",
   "execution_count": 154,
   "id": "ddb51aa8",
   "metadata": {},
   "outputs": [
    {
     "name": "stdout",
     "output_type": "stream",
     "text": [
      "True\n"
     ]
    }
   ],
   "source": [
    "# l1 안에 1 또는 2가 있는지?\n",
    "print( 1 in l1 or 2 in l1 ) "
   ]
  },
  {
   "cell_type": "code",
   "execution_count": 155,
   "id": "e10827cc",
   "metadata": {},
   "outputs": [
    {
     "name": "stdout",
     "output_type": "stream",
     "text": [
      "False\n"
     ]
    }
   ],
   "source": [
    "# l1 안에 1 , 20이 있는지?\n",
    "print( 1 in l1 and 20 in l1 ) "
   ]
  },
  {
   "cell_type": "markdown",
   "id": "f90af754",
   "metadata": {
    "slideshow": {
     "slide_type": "slide"
    }
   },
   "source": [
    "## 중첩 리스트 (Nested List)\n",
    "- List가 원소로 List를 가지는 것을 말한다.\n",
    "    - List를 포함한 모든 자료구조 타입들도 다 값이므로 다른 자료구조의 원소로 들어갈 수 있다.    "
   ]
  },
  {
   "cell_type": "code",
   "execution_count": 156,
   "id": "33804c8e",
   "metadata": {
    "slideshow": {
     "slide_type": "fragment"
    }
   },
   "outputs": [],
   "source": [
    "l1 = [ 1, 2, 3 ]\n",
    "l2 = [ '가', '나', '다', '라']\n",
    "l3 = [ l1 , l2 ]"
   ]
  },
  {
   "cell_type": "code",
   "execution_count": 157,
   "id": "8aff070b",
   "metadata": {
    "slideshow": {
     "slide_type": "fragment"
    }
   },
   "outputs": [
    {
     "name": "stdout",
     "output_type": "stream",
     "text": [
      "[[1, 2, 3], ['가', '나', '다', '라']]\n"
     ]
    }
   ],
   "source": [
    "print( l3 )"
   ]
  },
  {
   "cell_type": "code",
   "execution_count": 158,
   "id": "5f4a6e31",
   "metadata": {
    "slideshow": {
     "slide_type": "fragment"
    }
   },
   "outputs": [
    {
     "name": "stdout",
     "output_type": "stream",
     "text": [
      "2\n"
     ]
    }
   ],
   "source": [
    "# 두개의 리스트를 합친 후 값을 찾을 때 순서대로 박스 안에 들어가는 개념으로 찾아야함\n",
    "print( l3 [0] [1] ) "
   ]
  },
  {
   "cell_type": "code",
   "execution_count": 159,
   "id": "01bede57",
   "metadata": {
    "slideshow": {
     "slide_type": "fragment"
    }
   },
   "outputs": [
    {
     "name": "stdout",
     "output_type": "stream",
     "text": [
      "다\n"
     ]
    }
   ],
   "source": [
    "print( l3 [1] [2] )"
   ]
  },
  {
   "cell_type": "markdown",
   "id": "29ff0e07",
   "metadata": {
    "slideshow": {
     "slide_type": "slide"
    }
   },
   "source": [
    "## List 대입\n",
    "- 리스트의 원소들을 각각 다른 변수에 대입하는 표현식\n",
    "- 변수의 개수와 리스트 원소의 개수는 동일해야 한다."
   ]
  },
  {
   "cell_type": "code",
   "execution_count": 160,
   "id": "50c0d2e9",
   "metadata": {
    "slideshow": {
     "slide_type": "fragment"
    }
   },
   "outputs": [
    {
     "name": "stdout",
     "output_type": "stream",
     "text": [
      "10 20 30\n"
     ]
    }
   ],
   "source": [
    "# 리스트 원소랑 개수가 동일해야함\n",
    "# 리스트 대입\n",
    "v1, v2, v3 = [10, 20, 30] \n",
    "print(v1, v2, v3)"
   ]
  },
  {
   "cell_type": "code",
   "execution_count": 161,
   "id": "2dfd6c46",
   "metadata": {
    "slideshow": {
     "slide_type": "fragment"
    }
   },
   "outputs": [
    {
     "name": "stdout",
     "output_type": "stream",
     "text": [
      "1 2 3\n"
     ]
    }
   ],
   "source": [
    "# 튜플대입\n",
    "v11, v22, v33 = 1, 2, 3 \n",
    "print(v11, v22, v33 )"
   ]
  },
  {
   "cell_type": "markdown",
   "id": "826b8780",
   "metadata": {
    "slideshow": {
     "slide_type": "slide"
    }
   },
   "source": [
    "## List 주요 메소드"
   ]
  },
  {
   "cell_type": "code",
   "execution_count": 162,
   "id": "42337a64",
   "metadata": {
    "slideshow": {
     "slide_type": "fragment"
    }
   },
   "outputs": [],
   "source": [
    "l1 = [ 1, 2, 3, 4, 5, 6, 7]"
   ]
  },
  {
   "cell_type": "code",
   "execution_count": null,
   "id": "bd088b7d",
   "metadata": {
    "slideshow": {
     "slide_type": "fragment"
    }
   },
   "outputs": [],
   "source": [
    "# 10을 추가 => 계속 추가됨\n",
    "l1.append(10) "
   ]
  },
  {
   "cell_type": "code",
   "execution_count": 163,
   "id": "4b14d8e8",
   "metadata": {
    "slideshow": {
     "slide_type": "fragment"
    }
   },
   "outputs": [
    {
     "name": "stdout",
     "output_type": "stream",
     "text": [
      "[1, 2, 3, 4, 5, 6, 7, 10]\n"
     ]
    }
   ],
   "source": [
    "print(l1)"
   ]
  },
  {
   "cell_type": "code",
   "execution_count": 164,
   "id": "a8416c47",
   "metadata": {},
   "outputs": [
    {
     "name": "stdout",
     "output_type": "stream",
     "text": [
      "[1, 2, 3, 4, 5, 6, 7, 10, 100, 200, 300]\n"
     ]
    }
   ],
   "source": [
    "# 100, 200, 300을 마지막번째에 추가\n",
    "l1.extend([100, 200, 300])\n",
    "print(l1)"
   ]
  },
  {
   "cell_type": "code",
   "execution_count": 165,
   "id": "ef5a357f",
   "metadata": {},
   "outputs": [
    {
     "name": "stdout",
     "output_type": "stream",
     "text": [
      "[1, 2, 3, 10000, 4, 5, 6, 7, 10, 100, 200, 300]\n"
     ]
    }
   ],
   "source": [
    "# index 3에 10000을 삽임\n",
    "l1.insert(3, 10000) \n",
    "print(l1)"
   ]
  },
  {
   "cell_type": "code",
   "execution_count": 166,
   "id": "11d6c5c2",
   "metadata": {},
   "outputs": [
    {
     "name": "stdout",
     "output_type": "stream",
     "text": [
      "[2, 20, 20.0]\n"
     ]
    }
   ],
   "source": [
    "results = []\n",
    "\n",
    "results.append( 1 + 1 )\n",
    "results.append( 10 * 2 )\n",
    "results.append( 100 / 5 )\n",
    "\n",
    "print(results)"
   ]
  },
  {
   "cell_type": "code",
   "execution_count": 167,
   "id": "4e396245",
   "metadata": {},
   "outputs": [
    {
     "name": "stdout",
     "output_type": "stream",
     "text": [
      "[1, 2, 3, 4, 5, 6, 7, 10, 100, 200, 300, 10000]\n"
     ]
    }
   ],
   "source": [
    "# l1의 원소들을 오름차순 정령\n",
    "l1.sort() \n",
    "print(l1)"
   ]
  },
  {
   "cell_type": "code",
   "execution_count": 168,
   "id": "22145885",
   "metadata": {},
   "outputs": [
    {
     "name": "stdout",
     "output_type": "stream",
     "text": [
      "[10000, 300, 200, 100, 10, 7, 6, 5, 4, 3, 2, 1]\n"
     ]
    }
   ],
   "source": [
    "# 내림차순 정령\n",
    "l1.sort(reverse=True) \n",
    "print(l1)"
   ]
  },
  {
   "cell_type": "code",
   "execution_count": 169,
   "id": "5482e7d7",
   "metadata": {},
   "outputs": [
    {
     "name": "stdout",
     "output_type": "stream",
     "text": [
      "[1, 2, 3, 4, 5, 6, 7, 10, 100, 200, 300, 10000]\n"
     ]
    }
   ],
   "source": [
    "# 정렬 함수 : sorted(자료구조) => 정렬 결과를 리스트로 반환\n",
    "## l1 자체를 정렬하지 않음 새로운 리스트를 담아서 반환\n",
    "print(sorted(l1)) "
   ]
  },
  {
   "cell_type": "code",
   "execution_count": 170,
   "id": "91d9019a",
   "metadata": {},
   "outputs": [
    {
     "data": {
      "text/plain": [
       "['가', 'd', 'c', 'B', 'A']"
      ]
     },
     "execution_count": 170,
     "metadata": {},
     "output_type": "execute_result"
    }
   ],
   "source": [
    "# 문자열을 하나씩 쪼갠다\n",
    "sorted('가ABcd' , reverse=True)"
   ]
  },
  {
   "cell_type": "code",
   "execution_count": 171,
   "id": "d297688f",
   "metadata": {},
   "outputs": [],
   "source": [
    "# 삭제\n",
    "## 300을 찾아서 삭제\n",
    "l1.remove(300) "
   ]
  },
  {
   "cell_type": "code",
   "execution_count": 172,
   "id": "c56021af",
   "metadata": {},
   "outputs": [
    {
     "name": "stdout",
     "output_type": "stream",
     "text": [
      "[10000, 200, 100, 10, 7, 6, 5, 4, 3, 2, 1]\n"
     ]
    }
   ],
   "source": [
    "print(l1)"
   ]
  },
  {
   "cell_type": "code",
   "execution_count": 173,
   "id": "9251dd47",
   "metadata": {},
   "outputs": [],
   "source": [
    "# v = index 3번째의 값을 반환하면서 삭제\n",
    "v = l1.pop(3) "
   ]
  },
  {
   "cell_type": "code",
   "execution_count": 174,
   "id": "8fb39c3f",
   "metadata": {},
   "outputs": [
    {
     "name": "stdout",
     "output_type": "stream",
     "text": [
      "[10000, 200, 100, 7, 6, 5, 4, 3, 2, 1]\n"
     ]
    }
   ],
   "source": [
    "print(l1)"
   ]
  },
  {
   "cell_type": "code",
   "execution_count": 175,
   "id": "5c2c6284",
   "metadata": {},
   "outputs": [
    {
     "name": "stdout",
     "output_type": "stream",
     "text": [
      "10\n"
     ]
    }
   ],
   "source": [
    "print(v)"
   ]
  },
  {
   "cell_type": "code",
   "execution_count": 176,
   "id": "af57ca31",
   "metadata": {},
   "outputs": [
    {
     "name": "stdout",
     "output_type": "stream",
     "text": [
      "1\n"
     ]
    }
   ],
   "source": [
    "# 마지막 index의 값을 삭제하면서 반환. (index생략)\n",
    "v2 = l1.pop() \n",
    "print(v2)"
   ]
  },
  {
   "cell_type": "code",
   "execution_count": 177,
   "id": "b4df3f2c",
   "metadata": {},
   "outputs": [
    {
     "name": "stdout",
     "output_type": "stream",
     "text": [
      "[10000, 200, 100, 7, 6, 5, 4, 3, 2]\n"
     ]
    }
   ],
   "source": [
    "print(l1)"
   ]
  },
  {
   "cell_type": "code",
   "execution_count": 178,
   "id": "826eeb0f",
   "metadata": {},
   "outputs": [
    {
     "name": "stdout",
     "output_type": "stream",
     "text": [
      "2\n"
     ]
    }
   ],
   "source": [
    "# 마지막 index 반환 후 삭제\n",
    "print(l1.pop())"
   ]
  },
  {
   "cell_type": "code",
   "execution_count": 179,
   "id": "db9a8d6a",
   "metadata": {},
   "outputs": [
    {
     "name": "stdout",
     "output_type": "stream",
     "text": [
      "[]\n"
     ]
    }
   ],
   "source": [
    "# 모든걸 삭제한다\n",
    "l1.clear() \n",
    "print(l1)"
   ]
  },
  {
   "cell_type": "code",
   "execution_count": 13,
   "id": "1311c314",
   "metadata": {},
   "outputs": [],
   "source": [
    "l = [ 1, 2, 3]"
   ]
  },
  {
   "cell_type": "code",
   "execution_count": 180,
   "id": "19df214d",
   "metadata": {},
   "outputs": [],
   "source": [
    "# 없는 index 다루기 => 없는 index 조회 ==> Error\n",
    "l[5] "
   ]
  },
  {
   "cell_type": "code",
   "execution_count": 183,
   "id": "a534364e",
   "metadata": {},
   "outputs": [],
   "source": [
    "# indexError\n",
    "l.pop(10)"
   ]
  },
  {
   "cell_type": "code",
   "execution_count": 14,
   "id": "d8120d9b",
   "metadata": {},
   "outputs": [],
   "source": [
    "# 없는 index에 넣으면 append()가 된다\n",
    "l.insert(11) "
   ]
  },
  {
   "cell_type": "code",
   "execution_count": 15,
   "id": "e94e21ad",
   "metadata": {},
   "outputs": [
    {
     "name": "stdout",
     "output_type": "stream",
     "text": [
      "[1, 2, 3, 11]\n"
     ]
    }
   ],
   "source": [
    "print(l)"
   ]
  },
  {
   "cell_type": "markdown",
   "id": "5b28f033",
   "metadata": {
    "slideshow": {
     "slide_type": "slide"
    }
   },
   "source": [
    "# Tuple (튜플)\n",
    "- List와 같이 순서대로 원소들을 관리한다. 단 저장된 원소를 변경할 수 없다.\n",
    "- Tuple 은 각 위치(Index) 마다 정해진 의미가 있고 그 값이 한번 설정되면 바뀌지 않는 경우에 사용한다. \n",
    "    - Tuple은 값의 변경되지 않으므로 안전하다."
   ]
  },
  {
   "cell_type": "code",
   "execution_count": 184,
   "id": "b86d80ea",
   "metadata": {
    "slideshow": {
     "slide_type": "fragment"
    }
   },
   "outputs": [
    {
     "name": "stdout",
     "output_type": "stream",
     "text": [
      "<class 'tuple'>\n"
     ]
    }
   ],
   "source": [
    "# 생성\n",
    "## () 감싼다\n",
    "t1 = ( 10, 20, 30, 40, 50 ) \n",
    "print(type(t1))"
   ]
  },
  {
   "cell_type": "code",
   "execution_count": 185,
   "id": "6ddda460",
   "metadata": {
    "slideshow": {
     "slide_type": "fragment"
    }
   },
   "outputs": [
    {
     "name": "stdout",
     "output_type": "stream",
     "text": [
      "<class 'tuple'>\n"
     ]
    }
   ],
   "source": [
    "# ( ) 생략 가능\n",
    "t2 = 10, 20, 30, 40, 50, 60 \n",
    "print(type(t2))"
   ]
  },
  {
   "cell_type": "code",
   "execution_count": 186,
   "id": "20fc00da",
   "metadata": {
    "slideshow": {
     "slide_type": "fragment"
    }
   },
   "outputs": [
    {
     "name": "stdout",
     "output_type": "stream",
     "text": [
      "<class 'tuple'>\n"
     ]
    }
   ],
   "source": [
    "# ( ) 생략, 다른 타입을 모을수 있다\n",
    "t3 = 10, 5.2, True, 'abc' \n",
    "print(type(t3))"
   ]
  },
  {
   "cell_type": "code",
   "execution_count": 187,
   "id": "c3e11679",
   "metadata": {
    "slideshow": {
     "slide_type": "fragment"
    }
   },
   "outputs": [
    {
     "name": "stdout",
     "output_type": "stream",
     "text": [
      "<class 'int'>\n"
     ]
    }
   ],
   "source": [
    "# 원소가 1개인 Tuple\n",
    "## ,쉼표를 찍지 않아서 int 타입으로 나옴\n",
    "t4 = (30) \n",
    "print(type(t4))"
   ]
  },
  {
   "cell_type": "code",
   "execution_count": 188,
   "id": "17099a9e",
   "metadata": {
    "slideshow": {
     "slide_type": "fragment"
    }
   },
   "outputs": [
    {
     "name": "stdout",
     "output_type": "stream",
     "text": [
      "<class 'tuple'>\n"
     ]
    }
   ],
   "source": [
    "# ( ) 괄호생략가능 , 쉼표를 찍어야지 원소가 한개인 Tuple을 생성가능\n",
    "t5 = (30 ,) \n",
    "print(type(t5))"
   ]
  },
  {
   "cell_type": "markdown",
   "id": "16954356",
   "metadata": {
    "slideshow": {
     "slide_type": "slide"
    }
   },
   "source": [
    "## Indexing과 Slicing을 이용한 원소(element) 조회\n",
    "- 리스트와 동일하다.\n",
    "- 단 튜플은 조회만 가능하고 원소를 변경할 수 없다."
   ]
  },
  {
   "cell_type": "code",
   "execution_count": 189,
   "id": "204aeca8",
   "metadata": {
    "slideshow": {
     "slide_type": "fragment"
    }
   },
   "outputs": [],
   "source": [
    "t2 = 10, 20, 30, 40, 50, 60"
   ]
  },
  {
   "cell_type": "code",
   "execution_count": 190,
   "id": "aa007738",
   "metadata": {
    "slideshow": {
     "slide_type": "fragment"
    }
   },
   "outputs": [
    {
     "name": "stdout",
     "output_type": "stream",
     "text": [
      "(10, 20, 30, 40, 50, 60)\n"
     ]
    }
   ],
   "source": [
    "print(t2)"
   ]
  },
  {
   "cell_type": "code",
   "execution_count": 191,
   "id": "b0b7abf2",
   "metadata": {
    "slideshow": {
     "slide_type": "fragment"
    }
   },
   "outputs": [
    {
     "name": "stdout",
     "output_type": "stream",
     "text": [
      "10\n"
     ]
    }
   ],
   "source": [
    "# 앞에서 1번째 index\n",
    "print(t2[0])"
   ]
  },
  {
   "cell_type": "code",
   "execution_count": 192,
   "id": "d03735b2",
   "metadata": {
    "slideshow": {
     "slide_type": "fragment"
    }
   },
   "outputs": [
    {
     "name": "stdout",
     "output_type": "stream",
     "text": [
      "60 60\n"
     ]
    }
   ],
   "source": [
    "# 앞에서 5번째, 뒤에서 1번째 index\n",
    "print(t2[5], t2[-1]) "
   ]
  },
  {
   "cell_type": "code",
   "execution_count": 193,
   "id": "5be373b5",
   "metadata": {
    "slideshow": {
     "slide_type": "fragment"
    }
   },
   "outputs": [
    {
     "name": "stdout",
     "output_type": "stream",
     "text": [
      "(20, 30, 40, 50)\n"
     ]
    }
   ],
   "source": [
    "# 앞에서 1번째 ~ 5번째 index\n",
    "print(t2[ 1 : 5])"
   ]
  },
  {
   "cell_type": "code",
   "execution_count": 194,
   "id": "eb621afe",
   "metadata": {
    "slideshow": {
     "slide_type": "fragment"
    }
   },
   "outputs": [
    {
     "name": "stdout",
     "output_type": "stream",
     "text": [
      "(20, 30, 40)\n"
     ]
    }
   ],
   "source": [
    "# 앞에서 1번째 ~ 뒤에서 2번째 index\n",
    "print(t2[ 1 : -2 ])"
   ]
  },
  {
   "cell_type": "code",
   "execution_count": 195,
   "id": "a193273a",
   "metadata": {
    "slideshow": {
     "slide_type": "fragment"
    }
   },
   "outputs": [
    {
     "name": "stdout",
     "output_type": "stream",
     "text": [
      "(10, 40)\n"
     ]
    }
   ],
   "source": [
    "# 1번째 index ~ 끝까지, 간격: 3\n",
    "print(t2[ : : 3 ])"
   ]
  },
  {
   "cell_type": "code",
   "execution_count": 196,
   "id": "f2035fc4",
   "metadata": {
    "slideshow": {
     "slide_type": "fragment"
    }
   },
   "outputs": [
    {
     "name": "stdout",
     "output_type": "stream",
     "text": [
      "(60, 50, 40, 30, 20, 10)\n"
     ]
    }
   ],
   "source": [
    "# 역순\n",
    "print(t2[ : : -1 ]) "
   ]
  },
  {
   "cell_type": "code",
   "execution_count": 16,
   "id": "508aaf99",
   "metadata": {},
   "outputs": [],
   "source": [
    "# Tuple은 원소 변경 안됨 => Error\n",
    "t2[2] = 100"
   ]
  },
  {
   "cell_type": "markdown",
   "id": "135101f3",
   "metadata": {
    "slideshow": {
     "slide_type": "slide"
    }
   },
   "source": [
    "## Tuple 연산자\n",
    "- tuple + tuple\n",
    "    - 두 tuple의 원소들을 합친 tuple을 반환한다.\n",
    "- tuple * 정수\n",
    "    - 같은 tuple의 원소들을 정수번 합친 tuple를 반환한다.  \n",
    "- in, not in 연산자\n",
    "    - 값 in tuple\n",
    "        - tuple의 원소로 값이 **있으면** True, 없으면 False 반환\n",
    "    - 값 not in tuple\n",
    "        - tuple의 원소로 값이 **없으면** True, 있으면 False 반환    \n",
    "- len(tuple)\n",
    "    - tuple의 원소 개수 반환        "
   ]
  },
  {
   "cell_type": "code",
   "execution_count": 199,
   "id": "a0b53550",
   "metadata": {
    "slideshow": {
     "slide_type": "fragment"
    }
   },
   "outputs": [],
   "source": [
    "t1 = ( 10, 20, 30, 40, 50 )\n",
    "t2 = 10, 20, 30, 40, 50, 60"
   ]
  },
  {
   "cell_type": "code",
   "execution_count": 200,
   "id": "5b6f09a4",
   "metadata": {
    "slideshow": {
     "slide_type": "fragment"
    }
   },
   "outputs": [
    {
     "name": "stdout",
     "output_type": "stream",
     "text": [
      "(10, 20, 30, 40, 50, 10, 20, 30, 40, 50, 60)\n"
     ]
    }
   ],
   "source": [
    "r1 = t1 + t2\n",
    "print(r1)"
   ]
  },
  {
   "cell_type": "code",
   "execution_count": 201,
   "id": "9604c29c",
   "metadata": {
    "slideshow": {
     "slide_type": "fragment"
    }
   },
   "outputs": [
    {
     "name": "stdout",
     "output_type": "stream",
     "text": [
      "(10, 20, 30, 40, 50) (10, 20, 30, 40, 50, 60)\n"
     ]
    }
   ],
   "source": [
    "# 튜플 타입\n",
    "print(t1 , t2) "
   ]
  },
  {
   "cell_type": "code",
   "execution_count": 202,
   "id": "e1be7f70",
   "metadata": {
    "slideshow": {
     "slide_type": "fragment"
    }
   },
   "outputs": [
    {
     "name": "stdout",
     "output_type": "stream",
     "text": [
      "(10, 20, 30, 40, 50, 10, 20, 30, 40, 50, 10, 20, 30, 40, 50, 10, 20, 30, 40, 50, 10, 20, 30, 40, 50)\n"
     ]
    }
   ],
   "source": [
    "print( t1 * 5 )"
   ]
  },
  {
   "cell_type": "code",
   "execution_count": 203,
   "id": "176ba501",
   "metadata": {
    "slideshow": {
     "slide_type": "fragment"
    }
   },
   "outputs": [
    {
     "name": "stdout",
     "output_type": "stream",
     "text": [
      "True False\n"
     ]
    }
   ],
   "source": [
    "print(10 in t2, 100 in t2)"
   ]
  },
  {
   "cell_type": "code",
   "execution_count": 204,
   "id": "fe765a23",
   "metadata": {
    "slideshow": {
     "slide_type": "fragment"
    }
   },
   "outputs": [
    {
     "name": "stdout",
     "output_type": "stream",
     "text": [
      "False True\n"
     ]
    }
   ],
   "source": [
    "print(10 not in t2, 100 not in t2)"
   ]
  },
  {
   "cell_type": "code",
   "execution_count": null,
   "id": "df976ce9",
   "metadata": {
    "slideshow": {
     "slide_type": "fragment"
    }
   },
   "outputs": [],
   "source": [
    "t2 = 10, 20, 30, 40, 50, 60\n",
    "t3 = 10, 5.2, True, 'abc'"
   ]
  },
  {
   "cell_type": "code",
   "execution_count": 205,
   "id": "5903e00f",
   "metadata": {
    "slideshow": {
     "slide_type": "fragment"
    }
   },
   "outputs": [
    {
     "name": "stdout",
     "output_type": "stream",
     "text": [
      "6 4\n"
     ]
    }
   ],
   "source": [
    "print(len(t2), len(t3))"
   ]
  },
  {
   "cell_type": "markdown",
   "id": "6b602a99",
   "metadata": {
    "slideshow": {
     "slide_type": "slide"
    }
   },
   "source": [
    "## Tuple 대입\n",
    "- 튜플의 원소들을 각각 다른 변수에 대입하는 표현식.\n",
    "- 변수의 개수와 튜플의 원소 개수는 동일해야 한다."
   ]
  },
  {
   "cell_type": "code",
   "execution_count": 206,
   "id": "78d4e181",
   "metadata": {
    "slideshow": {
     "slide_type": "fragment"
    }
   },
   "outputs": [
    {
     "name": "stdout",
     "output_type": "stream",
     "text": [
      "10 a 5.7\n"
     ]
    }
   ],
   "source": [
    "# ( ) 생략함 , 변수와 값의 갯수가 똑같아야함\n",
    "v1, v2, v3 = 10, 'a', 5.7 \n",
    "print(v1,v2,v3)"
   ]
  },
  {
   "cell_type": "markdown",
   "id": "89803fdd",
   "metadata": {
    "slideshow": {
     "slide_type": "subslide"
    }
   },
   "source": [
    "## Tuple의 주요 메소드\n",
    "|메소드|설명|\n",
    "|:-|-|\n",
    "|index(찾을값 \\[, 시작index\\])|'찾을값'이 몇번 index인지 반환한다.|\n",
    "|count(값)|원소로 '값'이 몇개 있는지 반환한다.|"
   ]
  },
  {
   "cell_type": "code",
   "execution_count": 207,
   "id": "d6c23039",
   "metadata": {
    "slideshow": {
     "slide_type": "fragment"
    }
   },
   "outputs": [],
   "source": [
    "# 문법적으로는 ( ) 괄호를 사용\n",
    "t = 1, 2, 3, 4, 1, 2, 1, 2, 1, 1,"
   ]
  },
  {
   "cell_type": "code",
   "execution_count": 208,
   "id": "c3d1a2ab",
   "metadata": {
    "slideshow": {
     "slide_type": "fragment"
    }
   },
   "outputs": [
    {
     "name": "stdout",
     "output_type": "stream",
     "text": [
      "(1, 2, 3, 4, 1, 2, 1, 2, 1, 1)\n"
     ]
    }
   ],
   "source": [
    "print(t)"
   ]
  },
  {
   "cell_type": "code",
   "execution_count": 209,
   "id": "4155407c",
   "metadata": {
    "slideshow": {
     "slide_type": "fragment"
    }
   },
   "outputs": [
    {
     "name": "stdout",
     "output_type": "stream",
     "text": [
      "3\n"
     ]
    }
   ],
   "source": [
    "# 값 4의 인덱스 조회 \n",
    "print( t.index(4) ) "
   ]
  },
  {
   "cell_type": "code",
   "execution_count": 210,
   "id": "b60e39bc",
   "metadata": {
    "slideshow": {
     "slide_type": "fragment"
    }
   },
   "outputs": [
    {
     "name": "stdout",
     "output_type": "stream",
     "text": [
      "1\n"
     ]
    }
   ],
   "source": [
    "# 중복된 값의 index , 가장 먼저 있는 index 출력\n",
    "print( t.index(2)) "
   ]
  },
  {
   "cell_type": "code",
   "execution_count": 211,
   "id": "32ccd3b8",
   "metadata": {
    "slideshow": {
     "slide_type": "fragment"
    }
   },
   "outputs": [
    {
     "name": "stdout",
     "output_type": "stream",
     "text": [
      "5\n"
     ]
    }
   ],
   "source": [
    "# 찾을값 : 2,  시작index : 4 ( 찾기 시작위치 4번째 index )\n",
    "print( t.index( 2 , 4 )) "
   ]
  },
  {
   "cell_type": "code",
   "execution_count": 212,
   "id": "93a527af",
   "metadata": {
    "slideshow": {
     "slide_type": "fragment"
    }
   },
   "outputs": [
    {
     "name": "stdout",
     "output_type": "stream",
     "text": [
      "5\n"
     ]
    }
   ],
   "source": [
    "# 1이 몇개있는지\n",
    "print( t.count(1)) "
   ]
  },
  {
   "cell_type": "markdown",
   "id": "e6c196f5",
   "metadata": {
    "slideshow": {
     "slide_type": "slide"
    }
   },
   "source": [
    "# Dictionary\n",
    "- 값을 키(key)-값(value) 쌍으로 묶어서 저장하는 자료구조이다.\n",
    "    - 리스트나 튜플의 index의 역할을 하는 key를 직접 지정한다.\n",
    "    - 서로 의미가 다른 값들을 하나로 묶을 때 그 값의 의미를 key로 가질 수 있는 dictionary를 사용한다."
   ]
  },
  {
   "cell_type": "code",
   "execution_count": 213,
   "id": "af953c2c",
   "metadata": {
    "slideshow": {
     "slide_type": "fragment"
    }
   },
   "outputs": [
    {
     "name": "stdout",
     "output_type": "stream",
     "text": [
      "{'사과': 100, '배': 50, '수박': 60, '귤': 70}\n"
     ]
    }
   ],
   "source": [
    "# 물건의 개수\n",
    "fruit_counts = { '사과':100, '배':50, '수박':60, '귤':70 }\n",
    "print(fruit_counts)"
   ]
  },
  {
   "cell_type": "code",
   "execution_count": 214,
   "id": "9acf9be1",
   "metadata": {
    "slideshow": {
     "slide_type": "fragment"
    }
   },
   "outputs": [
    {
     "name": "stdout",
     "output_type": "stream",
     "text": [
      "{'name': '홍길동', 'nickname': '홍길동'}\n"
     ]
    }
   ],
   "source": [
    "# key는 중복 허용 안함 value는 중복 허용\n",
    "d = {'name':'홍길동','nickname':'홍길동'}\n",
    "print(d)"
   ]
  },
  {
   "cell_type": "code",
   "execution_count": 215,
   "id": "47cc9c2c",
   "metadata": {
    "slideshow": {
     "slide_type": "fragment"
    }
   },
   "outputs": [
    {
     "name": "stdout",
     "output_type": "stream",
     "text": [
      "{'name': '유재석'}\n"
     ]
    }
   ],
   "source": [
    "# 같은 key가 들어가면 마지막에 추가된 것만 남음 (변경)\n",
    "d1 = {'name':'홍길동','name':'박명수', 'name':'유재석'}\n",
    "print(d1) "
   ]
  },
  {
   "cell_type": "code",
   "execution_count": 216,
   "id": "d9d37f28",
   "metadata": {
    "slideshow": {
     "slide_type": "fragment"
    }
   },
   "outputs": [
    {
     "name": "stdout",
     "output_type": "stream",
     "text": [
      "{'id': 'id-1900', 'password': 'dlfwlssla', 'name': '홍길동'}\n"
     ]
    }
   ],
   "source": [
    "customer_info2 = dict(id='id-1900', password='dlfwlssla', name='홍길동')\n",
    "print(customer_info2)"
   ]
  },
  {
   "cell_type": "markdown",
   "id": "f8c87bd3",
   "metadata": {
    "slideshow": {
     "slide_type": "subslide"
    }
   },
   "source": [
    "## Dictionary 원소 조회 및 변경\n",
    "- 조회: index에 key값을 식별자로 지정한다.\n",
    "    - dictionary\\[ key \\]\n",
    "    - 없는 키로 조회 시 KeyError 발생\n",
    "- 변경\n",
    "    - dictionary\\[ key \\] = 값\n",
    "    - 있는 key값에 값을 대입하면 변경이고 없는 key 일 경우는 새로운 item을 추가하는 것이다."
   ]
  },
  {
   "cell_type": "code",
   "execution_count": 18,
   "id": "812c9b49",
   "metadata": {
    "slideshow": {
     "slide_type": "fragment"
    }
   },
   "outputs": [],
   "source": [
    "customer_info = { 'name':'홍길동', \n",
    "                 'age':20, \n",
    "                 'email':'abc@abc.com', \n",
    "                 'address':'서울',\n",
    "                 'hobby':['게임','스포츠']}"
   ]
  },
  {
   "cell_type": "code",
   "execution_count": 218,
   "id": "7bfa4296",
   "metadata": {
    "slideshow": {
     "slide_type": "fragment"
    }
   },
   "outputs": [
    {
     "name": "stdout",
     "output_type": "stream",
     "text": [
      "{'name': '홍길동', 'age': 20, 'email': 'abc@abc.com', 'address': '서울', 'hobby': ['게임', '스포츠']}\n"
     ]
    }
   ],
   "source": [
    "# 키 값은 무조건 문자열 '',\"\"\n",
    "print(customer_info)"
   ]
  },
  {
   "cell_type": "code",
   "execution_count": 219,
   "id": "45246682",
   "metadata": {
    "slideshow": {
     "slide_type": "fragment"
    }
   },
   "outputs": [
    {
     "name": "stdout",
     "output_type": "stream",
     "text": [
      "홍길동\n",
      "['게임', '스포츠']\n"
     ]
    }
   ],
   "source": [
    "# 이름 , 취미\n",
    "print(customer_info['name'])\n",
    "print(customer_info['hobby'])"
   ]
  },
  {
   "cell_type": "code",
   "execution_count": 220,
   "id": "916973e6",
   "metadata": {
    "slideshow": {
     "slide_type": "fragment"
    }
   },
   "outputs": [
    {
     "name": "stdout",
     "output_type": "stream",
     "text": [
      "게임\n"
     ]
    }
   ],
   "source": [
    "# 취미 2번쨰\n",
    "print(customer_info['hobby'][0])"
   ]
  },
  {
   "cell_type": "code",
   "execution_count": 221,
   "id": "db1bd70c",
   "metadata": {
    "slideshow": {
     "slide_type": "fragment"
    }
   },
   "outputs": [
    {
     "name": "stdout",
     "output_type": "stream",
     "text": [
      "{'name': '홍길동', 'age': 20, 'email': 'abc@abc.com', 'address': '서울', 'hobby': ['게임', '스포츠'], 'tall': 175.33}\n"
     ]
    }
   ],
   "source": [
    "# 추가 / 변경\n",
    "## item을 추가\n",
    "customer_info['tall'] = 175.33 # 없는 키 = 값 => 추가 가능\n",
    "print(customer_info)"
   ]
  },
  {
   "cell_type": "code",
   "execution_count": 222,
   "id": "459db630",
   "metadata": {
    "slideshow": {
     "slide_type": "fragment"
    }
   },
   "outputs": [
    {
     "name": "stdout",
     "output_type": "stream",
     "text": [
      "{'name': '홍길동', 'age': 30, 'email': 'abc@abc.com', 'address': '서울', 'hobby': ['게임', '스포츠'], 'tall': 175.33}\n"
     ]
    }
   ],
   "source": [
    "customer_info['age'] = 30\n",
    "print(customer_info) # 있는 Key에 값을 할당"
   ]
  },
  {
   "cell_type": "markdown",
   "id": "d5aade1e",
   "metadata": {
    "slideshow": {
     "slide_type": "slide"
    }
   },
   "source": [
    "## Dictionary 연산자\n",
    "\n",
    "- in, not in 연산자\n",
    "    - 값 in dictionary\n",
    "        - dictionary의 **Key**로 값이 **있으면** True, 없으면 False 반환\n",
    "    - 값 not in dictionary\n",
    "        - dictionary의 **Key**로 값이 **없으면** True, 있으면 False 반환    \n",
    "- len(dictionary)\n",
    "    - dictionary의 **Item의 개수** 반환        "
   ]
  },
  {
   "cell_type": "code",
   "execution_count": 19,
   "id": "ded5a2a9",
   "metadata": {
    "slideshow": {
     "slide_type": "fragment"
    }
   },
   "outputs": [
    {
     "name": "stdout",
     "output_type": "stream",
     "text": [
      "False\n"
     ]
    }
   ],
   "source": [
    "# in , not in 은 key가 있는지/없는지 여부\n",
    "# key가 아님\n",
    "print('홍길동' in customer_info) "
   ]
  },
  {
   "cell_type": "code",
   "execution_count": 20,
   "id": "be6ee9e3",
   "metadata": {
    "slideshow": {
     "slide_type": "fragment"
    }
   },
   "outputs": [
    {
     "name": "stdout",
     "output_type": "stream",
     "text": [
      "True\n"
     ]
    }
   ],
   "source": [
    "# key가 맞음\n",
    "print('name' in customer_info) "
   ]
  },
  {
   "cell_type": "code",
   "execution_count": 224,
   "id": "4a7c9061",
   "metadata": {
    "slideshow": {
     "slide_type": "fragment"
    }
   },
   "outputs": [
    {
     "name": "stdout",
     "output_type": "stream",
     "text": [
      "몸무게 없음\n"
     ]
    }
   ],
   "source": [
    "# weight 키가 있으면 조회\n",
    "if'weight' in customer_info:  \n",
    "    print(customer_info['weight']) \n",
    "# weight 키가 없으면 실행\n",
    "else:\n",
    "    print('몸무게 없음') "
   ]
  },
  {
   "cell_type": "markdown",
   "id": "9f620ec1",
   "metadata": {
    "slideshow": {
     "slide_type": "slide"
    }
   },
   "source": [
    "## Dictionary 주요 메소드\n"
   ]
  },
  {
   "cell_type": "code",
   "execution_count": 225,
   "id": "b2220db1",
   "metadata": {
    "slideshow": {
     "slide_type": "fragment"
    }
   },
   "outputs": [
    {
     "name": "stdout",
     "output_type": "stream",
     "text": [
      "{'name': '홍길동', 'age': 30, 'email': 'abc@abc.com', 'address': '서울', 'hobby': ['게임', '스포츠'], 'tall': 175.33}\n"
     ]
    }
   ],
   "source": [
    "print(customer_info)"
   ]
  },
  {
   "cell_type": "code",
   "execution_count": null,
   "id": "aea7e7ff",
   "metadata": {
    "slideshow": {
     "slide_type": "fragment"
    }
   },
   "outputs": [],
   "source": [
    "# 없는 키 에러\n",
    "print(customer_info['weight']) "
   ]
  },
  {
   "cell_type": "code",
   "execution_count": 226,
   "id": "0dbcb043",
   "metadata": {
    "slideshow": {
     "slide_type": "fragment"
    }
   },
   "outputs": [
    {
     "name": "stdout",
     "output_type": "stream",
     "text": [
      "None\n"
     ]
    }
   ],
   "source": [
    "# 없는 키는 None을 반환 \n",
    "print(customer_info.get('weight')) "
   ]
  },
  {
   "cell_type": "code",
   "execution_count": 227,
   "id": "b25d0135",
   "metadata": {
    "slideshow": {
     "slide_type": "fragment"
    }
   },
   "outputs": [
    {
     "name": "stdout",
     "output_type": "stream",
     "text": [
      "-1\n"
     ]
    }
   ],
   "source": [
    "# -1 : deaoult 값 (weight 키가 없으면 반환할 값)\n",
    "print(customer_info.get('weight', -1)) "
   ]
  },
  {
   "cell_type": "code",
   "execution_count": 228,
   "id": "350e7ad5",
   "metadata": {
    "slideshow": {
     "slide_type": "fragment"
    }
   },
   "outputs": [
    {
     "name": "stdout",
     "output_type": "stream",
     "text": [
      "서울 {'name': '홍길동', 'age': 30, 'email': 'abc@abc.com', 'hobby': ['게임', '스포츠'], 'tall': 175.33}\n"
     ]
    }
   ],
   "source": [
    "# address의 값을 반환하면서 제거\n",
    "v = customer_info.pop('address') \n",
    "print(v, customer_info)"
   ]
  },
  {
   "cell_type": "code",
   "execution_count": 229,
   "id": "449c9c19",
   "metadata": {},
   "outputs": [],
   "source": [
    "# 삭제\n",
    "del customer_info['email'] "
   ]
  },
  {
   "cell_type": "code",
   "execution_count": 230,
   "id": "3b35a60c",
   "metadata": {},
   "outputs": [
    {
     "name": "stdout",
     "output_type": "stream",
     "text": [
      "{'name': '홍길동', 'age': 30, 'hobby': ['게임', '스포츠'], 'tall': 175.33}\n"
     ]
    }
   ],
   "source": [
    "print(customer_info)"
   ]
  },
  {
   "cell_type": "code",
   "execution_count": 231,
   "id": "d5530aa7",
   "metadata": {},
   "outputs": [
    {
     "name": "stdout",
     "output_type": "stream",
     "text": [
      "dict_keys(['name', 'age', 'hobby', 'tall'])\n"
     ]
    }
   ],
   "source": [
    "# key 값들만 모아서 반환\n",
    "print(customer_info.keys()) "
   ]
  },
  {
   "cell_type": "code",
   "execution_count": 232,
   "id": "7f128cf8",
   "metadata": {},
   "outputs": [
    {
     "name": "stdout",
     "output_type": "stream",
     "text": [
      "dict_values(['홍길동', 30, ['게임', '스포츠'], 175.33])\n"
     ]
    }
   ],
   "source": [
    "# value들만 모아서 반환\n",
    "print(customer_info.values()) "
   ]
  },
  {
   "cell_type": "code",
   "execution_count": 233,
   "id": "9df21fbb",
   "metadata": {},
   "outputs": [
    {
     "name": "stdout",
     "output_type": "stream",
     "text": [
      "dict_items([('name', '홍길동'), ('age', 30), ('hobby', ['게임', '스포츠']), ('tall', 175.33)])\n"
     ]
    }
   ],
   "source": [
    "# key, value를 묶어서 반환\n",
    "print(customer_info.items()) "
   ]
  },
  {
   "cell_type": "code",
   "execution_count": 234,
   "id": "135f1961",
   "metadata": {},
   "outputs": [],
   "source": [
    "# 다 지움\n",
    "customer_info.clear() "
   ]
  },
  {
   "cell_type": "code",
   "execution_count": 235,
   "id": "5bb22fd7",
   "metadata": {},
   "outputs": [
    {
     "name": "stdout",
     "output_type": "stream",
     "text": [
      "{}\n"
     ]
    }
   ],
   "source": [
    "print(customer_info)"
   ]
  },
  {
   "cell_type": "markdown",
   "id": "d97869af",
   "metadata": {
    "slideshow": {
     "slide_type": "slide"
    }
   },
   "source": [
    "# Set \n",
    "\n",
    "- Set은 중복되는 값을 허용하지 않고 순서를 신경 쓰지 않는다.\n",
    "    - 원소를 식별할 수 있는 식별자가 없기 때문에 Set은 indexing과 slicing을 지원하지 않는다"
   ]
  },
  {
   "cell_type": "code",
   "execution_count": 236,
   "id": "e95cb86d",
   "metadata": {
    "slideshow": {
     "slide_type": "fragment"
    }
   },
   "outputs": [
    {
     "name": "stdout",
     "output_type": "stream",
     "text": [
      "{1, 2, 3, 4, 5}\n"
     ]
    }
   ],
   "source": [
    "s1 = {1, 2, 3, 4, 5,}\n",
    "print(s1)"
   ]
  },
  {
   "cell_type": "code",
   "execution_count": 237,
   "id": "5ae95122",
   "metadata": {
    "slideshow": {
     "slide_type": "fragment"
    }
   },
   "outputs": [
    {
     "name": "stdout",
     "output_type": "stream",
     "text": [
      "{1, 2, 3, 4, 5}\n"
     ]
    }
   ],
   "source": [
    "# 중복된 값 제거 , 순서 상관없이 출력\n",
    "s2 = {1, 1, 1, 1, 1, 2, 2, 2, 3, 3, 3, 4, 4, 5, 5, 5} \n",
    "print(s2)"
   ]
  },
  {
   "cell_type": "code",
   "execution_count": null,
   "id": "5c88480a",
   "metadata": {
    "slideshow": {
     "slide_type": "fragment"
    }
   },
   "outputs": [],
   "source": [
    "# 개별 원소를 조회할수 없다\n",
    "print(s2[0]) "
   ]
  },
  {
   "cell_type": "markdown",
   "id": "79cf0f20",
   "metadata": {
    "slideshow": {
     "slide_type": "slide"
    }
   },
   "source": [
    "## Set 연산자\n",
    "\n",
    "- in, not in 연산자\n",
    "    - 값 in Set\n",
    "        - Set의 원소로 값이 **있으면** True, 없으면 False 반환\n",
    "    - 값 not in Set\n",
    "        - Set의 원소로 값이 **없으면** True, 있으면 False 반환    \n",
    "- len(Set)\n",
    "    - Set의 **원소의 개수** 반환        "
   ]
  },
  {
   "cell_type": "code",
   "execution_count": 238,
   "id": "d0c3020d",
   "metadata": {
    "slideshow": {
     "slide_type": "fragment"
    }
   },
   "outputs": [],
   "source": [
    "s2 = {1, 1, 1, 1, 1, 2, 2, 2, 3, 3, 3, 4, 4, 5, 5, 5}"
   ]
  },
  {
   "cell_type": "code",
   "execution_count": 239,
   "id": "e27b36ee",
   "metadata": {
    "slideshow": {
     "slide_type": "fragment"
    }
   },
   "outputs": [
    {
     "name": "stdout",
     "output_type": "stream",
     "text": [
      "False\n"
     ]
    }
   ],
   "source": [
    "print(10 in s2)"
   ]
  },
  {
   "cell_type": "code",
   "execution_count": 240,
   "id": "bf04762e",
   "metadata": {
    "slideshow": {
     "slide_type": "fragment"
    }
   },
   "outputs": [
    {
     "name": "stdout",
     "output_type": "stream",
     "text": [
      "True\n"
     ]
    }
   ],
   "source": [
    "print(1 in s2)"
   ]
  },
  {
   "cell_type": "code",
   "execution_count": 241,
   "id": "43d1e7c2",
   "metadata": {
    "slideshow": {
     "slide_type": "fragment"
    }
   },
   "outputs": [
    {
     "name": "stdout",
     "output_type": "stream",
     "text": [
      "True False\n"
     ]
    }
   ],
   "source": [
    "print(10 not in s2, 1 not in s2)"
   ]
  },
  {
   "cell_type": "code",
   "execution_count": 242,
   "id": "80be18ad",
   "metadata": {
    "slideshow": {
     "slide_type": "fragment"
    }
   },
   "outputs": [
    {
     "name": "stdout",
     "output_type": "stream",
     "text": [
      "5\n"
     ]
    }
   ],
   "source": [
    "print(len(s2))"
   ]
  },
  {
   "cell_type": "markdown",
   "id": "080c2a17",
   "metadata": {
    "slideshow": {
     "slide_type": "slide"
    }
   },
   "source": [
    "## Set의 주요 메소드\n"
   ]
  },
  {
   "cell_type": "code",
   "execution_count": 243,
   "id": "1ccfcd69",
   "metadata": {
    "slideshow": {
     "slide_type": "fragment"
    }
   },
   "outputs": [],
   "source": [
    "s2 = {1, 1, 1, 1, 1, 2, 2, 2, 3, 3, 3, 4, 4, 5, 5, 5}"
   ]
  },
  {
   "cell_type": "code",
   "execution_count": 244,
   "id": "0197b38c",
   "metadata": {
    "slideshow": {
     "slide_type": "fragment"
    }
   },
   "outputs": [
    {
     "name": "stdout",
     "output_type": "stream",
     "text": [
      "None\n",
      "{1, 2, 3, 4, 5, 6}\n"
     ]
    }
   ],
   "source": [
    "# 추가\n",
    "print(s2.add(6)) \n",
    "print(s2)"
   ]
  },
  {
   "cell_type": "code",
   "execution_count": 245,
   "id": "591a6b8c",
   "metadata": {
    "slideshow": {
     "slide_type": "fragment"
    }
   },
   "outputs": [
    {
     "name": "stdout",
     "output_type": "stream",
     "text": [
      "{1, 2, 3, 4, 5, 6, 10, 20, 30, 40}\n"
     ]
    }
   ],
   "source": [
    "# 여러가지 값 추가\n",
    "s2.update([10, 20, 30,40]) \n",
    "print(s2)"
   ]
  },
  {
   "cell_type": "code",
   "execution_count": 246,
   "id": "547c6413",
   "metadata": {
    "slideshow": {
     "slide_type": "fragment"
    }
   },
   "outputs": [
    {
     "name": "stdout",
     "output_type": "stream",
     "text": [
      "{1, 2, 3, 4, 5, 6, 200, 10, 20, 30, 100, 40, 300}\n"
     ]
    }
   ],
   "source": [
    "# 있는 값은 중복되서 추가안됨\n",
    "s2.update([100, 200, 300, 10, 20, 30, 40]) \n",
    "print(s2)"
   ]
  },
  {
   "cell_type": "code",
   "execution_count": 247,
   "id": "2f19ab3c",
   "metadata": {
    "slideshow": {
     "slide_type": "fragment"
    }
   },
   "outputs": [],
   "source": [
    "# 1번째 index 반환후 삭제\n",
    "v = s2.pop()"
   ]
  },
  {
   "cell_type": "code",
   "execution_count": 248,
   "id": "e7c9a701",
   "metadata": {
    "slideshow": {
     "slide_type": "fragment"
    }
   },
   "outputs": [
    {
     "name": "stdout",
     "output_type": "stream",
     "text": [
      "1\n"
     ]
    }
   ],
   "source": [
    "print(v)"
   ]
  },
  {
   "cell_type": "code",
   "execution_count": 249,
   "id": "b12f08b0",
   "metadata": {
    "slideshow": {
     "slide_type": "fragment"
    }
   },
   "outputs": [
    {
     "name": "stdout",
     "output_type": "stream",
     "text": [
      "{2, 3, 4, 5, 6, 200, 10, 20, 30, 100, 40, 300}\n"
     ]
    }
   ],
   "source": [
    "print(s2)"
   ]
  },
  {
   "cell_type": "code",
   "execution_count": 250,
   "id": "18e914ac",
   "metadata": {},
   "outputs": [],
   "source": [
    "# 없는 값 삭제 -> 예외(Exception) 발생\n",
    "s2.remove(20) "
   ]
  },
  {
   "cell_type": "code",
   "execution_count": 251,
   "id": "3d70a970",
   "metadata": {},
   "outputs": [
    {
     "name": "stdout",
     "output_type": "stream",
     "text": [
      "{2, 3, 4, 5, 6, 200, 10, 30, 100, 40, 300}\n"
     ]
    }
   ],
   "source": [
    "print(s2)"
   ]
  },
  {
   "cell_type": "markdown",
   "id": "33d115cd",
   "metadata": {
    "slideshow": {
     "slide_type": "subslide"
    }
   },
   "source": [
    "## Set의 집합연산 연산자 및 메소드\n",
    "\n",
    "- 합집합\n",
    "    - 집합A | 집합B\n",
    "    - 집합A.union(집합B)\n",
    "- 교집합\n",
    "    - 집합A & 집합B\n",
    "    - 집합A.intersection(집합B)\n",
    "- 차집합\n",
    "    - 집합A - 집합B\n",
    "    - 집합A.difference(집합B)"
   ]
  },
  {
   "cell_type": "code",
   "execution_count": 252,
   "id": "918c216e",
   "metadata": {
    "slideshow": {
     "slide_type": "fragment"
    }
   },
   "outputs": [
    {
     "name": "stdout",
     "output_type": "stream",
     "text": [
      "{1, 2, 3, 4, 5}\n",
      "{4, 5, 6, 7, 8}\n"
     ]
    }
   ],
   "source": [
    "set1 = {1, 2, 3, 4, 5}\n",
    "set2 = {4, 5, 6, 7, 8}\n",
    "print(set1)\n",
    "print(set2)"
   ]
  },
  {
   "cell_type": "code",
   "execution_count": 253,
   "id": "b5077881",
   "metadata": {
    "slideshow": {
     "slide_type": "fragment"
    }
   },
   "outputs": [
    {
     "name": "stdout",
     "output_type": "stream",
     "text": [
      "{1, 2, 3, 4, 5, 6, 7, 8}\n"
     ]
    }
   ],
   "source": [
    "# 합집합\n",
    "## set1 , set2 두 set을 합친 새로운 set 반환\n",
    "set3 = set1 | set2 \n",
    "# set = set1.union(set2)\n",
    "print(set3)"
   ]
  },
  {
   "cell_type": "code",
   "execution_count": 254,
   "id": "f3d31999",
   "metadata": {
    "slideshow": {
     "slide_type": "fragment"
    }
   },
   "outputs": [
    {
     "name": "stdout",
     "output_type": "stream",
     "text": [
      "{4, 5}\n"
     ]
    }
   ],
   "source": [
    "# 교집합\n",
    "set4 = set1 & set2\n",
    "# set4 = set1. intersection(set2)\n",
    "print(set4)"
   ]
  },
  {
   "cell_type": "code",
   "execution_count": 255,
   "id": "64bf5839",
   "metadata": {
    "slideshow": {
     "slide_type": "fragment"
    }
   },
   "outputs": [
    {
     "name": "stdout",
     "output_type": "stream",
     "text": [
      "{1, 2, 3}\n"
     ]
    }
   ],
   "source": [
    "set5 = set1 - set2\n",
    "# set5 = set1.difference(set2)\n",
    "print(set5)"
   ]
  },
  {
   "cell_type": "markdown",
   "id": "a3778f41",
   "metadata": {
    "slideshow": {
     "slide_type": "slide"
    }
   },
   "source": [
    "# 자료구조 변환 함수\n",
    "\n",
    "- list(자료구조)\n",
    "    - 대상 자료구조/Iterable을 List로 변환한다.\n",
    "- tuple(자료구조)\n",
    "    - 대상 자료구조/Iterable을 Tuple로 변환\n",
    "- set(자료구조)\n",
    "    - 대상 자료구조/Iterable을 Set으로 변환\n",
    "    - 다른 자료구조의 원소 중 중복을 빼고 조회할 때 set()를 이용해 Set으로 변환한다.\n",
    "- Dictionary로 변환하는 함수는 없다.\n",
    "- 변경할 대상이 Dictionary 일 경우에는 key값들만 모아서 변환한다.\n"
   ]
  },
  {
   "cell_type": "code",
   "execution_count": 256,
   "id": "6ef9766f",
   "metadata": {
    "slideshow": {
     "slide_type": "fragment"
    }
   },
   "outputs": [
    {
     "name": "stdout",
     "output_type": "stream",
     "text": [
      "[1, 1, 1, 1, 2, 2, 2, 2, 3, 3, 4, 5, 5]\n"
     ]
    }
   ],
   "source": [
    "v = [1, 1, 1, 1, 2, 2, 2, 2, 3, 3, 4, 5, 5]\n",
    "print(v)"
   ]
  },
  {
   "cell_type": "code",
   "execution_count": 257,
   "id": "ed2a5adb",
   "metadata": {
    "slideshow": {
     "slide_type": "fragment"
    }
   },
   "outputs": [
    {
     "name": "stdout",
     "output_type": "stream",
     "text": [
      "{1, 2, 3, 4, 5}\n",
      "[1, 1, 1, 1, 2, 2, 2, 2, 3, 3, 4, 5, 5]\n"
     ]
    }
   ],
   "source": [
    "# v 가 무슨 값들로 구성되어 있는지 확인\n",
    "print(set(v))\n",
    "print(v)"
   ]
  },
  {
   "cell_type": "code",
   "execution_count": 258,
   "id": "deb3ccc2",
   "metadata": {
    "slideshow": {
     "slide_type": "fragment"
    }
   },
   "outputs": [],
   "source": [
    "t = (1, 2, 3, 4, 5)"
   ]
  },
  {
   "cell_type": "code",
   "execution_count": 259,
   "id": "5f17c0bc",
   "metadata": {
    "slideshow": {
     "slide_type": "fragment"
    }
   },
   "outputs": [
    {
     "name": "stdout",
     "output_type": "stream",
     "text": [
      "[1, 2, 3, 4, 5]\n"
     ]
    }
   ],
   "source": [
    "# t에 100을 추가 : tuple -> list -> 값 추가 -> tuple\n",
    "## l 에 t를 넣어서 리스트를 만듬\n",
    "l = list(t) \n",
    "print(l)"
   ]
  },
  {
   "cell_type": "code",
   "execution_count": 260,
   "id": "a7e39cb7",
   "metadata": {
    "slideshow": {
     "slide_type": "fragment"
    }
   },
   "outputs": [
    {
     "name": "stdout",
     "output_type": "stream",
     "text": [
      "[1, 2, 3, 4, 5, 100]\n"
     ]
    }
   ],
   "source": [
    "# list 에 100을 추가 \n",
    "l.append(100) \n",
    "print(l)"
   ]
  },
  {
   "cell_type": "code",
   "execution_count": 261,
   "id": "51c85544",
   "metadata": {
    "slideshow": {
     "slide_type": "fragment"
    }
   },
   "outputs": [
    {
     "name": "stdout",
     "output_type": "stream",
     "text": [
      "(1, 2, 3, 4, 5, 100)\n"
     ]
    }
   ],
   "source": [
    "# l을 tuple로 만들어서 t에 넣음\n",
    "t = tuple(l) \n",
    "print(t)"
   ]
  },
  {
   "cell_type": "code",
   "execution_count": 263,
   "id": "35ee8732",
   "metadata": {
    "slideshow": {
     "slide_type": "fragment"
    }
   },
   "outputs": [
    {
     "name": "stdout",
     "output_type": "stream",
     "text": [
      "{'A': 10, 'B': 20, 'C': 30}\n"
     ]
    }
   ],
   "source": [
    "d = {'A':10, 'B':20, 'C':30}\n",
    "print(d)"
   ]
  },
  {
   "cell_type": "code",
   "execution_count": 264,
   "id": "fda6a5fb",
   "metadata": {
    "slideshow": {
     "slide_type": "fragment"
    }
   },
   "outputs": [
    {
     "name": "stdout",
     "output_type": "stream",
     "text": [
      "{'A', 'C', 'B'}\n"
     ]
    }
   ],
   "source": [
    "# set로 변경\n",
    "print(set(d)) "
   ]
  },
  {
   "cell_type": "code",
   "execution_count": 265,
   "id": "baeeb701",
   "metadata": {
    "slideshow": {
     "slide_type": "fragment"
    }
   },
   "outputs": [
    {
     "name": "stdout",
     "output_type": "stream",
     "text": [
      "['A', 'B', 'C']\n"
     ]
    }
   ],
   "source": [
    "# list로 변경\n",
    "print(list(d)) "
   ]
  },
  {
   "cell_type": "code",
   "execution_count": 266,
   "id": "d5005afc",
   "metadata": {
    "slideshow": {
     "slide_type": "fragment"
    }
   },
   "outputs": [
    {
     "name": "stdout",
     "output_type": "stream",
     "text": [
      "('A', 'B', 'C')\n"
     ]
    }
   ],
   "source": [
    "# tuple로 변경\n",
    "print(tuple(d)) "
   ]
  },
  {
   "cell_type": "code",
   "execution_count": 267,
   "id": "f43d4a2c",
   "metadata": {
    "slideshow": {
     "slide_type": "fragment"
    }
   },
   "outputs": [
    {
     "name": "stdout",
     "output_type": "stream",
     "text": [
      "['안', '녕', '하', '세', '요', '.']\n"
     ]
    }
   ],
   "source": [
    "# 문자열 : 문자를 모아놓은 iterable\n",
    "print(list('안녕하세요.'))"
   ]
  },
  {
   "cell_type": "code",
   "execution_count": 268,
   "id": "33b632dd",
   "metadata": {
    "slideshow": {
     "slide_type": "fragment"
    }
   },
   "outputs": [
    {
     "name": "stdout",
     "output_type": "stream",
     "text": [
      "{'s', 'e', 'a', 'd', 'c', 'b'}\n"
     ]
    }
   ],
   "source": [
    "print(set('aaaaaabbbcccccddddedacse')) "
   ]
  },
  {
   "cell_type": "code",
   "execution_count": 269,
   "id": "0b12b76e",
   "metadata": {
    "slideshow": {
     "slide_type": "fragment"
    }
   },
   "outputs": [
    {
     "name": "stdout",
     "output_type": "stream",
     "text": [
      "('안', '녕', '하', '세', '요', '.')\n"
     ]
    }
   ],
   "source": [
    "print(tuple('안녕하세요.'))"
   ]
  },
  {
   "cell_type": "code",
   "execution_count": 270,
   "id": "0233ff0d",
   "metadata": {
    "slideshow": {
     "slide_type": "fragment"
    }
   },
   "outputs": [
    {
     "name": "stdout",
     "output_type": "stream",
     "text": [
      "['배', '사과', '귤', '수박', '복숭아']\n"
     ]
    }
   ],
   "source": [
    "r = '배 사과 귤 수박 복숭아'.split()\n",
    "print(r)"
   ]
  },
  {
   "cell_type": "code",
   "execution_count": 271,
   "id": "b1fd2306",
   "metadata": {
    "slideshow": {
     "slide_type": "fragment"
    }
   },
   "outputs": [
    {
     "name": "stdout",
     "output_type": "stream",
     "text": [
      "배사과귤수박복숭아\n"
     ]
    }
   ],
   "source": [
    "# '합칠때 사용할 구분문자열'.join(리스트) -> 리스트의 문자열 원소들을 하나의 문자열로 합친다.\n",
    "print(''.join(r)) "
   ]
  },
  {
   "cell_type": "code",
   "execution_count": 272,
   "id": "07fd6373",
   "metadata": {
    "slideshow": {
     "slide_type": "fragment"
    }
   },
   "outputs": [
    {
     "name": "stdout",
     "output_type": "stream",
     "text": [
      "배-사과-귤-수박-복숭아\n"
     ]
    }
   ],
   "source": [
    "print('-'.join(r))"
   ]
  },
  {
   "cell_type": "markdown",
   "id": "5a6650e8",
   "metadata": {
    "slideshow": {
     "slide_type": "skip"
    }
   },
   "source": [
    "# 실습예제"
   ]
  },
  {
   "cell_type": "code",
   "execution_count": 273,
   "id": "06dbb387",
   "metadata": {
    "slideshow": {
     "slide_type": "skip"
    }
   },
   "outputs": [],
   "source": [
    "# 문제 1 ~ 7\n",
    "jumsu = [100, 90, 100, 80, 70, 100, 80, 90, 95, 85] \n",
    "# 위 리스트는 학생번호 1번 ~ 10번까지 10명의 시험 점수이다. "
   ]
  },
  {
   "cell_type": "code",
   "execution_count": 274,
   "id": "591e9efa",
   "metadata": {
    "slideshow": {
     "slide_type": "skip"
    }
   },
   "outputs": [
    {
     "name": "stdout",
     "output_type": "stream",
     "text": [
      "80\n"
     ]
    }
   ],
   "source": [
    "#(1)  7번의 점수를 출력하세요 \n",
    "print(jumsu[6])"
   ]
  },
  {
   "cell_type": "code",
   "execution_count": 275,
   "id": "699d5fab",
   "metadata": {
    "slideshow": {
     "slide_type": "skip"
    }
   },
   "outputs": [
    {
     "name": "stdout",
     "output_type": "stream",
     "text": [
      "[100, 90, 100, 80, 70]\n"
     ]
    }
   ],
   "source": [
    "#(2)  1번부터 5번까지의 점수를 출력하세요.\n",
    "print(jumsu[ : 5])"
   ]
  },
  {
   "cell_type": "code",
   "execution_count": 276,
   "id": "939cfc6a",
   "metadata": {
    "slideshow": {
     "slide_type": "skip"
    }
   },
   "outputs": [
    {
     "name": "stdout",
     "output_type": "stream",
     "text": [
      "[80, 70, 100, 80]\n"
     ]
    }
   ],
   "source": [
    "#(3)  4, 5, 6, 7번의 점수를 출력하세요.\n",
    "print(jumsu[ 3 : 7] )"
   ]
  },
  {
   "cell_type": "code",
   "execution_count": 277,
   "id": "40489982",
   "metadata": {
    "slideshow": {
     "slide_type": "skip"
    }
   },
   "outputs": [
    {
     "name": "stdout",
     "output_type": "stream",
     "text": [
      "[90, 80, 100, 90, 85]\n"
     ]
    }
   ],
   "source": [
    "#(4) 짝수번째 점수를 출력하세요.\n",
    "print(jumsu[ 1 :: 2])"
   ]
  },
  {
   "cell_type": "code",
   "execution_count": 278,
   "id": "c18d1f41",
   "metadata": {
    "slideshow": {
     "slide_type": "skip"
    }
   },
   "outputs": [
    {
     "name": "stdout",
     "output_type": "stream",
     "text": [
      "[100, 100, 70, 80, 95]\n"
     ]
    }
   ],
   "source": [
    "#(5) 홀수번째 점수를 출력하세요.\n",
    "print(jumsu[ : : 2 ] )"
   ]
  },
  {
   "cell_type": "code",
   "execution_count": 279,
   "id": "d520daed",
   "metadata": {
    "slideshow": {
     "slide_type": "skip"
    }
   },
   "outputs": [
    {
     "name": "stdout",
     "output_type": "stream",
     "text": [
      "[100, 90, 100, 80, 70, 100, 80, 90, 20, 85]\n"
     ]
    }
   ],
   "source": [
    "#(6) 9번의 점수를 20으로 변경하고 전체 출력하세요.\n",
    "jumsu[-2] = 20\n",
    "print(jumsu)"
   ]
  },
  {
   "cell_type": "code",
   "execution_count": 281,
   "id": "ad41739d",
   "metadata": {
    "slideshow": {
     "slide_type": "skip"
    }
   },
   "outputs": [
    {
     "name": "stdout",
     "output_type": "stream",
     "text": [
      "[100, 90, 100, 80, 70, 100, 80, 90, 20, 85]\n"
     ]
    }
   ],
   "source": [
    "#(7) 중복된 점수는 제거하고 하나씩만 나오도록 출력하세요.\n",
    "# list를 set 으로 바꾸면서 set의 중복된 값 제거\n",
    "set(jumsu) \n",
    "print(jumsu)\n",
    "# list(set(jumsu)) # set()으로 중복을 제거 하고 그 결과를 리스트로 변환"
   ]
  },
  {
   "cell_type": "code",
   "execution_count": 286,
   "id": "37241287",
   "metadata": {
    "slideshow": {
     "slide_type": "skip"
    }
   },
   "outputs": [],
   "source": [
    "# 문제 8 ~ 9\n",
    "fruits = [\"복숭아\", \"수박\", \"딸기\"]"
   ]
  },
  {
   "cell_type": "code",
   "execution_count": 287,
   "id": "4ac5b9ec",
   "metadata": {
    "slideshow": {
     "slide_type": "skip"
    }
   },
   "outputs": [
    {
     "name": "stdout",
     "output_type": "stream",
     "text": [
      "['복숭아', '수박', '딸기', '사과', '귤']\n"
     ]
    }
   ],
   "source": [
    "#(8) fruits 리스트에 마지막 원소로 \"사과\", \"귤\"을 추가하세요.\n",
    "fruits.append(\"사과\")\n",
    "fruits.append(\"귤\")\n",
    "# fruits.extend(['사과','귤']) # 동시에 추가할때 .extend([])\n",
    "print(fruits)"
   ]
  },
  {
   "cell_type": "code",
   "execution_count": 288,
   "id": "92fc89cd",
   "metadata": {
    "slideshow": {
     "slide_type": "skip"
    }
   },
   "outputs": [
    {
     "name": "stdout",
     "output_type": "stream",
     "text": [
      "['수박', '딸기', '사과', '귤']\n"
     ]
    }
   ],
   "source": [
    "#(9) fruits 리스트에서 \"복숭아\"를 제거하세요.\n",
    "# del , pop 메소드 사용 가능\n",
    "fruits.remove(\"복숭아\")\n",
    "print(fruits)"
   ]
  },
  {
   "cell_type": "code",
   "execution_count": 289,
   "id": "7bbd8940",
   "metadata": {
    "slideshow": {
     "slide_type": "skip"
    }
   },
   "outputs": [
    {
     "name": "stdout",
     "output_type": "stream",
     "text": [
      "{'이름': '홍길동', '나이': 25, 'email주소': 'a@a.com', '취미': ['음악', '스포츠'], '결혼여부': False}\n"
     ]
    }
   ],
   "source": [
    "# 문제 10 ~ 15\n",
    "#(10)본인의 이름, 나이, email주소, 취미, 결혼유무를 사전(딕셔너리)으로 생성. \n",
    "# 취미는 2개 이상의 값을 넣는다..\n",
    "person = dict( 이름='홍길동', 나이=25, email주소='a@a.com', 취미=['음악','스포츠'], 결혼여부=False )\n",
    "print(person)"
   ]
  },
  {
   "cell_type": "code",
   "execution_count": 290,
   "id": "f76f0d8d",
   "metadata": {
    "slideshow": {
     "slide_type": "skip"
    }
   },
   "outputs": [
    {
     "name": "stdout",
     "output_type": "stream",
     "text": [
      "홍길동\n",
      "a@a.com\n"
     ]
    }
   ],
   "source": [
    "#(11) 위 딕셔너리에서 이름과 email주소를 조회해서 출력하세요.\n",
    "print(person['이름'])\n",
    "print(person['email주소'])"
   ]
  },
  {
   "cell_type": "code",
   "execution_count": 291,
   "id": "c44d06ad",
   "metadata": {
    "slideshow": {
     "slide_type": "skip"
    }
   },
   "outputs": [
    {
     "name": "stdout",
     "output_type": "stream",
     "text": [
      "스포츠\n"
     ]
    }
   ],
   "source": [
    "#(12) 위 딕셔너리에서 취미중 두번째 취미를 조회해서 출력하세요.\n",
    "print(person['취미'][1])"
   ]
  },
  {
   "cell_type": "code",
   "execution_count": 292,
   "id": "d4962728",
   "metadata": {
    "slideshow": {
     "slide_type": "skip"
    }
   },
   "outputs": [
    {
     "name": "stdout",
     "output_type": "stream",
     "text": [
      "{'이름': '홍길동', '나이': 25, 'email주소': 'a@a.com', '취미': ['음악', '스포츠'], '결혼여부': False, '몸무게': 80, '키': 175}\n"
     ]
    }
   ],
   "source": [
    "#(13) 위 딕셔너리에 몸무게와 키 항목을 추가하세요.\n",
    "person['몸무게'] = 80\n",
    "person['키'] = 175\n",
    "print(person)"
   ]
  },
  {
   "cell_type": "code",
   "execution_count": 293,
   "id": "fdac699d",
   "metadata": {
    "slideshow": {
     "slide_type": "skip"
    }
   },
   "outputs": [
    {
     "name": "stdout",
     "output_type": "stream",
     "text": [
      "{'이름': '홍길동', 'email주소': 'a@a.com', '취미': ['음악', '스포츠'], '결혼여부': False, '몸무게': 80, '키': 175}\n"
     ]
    }
   ],
   "source": [
    "#(14) 위 딕셔너리에서 나이를 제거하세요.\n",
    "del person['나이']\n",
    "print(person)"
   ]
  },
  {
   "cell_type": "code",
   "execution_count": 294,
   "id": "12398809",
   "metadata": {
    "slideshow": {
     "slide_type": "skip"
    }
   },
   "outputs": [
    {
     "name": "stdout",
     "output_type": "stream",
     "text": [
      "{'이름': '홍길동', 'email주소': 'karen@karen.com', '취미': ['음악', '스포츠'], '결혼여부': False, '몸무게': 80, '키': 175}\n"
     ]
    }
   ],
   "source": [
    "#(15) 위 딕셔너리에서 email 주소를 다른 값으로 변경하세요.\n",
    "person['email주소'] = 'karen@karen.com'\n",
    "print(person)"
   ]
  }
 ],
 "metadata": {
  "kernelspec": {
   "display_name": "Python 3 (ipykernel)",
   "language": "python",
   "name": "python3"
  },
  "language_info": {
   "codemirror_mode": {
    "name": "ipython",
    "version": 3
   },
   "file_extension": ".py",
   "mimetype": "text/x-python",
   "name": "python",
   "nbconvert_exporter": "python",
   "pygments_lexer": "ipython3",
   "version": "3.11.4"
  },
  "toc": {
   "base_numbering": 1,
   "nav_menu": {},
   "number_sections": true,
   "sideBar": true,
   "skip_h1_title": false,
   "title_cell": "Table of Contents",
   "title_sidebar": "Contents",
   "toc_cell": false,
   "toc_position": {
    "height": "calc(100% - 180px)",
    "left": "10px",
    "top": "150px",
    "width": "512px"
   },
   "toc_section_display": true,
   "toc_window_display": false
  },
  "varInspector": {
   "cols": {
    "lenName": 16,
    "lenType": 16,
    "lenVar": 40
   },
   "kernels_config": {
    "python": {
     "delete_cmd_postfix": "",
     "delete_cmd_prefix": "del ",
     "library": "var_list.py",
     "varRefreshCmd": "print(var_dic_list())"
    },
    "r": {
     "delete_cmd_postfix": ") ",
     "delete_cmd_prefix": "rm(",
     "library": "var_list.r",
     "varRefreshCmd": "cat(var_dic_list()) "
    }
   },
   "types_to_exclude": [
    "module",
    "function",
    "builtin_function_or_method",
    "instance",
    "_Feature"
   ],
   "window_display": false
  }
 },
 "nbformat": 4,
 "nbformat_minor": 5
}
