{
 "cells": [
  {
   "cell_type": "markdown",
   "id": "8c49cd8e",
   "metadata": {
    "slideshow": {
     "slide_type": "slide"
    }
   },
   "source": [
    "# 제어문(Control flow statement)\n",
    "기본적으로 프로그램은 순차구조를 가진다. 즉 작성한 순서대로 실행이 된다.  \n",
    "이런 실행흐름을 다른 순서로 제어하기 위한 구문을 만드는 문법이 제어문이다.  \n",
    "제어문은 **조건문** 과 **반복문** 두가지 문법이 있다.\n",
    "- 조건문\n",
    "    - if 문\n",
    "- 반복문\n",
    "    - while 문\n",
    "    - for in 문"
   ]
  },
  {
   "cell_type": "markdown",
   "id": "92c502ce",
   "metadata": {
    "slideshow": {
     "slide_type": "slide"
    }
   },
   "source": [
    "# 조건문/분기문 (conditional statement)\n",
    "- 프로그램이 명령문들을 실행하는 도중 특정 순서에서 **조건에 따라 흐름의 나눠져야 하는 경우 사용한다**\n",
    "- 파이썬은 조건문으로 **if문**이 있다.\n",
    "\n",
    "![조건문](images/ch03_01.png)\n",
    "\n",
    "<center>입력 받은 a 의 값이 0인지 여부에 따라 두가지 흐름으로 분기된다.</center>\n"
   ]
  },
  {
   "cell_type": "markdown",
   "id": "2a3c1835",
   "metadata": {
    "slideshow": {
     "slide_type": "subslide"
    }
   },
   "source": [
    "## 조건이 True일 경우만 특정 구문들을 실행 하는 조건문"
   ]
  },
  {
   "cell_type": "code",
   "execution_count": 7,
   "id": "773bd74c",
   "metadata": {
    "slideshow": {
     "slide_type": "fragment"
    }
   },
   "outputs": [
    {
     "name": "stdout",
     "output_type": "stream",
     "text": [
      "정수0\n",
      "0입니다.\n",
      "종료\n"
     ]
    }
   ],
   "source": [
    "# 1. 정수를 입력 받는다\n",
    "num = int(input('정수'))\n",
    "\n",
    "# 2. 정수가 0 이면 'Zero'를 출력함 ( 아니면 아무것도 안함. )\n",
    "if num == 0:   # False일때 실행\n",
    "    print('0입니다.')\n",
    "\n",
    "# 3. '종료'를 출력\n",
    "print('종료')"
   ]
  },
  {
   "cell_type": "code",
   "execution_count": 9,
   "id": "061b83b7",
   "metadata": {},
   "outputs": [
    {
     "name": "stdout",
     "output_type": "stream",
     "text": [
      "Zero\n",
      "종료\n"
     ]
    }
   ],
   "source": [
    "num = 0 \n",
    "# True일때 실행\n",
    "if not num : \n",
    "    print('Zero')\n",
    "print('종료')"
   ]
  },
  {
   "cell_type": "markdown",
   "id": "09c79c35",
   "metadata": {
    "slideshow": {
     "slide_type": "subslide"
    }
   },
   "source": [
    "## 조건이 True일때 실행할 구문과 False일때 실행하는 조건문."
   ]
  },
  {
   "cell_type": "code",
   "execution_count": 5,
   "id": "87b51956",
   "metadata": {
    "slideshow": {
     "slide_type": "fragment"
    }
   },
   "outputs": [
    {
     "name": "stdout",
     "output_type": "stream",
     "text": [
      "정수:1\n",
      "Not Zero\n",
      "0이 아님\n",
      "종료\n"
     ]
    }
   ],
   "source": [
    "# 1. 정수를 입력을 받는다\n",
    "num = int(input('정수:'))\n",
    "\n",
    "# 2. 2-1 정수가 0이면 'Zero'를 출력\n",
    "if num == 0: \n",
    "    print('Zero')\n",
    "    print('0입니다')\n",
    "\n",
    "# 2. 2-2 정수가 0이 아니면 ' Not Zero '를 출력\n",
    "else: \n",
    "    print('Not Zero')\n",
    "    print('0이 아님')\n",
    "\n",
    "# 3. 종료 출력\n",
    "print('종료')"
   ]
  },
  {
   "cell_type": "code",
   "execution_count": 10,
   "id": "963ae3ed",
   "metadata": {},
   "outputs": [
    {
     "name": "stdout",
     "output_type": "stream",
     "text": [
      "ID:asd\n",
      "사용할수 없는 ID입니다.\n",
      "종료\n"
     ]
    }
   ],
   "source": [
    "# 1. ID를 입력받는다\n",
    "ID = input('ID:')\n",
    "\n",
    "# 2. 2-1 입력받은 ID가 5글자 이상이면 '사용할 수 있는 ID입니다'를 출력\n",
    "if len(ID) >= 5:\n",
    "    print('사용할수 있는 ID입니다.')\n",
    "    \n",
    "# 2. 2-2 입력받은 ID가 5글자 이하면 '사용할수 없는 ID 입니다'를 출력\n",
    "else:\n",
    "    print('사용할수 없는 ID입니다.')\n",
    "\n",
    "# 3. 종료\n",
    "print('종료')"
   ]
  },
  {
   "cell_type": "code",
   "execution_count": 11,
   "id": "fe652ec8",
   "metadata": {},
   "outputs": [
    {
     "name": "stdout",
     "output_type": "stream",
     "text": [
      "글을 입력하세요.안녕하세요\n",
      "입력한 글: 안녕하세요\n"
     ]
    }
   ],
   "source": [
    "# bool(''), bool('a')\n",
    "\n",
    "txt = input('글을 입력하세요.')\n",
    "\n",
    "if txt.strip():  # .strip 좌우 공백 제거\n",
    "    print('입력한 글:', txt)\n",
    "    \n",
    "# 문자를 입력하지 않으면 else문 출력\n",
    "else:\n",
    "    print('----글을 입력하세요')"
   ]
  },
  {
   "cell_type": "markdown",
   "id": "621eae9a",
   "metadata": {
    "slideshow": {
     "slide_type": "subslide"
    }
   },
   "source": [
    "## 조건이 여러개인 조건문."
   ]
  },
  {
   "cell_type": "code",
   "execution_count": 24,
   "id": "4c6a532d",
   "metadata": {
    "slideshow": {
     "slide_type": "fragment"
    }
   },
   "outputs": [
    {
     "name": "stdout",
     "output_type": "stream",
     "text": [
      "정수10\n",
      "Positive\n",
      "양수입니다.\n",
      "종료입니다\n"
     ]
    }
   ],
   "source": [
    "# 1. 정수 입력받기\n",
    "num = int(input('정수'))\n",
    "\n",
    "# 2. \n",
    "if num == 0:\n",
    "\n",
    "# 2. 2-1 : 0이면 ' Zero ' 출력\n",
    "    print('Zero')\n",
    "    print('0입니다.')\n",
    "\n",
    "# 2 - 2 : 양수면 ' 양수 ' \n",
    "elif num > 0: \n",
    "    print('Positive')\n",
    "    print('양수입니다.')\n",
    "\n",
    "# 2 - 3 : 음수면 ' 음수 '\n",
    "else:\n",
    "    print('Negative')\n",
    "    print('음수입니다')\n",
    "\n",
    "# 3 종료를 출력\n",
    "print('종료입니다')"
   ]
  },
  {
   "cell_type": "code",
   "execution_count": 13,
   "id": "bc233236",
   "metadata": {},
   "outputs": [
    {
     "name": "stdout",
     "output_type": "stream",
     "text": [
      "양수입력1322214241\n",
      "아주 큰수\n",
      "종료\n"
     ]
    }
   ],
   "source": [
    "# 큰 조건 부터 차례로 내림차순으로 써야함\n",
    "\n",
    "num = int(input('양수입력'))\n",
    "\n",
    "if num >= 10000:   \n",
    "    print('아주 큰수')\n",
    "    \n",
    "elif num >= 1000:\n",
    "    print('큰수')\n",
    "    \n",
    "elif num >= 100:\n",
    "    print('보통')\n",
    "\n",
    "elif num >= 0:\n",
    "    print('양수')\n",
    "    \n",
    "else:\n",
    "    print('음수')\n",
    "\n",
    "print('종료')"
   ]
  },
  {
   "cell_type": "markdown",
   "id": "2149b728",
   "metadata": {
    "slideshow": {
     "slide_type": "slide"
    }
   },
   "source": [
    "# 반복문 (Loop statement)\n",
    "\n",
    "특정 구문들을 반복해서 실행할 때 사용한다. 동일한 코드를 여러번 반복하거나 값이 일정하게 변하는 코드를 반복할 경우 사용한다.  \n",
    "단순 반복을 처리하는 **while문**과 iterable객체가 제공하는 값들을 반복 조회하는 **for in문** 두가지 문법이 있다.\n",
    "\n",
    "![반복문](images/ch03_02.png)\n",
    "<center>count의 값이 limit의 값보다 크거나 같을때 까지 count의 값을 1증가 후 출력하는 구문을 반복한다. </center>"
   ]
  },
  {
   "cell_type": "markdown",
   "id": "b4740a36",
   "metadata": {
    "slideshow": {
     "slide_type": "subslide"
    }
   },
   "source": [
    "## while문\n",
    "### 조건이 True인 동안 구문을 반복해서 실행한다.\n"
   ]
  },
  {
   "cell_type": "code",
   "execution_count": 19,
   "id": "6b11bde6",
   "metadata": {
    "slideshow": {
     "slide_type": "fragment"
    }
   },
   "outputs": [
    {
     "name": "stdout",
     "output_type": "stream",
     "text": [
      "반복횟수:5\n",
      "반복 5\n",
      "1번째 실행\n",
      "2번째 실행\n",
      "3번째 실행\n",
      "4번째 실행\n",
      "5번째 실행\n"
     ]
    }
   ],
   "source": [
    "limit = int(input('반복횟수:'))\n",
    "\n",
    "print('반복', limit)\n",
    "\n",
    "count = 0 # 몇번째 반복인지를 저장할 변수\n",
    "\n",
    "if limit <= 0:\n",
    "    # 양수이거나 0 을 넣으면 print를 함\n",
    "    print('limit는 양수를 넣어주세요') \n",
    "else:\n",
    "    # count 가 limit 보다 작은 동안 실행\n",
    "    while count < limit: \n",
    "        # 조건을 False로 바꾸는 구문이 없으면 무한반복하게 된다.\n",
    "        count = count + 1 \n",
    "        print(f'{count}번째 실행')"
   ]
  },
  {
   "cell_type": "code",
   "execution_count": 20,
   "id": "16c18e8a",
   "metadata": {},
   "outputs": [
    {
     "name": "stdout",
     "output_type": "stream",
     "text": [
      "11\n",
      "12\n",
      "13\n",
      "14\n",
      "15\n"
     ]
    }
   ],
   "source": [
    "# 리스트 원소들의 값 + 10 한 것을 출력\n",
    "l = [1, 2, 3, 4, 5] \n",
    "# 원소의 개수\n",
    "cnt = len(l) \n",
    "# Index 역활\n",
    "idx = 0 \n",
    "\n",
    "# 밑에 있는 구문 = for in 문\n",
    "while idx < cnt:\n",
    "    # 원소 한개를 조회\n",
    "    value = l[idx]    \n",
    "    # 조회한 원소를 처리( +10 값을 출력)\n",
    "    print(value + 10) \n",
    "    # Index를 증가 ( 다음 Index을 갖고 오게 함)\n",
    "    idx += 1 "
   ]
  },
  {
   "cell_type": "markdown",
   "id": "04f12e55",
   "metadata": {
    "slideshow": {
     "slide_type": "subslide"
    }
   },
   "source": [
    "## for  in 문\n",
    "- Iterable 객체를 순환조회하는 구문\n",
    "    - for in문은 Iterable 타입의 객체가 가지고 있는 값들을 각각 조회하여 처리하는 구문을 작성할 때 사용한다.\n"
   ]
  },
  {
   "cell_type": "code",
   "execution_count": 23,
   "id": "6ca60a02",
   "metadata": {},
   "outputs": [
    {
     "name": "stdout",
     "output_type": "stream",
     "text": [
      "1\n",
      "11\n",
      "-------------\n",
      "2\n",
      "12\n",
      "-------------\n",
      "3\n",
      "13\n",
      "-------------\n"
     ]
    }
   ],
   "source": [
    "l = [1, 2, 3]\n",
    "\n",
    "for v in l:\n",
    "    print(v)\n",
    "    print(v + 10)\n",
    "    print('-------------')"
   ]
  },
  {
   "cell_type": "code",
   "execution_count": 24,
   "id": "da0ce0f6",
   "metadata": {
    "slideshow": {
     "slide_type": "fragment"
    }
   },
   "outputs": [
    {
     "name": "stdout",
     "output_type": "stream",
     "text": [
      "11\n",
      "12\n",
      "13\n"
     ]
    }
   ],
   "source": [
    "l = [1, 2, 3]\n",
    "\n",
    "# for 변수 in 리스트: => 변수 : 원소를 지정할 변수명\n",
    "for value in l:  \n",
    "    print(value + 10)"
   ]
  },
  {
   "cell_type": "code",
   "execution_count": 25,
   "id": "bffcf149",
   "metadata": {},
   "outputs": [
    {
     "name": "stdout",
     "output_type": "stream",
     "text": [
      "2\n",
      "4\n",
      "10\n",
      "2\n",
      "12\n",
      "20\n",
      "102\n"
     ]
    }
   ],
   "source": [
    "# L 의 원소중 2의 배수만 출력\n",
    "l = [1, 2, 3, 4, 5, 10, 2, 3, 12, 20, 102, 111]\n",
    "\n",
    "for value in l:\n",
    "    # 특정한 값들만 조회 하고 싶을때\n",
    "    if value % 2 == 0: \n",
    "        print(value)"
   ]
  },
  {
   "cell_type": "code",
   "execution_count": 3,
   "id": "dce746c8",
   "metadata": {},
   "outputs": [
    {
     "name": "stdout",
     "output_type": "stream",
     "text": [
      "[2, 4, 10, 2, 12, 20, 102]\n"
     ]
    }
   ],
   "source": [
    "# L 의 원소중 2의 배수만 모으기\n",
    "l = [1, 2, 3, 4, 5, 10, 2, 3, 12, 20, 102, 111]\n",
    "# 2의 배수만 모을 빈 리스트 result = list() < 빈리스트 만듬\n",
    "result = [] \n",
    "\n",
    "for value in l:\n",
    "    if value % 2 == 0:\n",
    "        # 빈 리스트에 추가 \n",
    "        result.append(value) \n",
    "print(result)"
   ]
  },
  {
   "cell_type": "code",
   "execution_count": 6,
   "id": "5bd13133",
   "metadata": {},
   "outputs": [],
   "source": [
    "l2 = [\n",
    "    [1, 2, 3],\n",
    "    [10, 20, 30],\n",
    "    ['가','나','다']\n",
    "      ]"
   ]
  },
  {
   "cell_type": "code",
   "execution_count": 33,
   "id": "d17fcf78",
   "metadata": {},
   "outputs": [
    {
     "name": "stdout",
     "output_type": "stream",
     "text": [
      "['가', '나', '다']\n"
     ]
    }
   ],
   "source": [
    "print(l)"
   ]
  },
  {
   "cell_type": "code",
   "execution_count": 34,
   "id": "bdc61ab5",
   "metadata": {},
   "outputs": [
    {
     "name": "stdout",
     "output_type": "stream",
     "text": [
      "[[1, 2, 3], [10, 20, 30], ['가', '나', '다']]\n"
     ]
    }
   ],
   "source": [
    "print(l2)"
   ]
  },
  {
   "cell_type": "code",
   "execution_count": 8,
   "id": "07eaebfd",
   "metadata": {},
   "outputs": [
    {
     "name": "stdout",
     "output_type": "stream",
     "text": [
      "1\n",
      "2\n",
      "3\n",
      "-------------\n",
      "10\n",
      "20\n",
      "30\n",
      "-------------\n",
      "가\n",
      "나\n",
      "다\n",
      "-------------\n"
     ]
    }
   ],
   "source": [
    "# 중첩 리스트 , \n",
    "# for in 문을 이용해서 모든 원소들을 출력 ----> 리스트의 중첩 횟수만큼 반복문도 중첩한다\n",
    "for l in l2:\n",
    "    for value in l:\n",
    "        print(value)\n",
    "    print('-------------')"
   ]
  },
  {
   "cell_type": "markdown",
   "id": "1f30cd6f",
   "metadata": {
    "slideshow": {
     "slide_type": "subslide"
    }
   },
   "source": [
    "## continue와 break를 이용한 반복문 제어\n",
    "- **continue**\n",
    "    - 현재 반복을 중단하고 다음 반복을 진행한다.\n",
    "    - 특정 조건에서 처리를 멈추고 다음 처리를 반복할 때 사용한다.\n",
    "- **break**\n",
    "    - 반복을 중단한다.\n",
    "    - 특정 조건에서 반복문을 중간에 중지할때 사용한다.\n",
    "- continue와 break는 특정 조건에서 실행되야 하는 경우가 대부분이므로 if문 안에 작성한다.    "
   ]
  },
  {
   "cell_type": "code",
   "execution_count": 38,
   "id": "90c41e9f",
   "metadata": {
    "slideshow": {
     "slide_type": "fragment"
    }
   },
   "outputs": [
    {
     "name": "stdout",
     "output_type": "stream",
     "text": [
      "1\n",
      "2\n",
      "3\n",
      "4\n",
      "종료\n"
     ]
    }
   ],
   "source": [
    "for v in [1, 2, 3, 4, 5, 6, 7]:\n",
    "    if v == 5:\n",
    "        # 반복을 중단\n",
    "        break \n",
    "    print(v)\n",
    "print('종료')"
   ]
  },
  {
   "cell_type": "code",
   "execution_count": 40,
   "id": "f03c4aaa",
   "metadata": {},
   "outputs": [
    {
     "name": "stdout",
     "output_type": "stream",
     "text": [
      "입력:안녕하세요\n",
      ">>안녕하세요\n",
      "입력:방갑습니다\n",
      ">>방갑습니다\n",
      "입력:종료\n",
      ">>종료\n"
     ]
    }
   ],
   "source": [
    "t = input('입력:')\n",
    "\n",
    "while True:   \n",
    "    print(f'>>{t}')\n",
    "    if t == '종료':\n",
    "        # 반복을 멈춤\n",
    "        break \n",
    "    t = input('입력:')"
   ]
  },
  {
   "cell_type": "code",
   "execution_count": 42,
   "id": "d9f69158",
   "metadata": {},
   "outputs": [
    {
     "data": {
      "text/plain": [
       "36"
      ]
     },
     "execution_count": 42,
     "metadata": {},
     "output_type": "execute_result"
    }
   ],
   "source": [
    "import random\n",
    "# 10 ~ 20 사아의 정수중 하나를 랜덤하게 반환\n",
    "random.randint(1, 55) "
   ]
  },
  {
   "cell_type": "code",
   "execution_count": 53,
   "id": "5a53d9cb",
   "metadata": {},
   "outputs": [
    {
     "name": "stdout",
     "output_type": "stream",
     "text": [
      "[20, 7, 10, 2, 35, 14, 42, 8, 2, 33, 36, 25, 21, 24, 45]\n"
     ]
    }
   ],
   "source": [
    "# - 10, 10 에서 양수가 나오면 result 저장. 0이나오면 종료\n",
    "result = []\n",
    "\n",
    "while True:\n",
    "    num = random.randint(-100, 45)\n",
    "    if num == 0:\n",
    "        # 반복문을 종료\n",
    "        break \n",
    "    elif num < 0:\n",
    "        # 다음 반복\n",
    "        continue \n",
    "    result.append(num)\n",
    "\n",
    "print(result)"
   ]
  },
  {
   "cell_type": "markdown",
   "id": "dc6099c5",
   "metadata": {
    "slideshow": {
     "slide_type": "slide"
    }
   },
   "source": [
    "## for in 문 연관 내장 함수\n",
    "\n",
    "### range()\n",
    "- 일정한 간격의 연속된 정수를 제공하는 반복가능 객체 생성한다.\n",
    "- 구문\n",
    "    - `range([시작값], 멈춤값, [증감값])`\n",
    "        - 시작값, 멈춤값, 증감값 모두 정수만 가능하다.\n",
    "        - 시작값 > 멈춤값 이고 증감값이 음수이면 내림차순으로 값을 제공한다.\n"
   ]
  },
  {
   "cell_type": "code",
   "execution_count": 4,
   "id": "5ff58b60",
   "metadata": {
    "slideshow": {
     "slide_type": "fragment"
    }
   },
   "outputs": [
    {
     "name": "stdout",
     "output_type": "stream",
     "text": [
      "1\n",
      "3\n",
      "5\n",
      "7\n",
      "9\n"
     ]
    }
   ],
   "source": [
    "# range( 시작값[생략가능], 멈춤값(생략안됨), [증감값(생략가능 -> 1 )])\n",
    "# range 의 값을 i로 넣어줌\n",
    "for i in range(1, 10, 2):\n",
    "    print(i)    "
   ]
  },
  {
   "cell_type": "code",
   "execution_count": 250,
   "id": "e9372998",
   "metadata": {
    "slideshow": {
     "slide_type": "fragment"
    }
   },
   "outputs": [
    {
     "name": "stdout",
     "output_type": "stream",
     "text": [
      "-10,-9,-8,-7,-6,-5,-4,-3,-2,-1,0,1,2,3,4,5,6,7,8,9,"
     ]
    }
   ],
   "source": [
    "# -10 ~ 10-1 증감 : 1\n",
    "for i in range(-10, 10): \n",
    "    print(i, end=',')"
   ]
  },
  {
   "cell_type": "code",
   "execution_count": 251,
   "id": "ec423d1e",
   "metadata": {
    "slideshow": {
     "slide_type": "fragment"
    }
   },
   "outputs": [
    {
     "name": "stdout",
     "output_type": "stream",
     "text": [
      "10,,9,,8,,7,,6,,5,,4,,3,,2,,1,,0,,-1,,-2,,-3,,-4,,-5,,-6,,-7,,-8,,-9,,"
     ]
    }
   ],
   "source": [
    "# 10 ~ -10-1, -1 증감 -1   \n",
    "for i in range(10, -10, -1): \n",
    "    print(i, end=',,')"
   ]
  },
  {
   "cell_type": "code",
   "execution_count": 252,
   "id": "dfb35de6",
   "metadata": {
    "slideshow": {
     "slide_type": "fragment"
    }
   },
   "outputs": [
    {
     "name": "stdout",
     "output_type": "stream",
     "text": [
      "0,,,1,,,2,,,3,,,4,,,"
     ]
    }
   ],
   "source": [
    "# 0 (시작) ~ 5-1, 증감 : 1 ( 생략 )    \n",
    "for i in range(5): \n",
    "    print(i, end=\",,,\")"
   ]
  },
  {
   "cell_type": "code",
   "execution_count": 253,
   "id": "9846b609",
   "metadata": {
    "slideshow": {
     "slide_type": "fragment"
    }
   },
   "outputs": [
    {
     "name": "stdout",
     "output_type": "stream",
     "text": [
      "1안녕하세요.\n",
      "2안녕하세요.\n",
      "3안녕하세요.\n",
      "4안녕하세요.\n",
      "5안녕하세요.\n"
     ]
    }
   ],
   "source": [
    "# 번호, 안녕하세요 => 5번 출력 ( 1. 안녕하세요, 2. 안녕하세요, ... 5. 안녕하세요)\n",
    "# N 번 반복 -> for i in range(N)\n",
    "for i in range(5): \n",
    "    print(f\"{ i + 1 }안녕하세요.\")"
   ]
  },
  {
   "cell_type": "code",
   "execution_count": 254,
   "id": "e6cd7210",
   "metadata": {
    "slideshow": {
     "slide_type": "fragment"
    }
   },
   "outputs": [
    {
     "name": "stdout",
     "output_type": "stream",
     "text": [
      "5. 안녕하세요.\n"
     ]
    }
   ],
   "source": [
    "for i in range(5,6): \n",
    "    print(f\"{ i }. 안녕하세요.\")"
   ]
  },
  {
   "cell_type": "code",
   "execution_count": 257,
   "id": "352d937b",
   "metadata": {
    "slideshow": {
     "slide_type": "fragment"
    }
   },
   "outputs": [
    {
     "name": "stdout",
     "output_type": "stream",
     "text": [
      "Hello world\n",
      "Hello world\n",
      "Hello world\n",
      "Hello world\n",
      "Hello world\n"
     ]
    }
   ],
   "source": [
    "# 사용하지 않을 변수를 구문상 어쩔 수 없이 넣어야 할 경우\n",
    "# 관례적으로 변수명을 '_' 로 지정한다. (관례)\n",
    "    \n",
    "for _ in range(5):\n",
    "    print('Hello world')"
   ]
  },
  {
   "cell_type": "code",
   "execution_count": 258,
   "id": "49ad7a87",
   "metadata": {},
   "outputs": [],
   "source": [
    "# range() 제공값들을 가지는 List 생성\n",
    "i = list(range(1,11)) "
   ]
  },
  {
   "cell_type": "code",
   "execution_count": 259,
   "id": "a4635db8",
   "metadata": {},
   "outputs": [
    {
     "name": "stdout",
     "output_type": "stream",
     "text": [
      "[1, 2, 3, 4, 5, 6, 7, 8, 9, 10]\n"
     ]
    }
   ],
   "source": [
    "print(i)"
   ]
  },
  {
   "cell_type": "code",
   "execution_count": 260,
   "id": "5e47b0fc",
   "metadata": {},
   "outputs": [
    {
     "name": "stdout",
     "output_type": "stream",
     "text": [
      "(1, 2, 3, 4, 5, 6, 7, 8, 9, 10)\n"
     ]
    }
   ],
   "source": [
    "print(tuple(i))"
   ]
  },
  {
   "cell_type": "code",
   "execution_count": 261,
   "id": "fb85fc21",
   "metadata": {},
   "outputs": [
    {
     "name": "stdout",
     "output_type": "stream",
     "text": [
      "{65, 35, 70, 40, 10, 75, 45, 15, 80, 50, 20, 85, 55, 25, 90, 60, 30, 95}\n"
     ]
    }
   ],
   "source": [
    "# set 순서가 정해지지 않아서 랜덤\n",
    "print(set(range(10,100,5))) "
   ]
  },
  {
   "cell_type": "code",
   "execution_count": 263,
   "id": "74e304ac",
   "metadata": {},
   "outputs": [],
   "source": [
    "# print(range( 0, 1.1, 0.1 )) # 실수는 안됨. 정수만 가능"
   ]
  },
  {
   "cell_type": "markdown",
   "id": "5de9d74e",
   "metadata": {
    "slideshow": {
     "slide_type": "subslide"
    }
   },
   "source": [
    "## enumerate()\n",
    "\n",
    "- 구문\n",
    "    - `enumerate(Iterable,  [, start=정수])`\n",
    "        - 현재 몇번째 값을 제공하는 지(현재 몇번째 반복인지)를 나타내는 **index**와 제공하는 **원소**를 tuple로 묶어서 반환\n",
    "        - Iterable\n",
    "            - 값을 제공할 Iterable객체\n",
    "        - start: 정수\n",
    "            - index 시작 값. 생략하면 0부터 시작한다."
   ]
  },
  {
   "cell_type": "code",
   "execution_count": 269,
   "id": "25a9946f",
   "metadata": {
    "slideshow": {
     "slide_type": "fragment"
    }
   },
   "outputs": [],
   "source": [
    "names = ['유재석','박명수','홍길동','정준하']"
   ]
  },
  {
   "cell_type": "code",
   "execution_count": 274,
   "id": "a831c9f0",
   "metadata": {
    "slideshow": {
     "slide_type": "fragment"
    }
   },
   "outputs": [
    {
     "name": "stdout",
     "output_type": "stream",
     "text": [
      "(0, '유재석')\n",
      "(1, '박명수')\n",
      "(2, '홍길동')\n",
      "(3, '정준하')\n"
     ]
    }
   ],
   "source": [
    "for name in enumerate(names):\n",
    "    print(name)"
   ]
  },
  {
   "cell_type": "code",
   "execution_count": 275,
   "id": "4813ad98",
   "metadata": {
    "slideshow": {
     "slide_type": "fragment"
    }
   },
   "outputs": [
    {
     "name": "stdout",
     "output_type": "stream",
     "text": [
      "0 - 유재석\n",
      "1 - 박명수\n",
      "2 - 홍길동\n",
      "3 - 정준하\n"
     ]
    }
   ],
   "source": [
    "for index, name in enumerate(names):\n",
    "    print(f'{index} - {name}')"
   ]
  },
  {
   "cell_type": "code",
   "execution_count": 276,
   "id": "5a396ecb",
   "metadata": {
    "slideshow": {
     "slide_type": "fragment"
    }
   },
   "outputs": [
    {
     "name": "stdout",
     "output_type": "stream",
     "text": [
      "1, 유재석\n",
      "2, 박명수\n",
      "3, 홍길동\n",
      "4, 정준하\n"
     ]
    }
   ],
   "source": [
    "# start=시작 index값(생략:0)\n",
    "for index, name in enumerate(names, start=1): \n",
    "    print(f'{index}, {name}')"
   ]
  },
  {
   "cell_type": "code",
   "execution_count": 277,
   "id": "33dd96c5",
   "metadata": {
    "slideshow": {
     "slide_type": "fragment"
    }
   },
   "outputs": [
    {
     "name": "stdout",
     "output_type": "stream",
     "text": [
      "1, 유재석\n",
      "2, 박명수\n",
      "3, 홍길동\n",
      "4, 정준하\n"
     ]
    }
   ],
   "source": [
    "# 튜플 대입 start=시작 index값(생략:0)\n",
    "for index, name in enumerate(names, start=1): \n",
    "    print(f'{index}, {name}')"
   ]
  },
  {
   "cell_type": "markdown",
   "id": "f5a5540f",
   "metadata": {
    "slideshow": {
     "slide_type": "subslide"
    }
   },
   "source": [
    "## zip()\n",
    "- 여러 개의 Iterable 객체를 받아 반복시 같은 index의 값끼리 튜플로 묶어 반환한다.\n",
    "- 구문\n",
    "    - `zip(Iterable1, Iterable2, Iterable3 [, .......])`\n",
    "        - Iterable 2개이상.전달한다.\n",
    "- 각 Iterable이 제공하는 원소의 개수가가 다를 경우 가장 적은 것의 개수에 맞춰 반복한다."
   ]
  },
  {
   "cell_type": "code",
   "execution_count": 278,
   "id": "ffe0d8f3",
   "metadata": {
    "slideshow": {
     "slide_type": "fragment"
    }
   },
   "outputs": [],
   "source": [
    "# 네명의 사람 정보를 이름, 나이, 주소별로 따로 저장. 같은 index의 값이 한사람의 정보\n",
    "names = ['유재석','박명수','홍길동','정준하']\n",
    "ages = [20, 30, 40, 50]\n",
    "addresses = ['서울','인천','서울','대전']"
   ]
  },
  {
   "cell_type": "code",
   "execution_count": 279,
   "id": "2e96c2ec",
   "metadata": {
    "slideshow": {
     "slide_type": "fragment"
    }
   },
   "outputs": [
    {
     "name": "stdout",
     "output_type": "stream",
     "text": [
      "('유재석', 20, '서울')\n",
      "('박명수', 30, '인천')\n",
      "('홍길동', 40, '서울')\n",
      "('정준하', 50, '대전')\n"
     ]
    }
   ],
   "source": [
    "# zip 으로 묶인 리스트들의 같은 index의 값들을 tuple로 묶어서 반환.\n",
    "for value in zip(names, ages, addresses):\n",
    "    print(value)"
   ]
  },
  {
   "cell_type": "code",
   "execution_count": 280,
   "id": "21ea18d8",
   "metadata": {
    "slideshow": {
     "slide_type": "fragment"
    }
   },
   "outputs": [
    {
     "name": "stdout",
     "output_type": "stream",
     "text": [
      "이름: 유재석, 나이: 20 주소: 서울\n",
      "이름: 박명수, 나이: 30 주소: 인천\n",
      "이름: 홍길동, 나이: 40 주소: 서울\n",
      "이름: 정준하, 나이: 50 주소: 대전\n"
     ]
    }
   ],
   "source": [
    "# tuple로 대입\n",
    "for name,age,address in zip(names, ages, addresses): \n",
    "    print(f'이름: {name}, 나이: {age} 주소: {address}')"
   ]
  },
  {
   "cell_type": "code",
   "execution_count": 281,
   "id": "809c217b",
   "metadata": {
    "slideshow": {
     "slide_type": "fragment"
    }
   },
   "outputs": [
    {
     "name": "stdout",
     "output_type": "stream",
     "text": [
      "(0, ('유재석', 20, '서울'))\n",
      "(1, ('박명수', 30, '인천'))\n",
      "(2, ('홍길동', 40, '서울'))\n",
      "(3, ('정준하', 50, '대전'))\n"
     ]
    }
   ],
   "source": [
    "for value in enumerate(zip(names, ages, addresses)):\n",
    "    print(value)"
   ]
  },
  {
   "cell_type": "code",
   "execution_count": 282,
   "id": "e9b6b719",
   "metadata": {
    "slideshow": {
     "slide_type": "fragment"
    }
   },
   "outputs": [
    {
     "name": "stdout",
     "output_type": "stream",
     "text": [
      "0 ('유재석', 20, '서울')\n",
      "1 ('박명수', 30, '인천')\n",
      "2 ('홍길동', 40, '서울')\n",
      "3 ('정준하', 50, '대전')\n"
     ]
    }
   ],
   "source": [
    "for index, value in enumerate(zip(names, ages, addresses)):\n",
    "    print(index, value)"
   ]
  },
  {
   "cell_type": "code",
   "execution_count": 283,
   "id": "1b99057f",
   "metadata": {
    "slideshow": {
     "slide_type": "fragment"
    }
   },
   "outputs": [
    {
     "name": "stdout",
     "output_type": "stream",
     "text": [
      "0 - 이름: 유재석, 나이: 20 주소: 서울\n",
      "1 - 이름: 박명수, 나이: 30 주소: 인천\n",
      "2 - 이름: 홍길동, 나이: 40 주소: 서울\n",
      "3 - 이름: 정준하, 나이: 50 주소: 대전\n"
     ]
    }
   ],
   "source": [
    "for index, ( name, age, address) in enumerate(zip(names, ages, addresses)):\n",
    "    print(f'{index} - 이름: {name}, 나이: {age} 주소: {address}')     "
   ]
  },
  {
   "cell_type": "code",
   "execution_count": 284,
   "id": "4b217751",
   "metadata": {},
   "outputs": [
    {
     "name": "stdout",
     "output_type": "stream",
     "text": [
      "가 1 2\n"
     ]
    }
   ],
   "source": [
    "# 위에 있는 간단한 설명 ( 튜플 대입 )\n",
    "a, (b, c) = (\"가\", (1, 2))\n",
    "print(a, b, c)"
   ]
  },
  {
   "cell_type": "markdown",
   "id": "2df89dae",
   "metadata": {
    "slideshow": {
     "slide_type": "subslide"
    }
   },
   "source": [
    "# 컴프리헨션(Comprehension)\n",
    "\n",
    "- 기존 Iterable의 원소들을 이용해서 새로운 자료구조(List, Dictionary, Set)를 생성하는 구문.\n",
    "    - 기존 Iterable의 **원소들을 처리한 결과**나  **특정 조건이 True인 값들을** 새로운 자료구조에 넣을때 사용.\n",
    "    - 결과를 넣을 새로운 자료구조에 따라 다음 세가지 구문이 있다.\n",
    "        - 리스트 컴프리헨션\n",
    "        - 딕셔너리  컴프리헨션\n",
    "        - 셋  컴프리헨션\n",
    "- 튜플 컴프리헨션은 없다.\n"
   ]
  },
  {
   "cell_type": "code",
   "execution_count": 286,
   "id": "3ba42dfa",
   "metadata": {
    "slideshow": {
     "slide_type": "fragment"
    }
   },
   "outputs": [],
   "source": [
    "l1 = [ 1,2,3,4,5,6,7,1,2,3,4 ]"
   ]
  },
  {
   "cell_type": "code",
   "execution_count": 287,
   "id": "a4e1fe84",
   "metadata": {
    "slideshow": {
     "slide_type": "fragment"
    }
   },
   "outputs": [
    {
     "name": "stdout",
     "output_type": "stream",
     "text": [
      "[10, 20, 30, 40, 50, 60, 70, 10, 20, 30, 40]\n"
     ]
    }
   ],
   "source": [
    "# l1의 원소들에 동일한 처리( 10배 )한 결과를 가지는 리스트를 생성.\n",
    "# 결과를 담을 리스트를 만듬\n",
    "\n",
    "result = []\n",
    "for v in l1:\n",
    "#     print(v * 10)\n",
    "    result.append( v * 10 )\n",
    "print(result)"
   ]
  },
  {
   "cell_type": "code",
   "execution_count": 289,
   "id": "775c5bbf",
   "metadata": {
    "slideshow": {
     "slide_type": "fragment"
    }
   },
   "outputs": [
    {
     "name": "stdout",
     "output_type": "stream",
     "text": [
      "[10, 20, 30, 40, 50, 60, 70, 10, 20, 30, 40]\n"
     ]
    }
   ],
   "source": [
    "# 리스트 컴프리헨션 문법 => for in 처리를 리스트 안에 넣어준다.\n",
    "\n",
    "result2 = [ v*10 for v in l1 ] # l1 -> v -> v (리스트 밖으로 넣음)\n",
    "# v*10 ( append ) \n",
    "print(result2)"
   ]
  },
  {
   "cell_type": "code",
   "execution_count": 291,
   "id": "299acec0",
   "metadata": {
    "slideshow": {
     "slide_type": "fragment"
    }
   },
   "outputs": [
    {
     "name": "stdout",
     "output_type": "stream",
     "text": [
      "{70, 40, 10, 50, 20, 60, 30}\n"
     ]
    }
   ],
   "source": [
    "# 컴프리헨션 -> Set (중복허용안함)\n",
    "\n",
    "result3 = { v*10 for v in l1} \n",
    "print(result3)"
   ]
  },
  {
   "cell_type": "code",
   "execution_count": 292,
   "id": "e04827d9",
   "metadata": {
    "slideshow": {
     "slide_type": "fragment"
    }
   },
   "outputs": [
    {
     "name": "stdout",
     "output_type": "stream",
     "text": [
      "{0: 10, 1: 20, 2: 30, 3: 40, 4: 50, 5: 60, 6: 70, 7: 10, 8: 20, 9: 30, 10: 40}\n"
     ]
    }
   ],
   "source": [
    "# { k : v for in 문 } => 딕셔너리 컴프리헨션\n",
    "## 딕셔너리 : Key - 처리한값의 Index, value-10배한 값\n",
    "# { value for in 문 } => 셋 컴프리헨션\n",
    "# ( value for in 문 ) => 리스트 컴프리헨션\n",
    " \n",
    "result4 = { index : value*10  for index,value in enumerate( l1 ) }\n",
    "print(result4)"
   ]
  },
  {
   "cell_type": "code",
   "execution_count": 293,
   "id": "32cc26da",
   "metadata": {},
   "outputs": [
    {
     "name": "stdout",
     "output_type": "stream",
     "text": [
      "2\n",
      "4\n",
      "6\n",
      "2\n",
      "4\n"
     ]
    }
   ],
   "source": [
    "# l1의 원소 중에서 특정 조건의 값들( 짝수 )만 모아서 새로운 자료구조에 넣기\n",
    "\n",
    "result2 = []\n",
    "result_set = set()\n",
    "for v in l1:\n",
    "    if v % 2 ==0:\n",
    "        print(v)\n",
    "        result.append(v)\n",
    "        result_set.add(v)"
   ]
  },
  {
   "cell_type": "code",
   "execution_count": 294,
   "id": "af73e2af",
   "metadata": {},
   "outputs": [
    {
     "name": "stdout",
     "output_type": "stream",
     "text": [
      "[2, 4, 6, 2, 4]\n"
     ]
    }
   ],
   "source": [
    "# 리스트 컴프리헨션\n",
    "\n",
    "r = [ value for value in l1 if value % 2 == 0]\n",
    "print(r)"
   ]
  },
  {
   "cell_type": "code",
   "execution_count": 295,
   "id": "8b1f2a82",
   "metadata": {},
   "outputs": [
    {
     "name": "stdout",
     "output_type": "stream",
     "text": [
      "{2, 4, 6}\n"
     ]
    }
   ],
   "source": [
    "# 셋 컴프리헨션\n",
    "\n",
    "r2 = {value for value in l1 if value % 2 == 0}\n",
    "print(r2)"
   ]
  },
  {
   "cell_type": "code",
   "execution_count": 296,
   "id": "18ea14a5",
   "metadata": {},
   "outputs": [
    {
     "name": "stdout",
     "output_type": "stream",
     "text": [
      "{2: 2, 4: 4, 6: 6}\n"
     ]
    }
   ],
   "source": [
    "# 딕셔너리 컴프리헨션\n",
    "\n",
    "r3 = {value:value for value in l1 if value % 2 == 0}\n",
    "print(r3)"
   ]
  },
  {
   "cell_type": "code",
   "execution_count": 297,
   "id": "398ae7d3",
   "metadata": {},
   "outputs": [
    {
     "data": {
      "text/plain": [
       "[10, 20, 30, 40, 50, 60, 70, 80, 90, 100]"
      ]
     },
     "execution_count": 297,
     "metadata": {},
     "output_type": "execute_result"
    }
   ],
   "source": [
    "# 1 ~ 1000 사이의 10의 배수\n",
    "\n",
    "[ v for v in range(1, 101) if v % 10 == 0 ]"
   ]
  },
  {
   "cell_type": "code",
   "execution_count": 298,
   "id": "f640a6a5",
   "metadata": {},
   "outputs": [
    {
     "name": "stdout",
     "output_type": "stream",
     "text": [
      "[10, 30]\n"
     ]
    }
   ],
   "source": [
    "l2 = [\n",
    "    [1,2,3],\n",
    "    [10,20,30]\n",
    "]\n",
    "# l2 의 원소들을 10배한 값들을 모으기, 홀수만 처리\n",
    "r = []\n",
    "for l in l2:\n",
    "    for v in l:\n",
    "        if v % 2 != 0:\n",
    "            r.append(v*10)\n",
    "print(r)"
   ]
  },
  {
   "cell_type": "code",
   "execution_count": 299,
   "id": "cf622b31",
   "metadata": {},
   "outputs": [
    {
     "data": {
      "text/plain": [
       "[10, 30]"
      ]
     },
     "execution_count": 299,
     "metadata": {},
     "output_type": "execute_result"
    }
   ],
   "source": [
    "# 람다식\n",
    "[ v * 10 for l in l2 for v in l if v % 2 != 0 ] "
   ]
  },
  {
   "cell_type": "markdown",
   "id": "092288d7",
   "metadata": {
    "slideshow": {
     "slide_type": "skip"
    }
   },
   "source": [
    "# TODO"
   ]
  },
  {
   "cell_type": "code",
   "execution_count": null,
   "id": "ac1ef948",
   "metadata": {
    "slideshow": {
     "slide_type": "skip"
    }
   },
   "outputs": [],
   "source": [
    "#(1) 다음 점수 구간에 맞게 학점을 출력하세요.\n",
    "# 91 ~ 100 : A학점\n",
    "# 81 ~ 90 :  B학점\n",
    "# 71 ~ 80 :  C학점\n",
    "# 61 ~ 70 :  D학점\n",
    "# 60이하   :  F학점"
   ]
  },
  {
   "cell_type": "code",
   "execution_count": 57,
   "id": "60460c13",
   "metadata": {
    "slideshow": {
     "slide_type": "skip"
    }
   },
   "outputs": [
    {
     "name": "stdout",
     "output_type": "stream",
     "text": [
      "점수:23\n",
      "F학점\n"
     ]
    }
   ],
   "source": [
    "jumsu = int(input('점수:'))\n",
    "\n",
    "if jumsu < 0 or jumsu > 100:\n",
    "    print(f'{jumsu}는 변환 할 수 없습니다. 0 ~ 100사이 점수를 입력하세요')\n",
    "elif jumsu > 90:\n",
    "    print('A학점')\n",
    "elif jumsu > 80:\n",
    "    print('B학점')\n",
    "elif jumsu > 70:\n",
    "    print('C학점')\n",
    "elif jumsu > 60:\n",
    "    print('D학점')\n",
    "else:\n",
    "    print('F학점')    "
   ]
  },
  {
   "cell_type": "code",
   "execution_count": 300,
   "id": "c21cb3ec",
   "metadata": {
    "slideshow": {
     "slide_type": "skip"
    }
   },
   "outputs": [
    {
     "name": "stdout",
     "output_type": "stream",
     "text": [
      "ID를 입력하세요홍길동\n",
      "사용할 수 없는 ID입니다.\n"
     ]
    }
   ],
   "source": [
    "#(2) 사용자로 부터 ID를 입력 받은 뒤 입력받은 ID가 5글자 이상이면 \"사용할 수 있습니다.\"를 \n",
    "#                                                    5글자 미만이면 \"사용할 수 없는 ID입니다.\"를 출력하세요.\n",
    "\n",
    "a = input('ID를 입력하세요').strip() # .strip() => 공백 제거 \n",
    "\n",
    "if len(a) >= 5:\n",
    "    print('사용할 수 있습니다')\n",
    "else:\n",
    "    print('사용할 수 없는 ID입니다.')"
   ]
  },
  {
   "cell_type": "code",
   "execution_count": 301,
   "id": "9d5c597b",
   "metadata": {
    "slideshow": {
     "slide_type": "skip"
    }
   },
   "outputs": [
    {
     "name": "stdout",
     "output_type": "stream",
     "text": [
      "도시명:서울\n",
      "서울 특별시\n"
     ]
    }
   ],
   "source": [
    "#(3) 사용자로부터 우리나라 도시명을 입력 받은 뒤 입력받은 도시명이 서울이면 \"특별시\"를 \n",
    "#              인천,부산,광주,대구,대전,울산 이면 \"광역시\"를 나머지는 \"특별시나 광역시가 아닙니다.\"를 출력하세요.\n",
    "\n",
    "city = input('도시명:').strip()\n",
    "\n",
    "if city == '서울':\n",
    "    print(f'{city} 특별시')\n",
    "elif city in ['인천','부산','광주','대구','대전','울산']:\n",
    "    print(f'{city}광역시')\n",
    "else: \n",
    "    print('특별시나 광역시가 아닙니다')"
   ]
  },
  {
   "cell_type": "code",
   "execution_count": 14,
   "id": "d83c9de9",
   "metadata": {
    "slideshow": {
     "slide_type": "skip"
    }
   },
   "outputs": [],
   "source": [
    "#(4) 아래 리스트의 평균을 구하시오. \n",
    "jumsu = [100, 90, 100, 80, 70, 100, 80, 90, 95, 85]"
   ]
  },
  {
   "cell_type": "code",
   "execution_count": 15,
   "id": "4139a16b",
   "metadata": {
    "slideshow": {
     "slide_type": "skip"
    }
   },
   "outputs": [
    {
     "name": "stdout",
     "output_type": "stream",
     "text": [
      "평균: 89.0\n"
     ]
    }
   ],
   "source": [
    "result = 0\n",
    "for value in jumsu:\n",
    "    # value => 리스트 안에 들어가 있는 원소 갯수, result => 원소들의 합값\n",
    "    result += value \n",
    "avg = result / len(jumsu)\n",
    "print('평균:',avg )"
   ]
  },
  {
   "cell_type": "code",
   "execution_count": 16,
   "id": "83563e06",
   "metadata": {
    "slideshow": {
     "slide_type": "skip"
    }
   },
   "outputs": [
    {
     "name": "stdout",
     "output_type": "stream",
     "text": [
      "합계: 890\n",
      "평균: 89.0\n"
     ]
    }
   ],
   "source": [
    "# 내장 함수 - sum(iterable)\n",
    "print('합계:',sum(jumsu))\n",
    "print('평균:',sum(jumsu) / len(jumsu))"
   ]
  },
  {
   "cell_type": "code",
   "execution_count": 17,
   "id": "895b58c8",
   "metadata": {
    "scrolled": true,
    "slideshow": {
     "slide_type": "skip"
    }
   },
   "outputs": [
    {
     "name": "stdout",
     "output_type": "stream",
     "text": [
      "1-pass\n",
      "2-pass\n",
      "3-pass\n",
      "4-fail\n",
      "5-fail\n",
      "6-pass\n",
      "7-fail\n",
      "8-pass\n",
      "9-pass\n",
      "10-fail\n"
     ]
    }
   ],
   "source": [
    "#(5) 위 jumsu리스트에서 평균점수이상은 pass, 미만은 fail을 index번호와 \n",
    "#                                               함께 출력하시오.(ex: 0-pass, 1-pass, 2-fail)\n",
    "\n",
    "# 반복문 : enumerate() idx 번호 출력\n",
    "for idx, j in enumerate(jumsu, start=1): \n",
    "    if j >= avg:\n",
    "        print(f'{idx}-pass')\n",
    "    else:\n",
    "        print(f'{idx}-fail')\n"
   ]
  },
  {
   "cell_type": "code",
   "execution_count": 18,
   "id": "439da474",
   "metadata": {},
   "outputs": [
    {
     "name": "stdout",
     "output_type": "stream",
     "text": [
      "1-pass\n",
      "2-pass\n",
      "3-pass\n",
      "4-fail\n",
      "5-fail\n",
      "6-pass\n",
      "7-fail\n",
      "8-pass\n",
      "9-pass\n",
      "10-fail\n"
     ]
    }
   ],
   "source": [
    "for idx, j in enumerate(jumsu,start=1):\n",
    "    print(f'{idx}-pass' if j >= avg else f\"{idx}-fail\")"
   ]
  },
  {
   "cell_type": "code",
   "execution_count": 309,
   "id": "173aea8d",
   "metadata": {
    "slideshow": {
     "slide_type": "skip"
    }
   },
   "outputs": [],
   "source": [
    "#(6) 아래 리스트 값들 중 최대값을 조회해 출력\n",
    "jumsu = [60, 90, 80, 80, 70, 55, 80, 90, 95, 85]"
   ]
  },
  {
   "cell_type": "code",
   "execution_count": 310,
   "id": "8a90c987",
   "metadata": {
    "slideshow": {
     "slide_type": "skip"
    }
   },
   "outputs": [
    {
     "name": "stdout",
     "output_type": "stream",
     "text": [
      "95\n"
     ]
    }
   ],
   "source": [
    "maxgest = jumsu[0]\n",
    "\n",
    "for i in jumsu:\n",
    "    # 리스트의 원소값이 maxgest 보다 크면 그 원소로 최대값을 변경\n",
    "     if i > maxgest: \n",
    "            # 리스트의 원소값이 maxgest 보다 크면 그 원소로 최대값을 변경\n",
    "            maxgest = i \n",
    "print(maxgest)"
   ]
  },
  {
   "cell_type": "code",
   "execution_count": 311,
   "id": "ee421a60",
   "metadata": {
    "slideshow": {
     "slide_type": "skip"
    }
   },
   "outputs": [
    {
     "name": "stdout",
     "output_type": "stream",
     "text": [
      "95\n"
     ]
    }
   ],
   "source": [
    "print(max(jumsu))\n",
    "# 내장함수 : max( iterable ) , min( iterable )"
   ]
  },
  {
   "cell_type": "code",
   "execution_count": 314,
   "id": "89e9b9d8",
   "metadata": {
    "slideshow": {
     "slide_type": "skip"
    }
   },
   "outputs": [],
   "source": [
    "#(7) 다음 리스트 중에서 \"쥐\"와 \"토끼\" 제외한 나머지를 출력하세요.\n",
    "str_list = [\"쥐\", \"소\", \"호랑이\", \"토끼\", \"용\", \"뱀\"]"
   ]
  },
  {
   "cell_type": "code",
   "execution_count": 315,
   "id": "5da6f3d6",
   "metadata": {
    "slideshow": {
     "slide_type": "skip"
    }
   },
   "outputs": [
    {
     "name": "stdout",
     "output_type": "stream",
     "text": [
      "소\n",
      "호랑이\n",
      "용\n",
      "뱀\n"
     ]
    }
   ],
   "source": [
    "# 반복문 안에서 조건문\n",
    "for value in str_list:\n",
    "    if value not in ['쥐','토끼']:\n",
    "        print(value)"
   ]
  },
  {
   "cell_type": "code",
   "execution_count": 316,
   "id": "37c8f6d7",
   "metadata": {
    "slideshow": {
     "slide_type": "skip"
    }
   },
   "outputs": [
    {
     "name": "stdout",
     "output_type": "stream",
     "text": [
      "소\n",
      "호랑이\n",
      "용\n",
      "뱀\n"
     ]
    }
   ],
   "source": [
    "for value in str_list:\n",
    "    if value in ['쥐','토끼']:\n",
    "        continue\n",
    "    print(value)"
   ]
  },
  {
   "cell_type": "code",
   "execution_count": 1,
   "id": "4174befe",
   "metadata": {
    "scrolled": false,
    "slideshow": {
     "slide_type": "skip"
    }
   },
   "outputs": [
    {
     "name": "stdout",
     "output_type": "stream",
     "text": [
      "단:1\n",
      " 1 * 1 = 1 \n",
      " 1 * 2 = 2 \n",
      " 1 * 3 = 3 \n",
      " 1 * 4 = 4 \n",
      " 1 * 5 = 5 \n",
      " 1 * 6 = 6 \n",
      " 1 * 7 = 7 \n",
      " 1 * 8 = 8 \n",
      " 1 * 9 = 9 \n"
     ]
    }
   ],
   "source": [
    "#(8) 사용자로부터 정수를 입력받아 그 단의 구구단을 출력하시오. \n",
    "# ex) 단을 입력하시오 : 2  \n",
    "# 2 x 1 = 2\n",
    "# 2 x 2 = 4\n",
    "#..\n",
    "# 2 x 9 = 18\n",
    "\n",
    "dan = int(input('단:'))\n",
    "# a = 1 ~ 9 까지 들어감\n",
    "for i in range(1,10): \n",
    "    print( f' {dan} * {i} = {dan * i} ')"
   ]
  },
  {
   "cell_type": "code",
   "execution_count": 317,
   "id": "3b2387c8",
   "metadata": {
    "slideshow": {
     "slide_type": "skip"
    }
   },
   "outputs": [
    {
     "name": "stdout",
     "output_type": "stream",
     "text": [
      "2 * 1 = 2\t3 * 1 = 3\t4 * 1 = 4\t5 * 1 = 5\t6 * 1 = 6\t7 * 1 = 7\t8 * 1 = 8\t9 * 1 = 9\t\n",
      "2 * 2 = 4\t3 * 2 = 6\t4 * 2 = 8\t5 * 2 = 10\t6 * 2 = 12\t7 * 2 = 14\t8 * 2 = 16\t9 * 2 = 18\t\n",
      "2 * 3 = 6\t3 * 3 = 9\t4 * 3 = 12\t5 * 3 = 15\t6 * 3 = 18\t7 * 3 = 21\t8 * 3 = 24\t9 * 3 = 27\t\n",
      "2 * 4 = 8\t3 * 4 = 12\t4 * 4 = 16\t5 * 4 = 20\t6 * 4 = 24\t7 * 4 = 28\t8 * 4 = 32\t9 * 4 = 36\t\n",
      "2 * 5 = 10\t3 * 5 = 15\t4 * 5 = 20\t5 * 5 = 25\t6 * 5 = 30\t7 * 5 = 35\t8 * 5 = 40\t9 * 5 = 45\t\n",
      "2 * 6 = 12\t3 * 6 = 18\t4 * 6 = 24\t5 * 6 = 30\t6 * 6 = 36\t7 * 6 = 42\t8 * 6 = 48\t9 * 6 = 54\t\n",
      "2 * 7 = 14\t3 * 7 = 21\t4 * 7 = 28\t5 * 7 = 35\t6 * 7 = 42\t7 * 7 = 49\t8 * 7 = 56\t9 * 7 = 63\t\n",
      "2 * 8 = 16\t3 * 8 = 24\t4 * 8 = 32\t5 * 8 = 40\t6 * 8 = 48\t7 * 8 = 56\t8 * 8 = 64\t9 * 8 = 72\t\n",
      "2 * 9 = 18\t3 * 9 = 27\t4 * 9 = 36\t5 * 9 = 45\t6 * 9 = 54\t7 * 9 = 63\t8 * 9 = 72\t9 * 9 = 81\t\n"
     ]
    }
   ],
   "source": [
    "# 구구단 표 \n",
    "\n",
    "for i in range(1,10):\n",
    "    for dan in range(2,10):\n",
    "        # \\t 탭 \n",
    "        print(f'{dan} * {i} = {dan * i}',end='\\t') \n",
    "    # 엔터\n",
    "    print() "
   ]
  },
  {
   "cell_type": "code",
   "execution_count": null,
   "id": "6462b70e",
   "metadata": {
    "slideshow": {
     "slide_type": "skip"
    }
   },
   "outputs": [],
   "source": [
    "#(9) 다음 리스트가 가진 값에 두배(* 2)를 가지는 새로운 리스트를 만드시오. (리스트 컴프리헨션 이용)\n",
    "lst = [10, 30, 70, 5, 120, 700, 1, 35]\n",
    "\n",
    "# 일괄 처리 -> mapping\n",
    "list_a = [ l * 2 for l in lst ] \n",
    "\n",
    "print(list_a)"
   ]
  },
  {
   "cell_type": "code",
   "execution_count": 319,
   "id": "bb447547",
   "metadata": {
    "slideshow": {
     "slide_type": "skip"
    }
   },
   "outputs": [
    {
     "name": "stdout",
     "output_type": "stream",
     "text": [
      "[(10, 100), (30, 300), (70, 700), (5, 50), (5, 50), (120, 1200), (700, 7000), (1, 10), (35, 350), (35, 350)]\n"
     ]
    }
   ],
   "source": [
    "#(10) 다음 리스트가 가진 값에 10배의 값을 가지는 값을 (원래값, 10배값) 의 튜플 묶음으로 가지는 리스트를 만드시오 \n",
    "#                                                                            (리스트 컴프리헨션 이용)\n",
    "# Ex) [(10,100), (30,300), .., (35, 350)]\n",
    "lst = [10, 30, 70, 5, 5, 120, 700, 1, 35, 35]\n",
    "\n",
    "# ( ) tuple 로 묶음\n",
    "lst3 = [(v, v*10) for v in lst ] \n",
    "\n",
    "# 리스트 / 셋컴프리헨션은 반복할 떄마다 한개의 값이 추가되도록 해야함\n",
    "# [ v, v*10 for v in lst ] \n",
    "\n",
    "# 딕셔너리 컴프리헨션 반복할 때마다 key:value 형태의 한개의 item이 추가되도록 해야함\n",
    "# { v : v*10 for v in ist} \n",
    "\n",
    "print(lst3)"
   ]
  },
  {
   "cell_type": "code",
   "execution_count": 320,
   "id": "ba9ff3cf",
   "metadata": {
    "slideshow": {
     "slide_type": "skip"
    }
   },
   "outputs": [
    {
     "name": "stdout",
     "output_type": "stream",
     "text": [
      "[3, 33, 21, 33, 60, 120]\n"
     ]
    }
   ],
   "source": [
    "#(11) 다음 리스트가 가진 값들 중 3의 배수만 가지는 리스트를 만드시오. (리스트 컴프리헨션 이용)\n",
    "lst2 = [ 3, 20, 33, 21, 33, 8, 11, 10, 7, 17, 60, 120, 2]\n",
    "\n",
    "# 특정 조건의 값들만 걸러낸다. -> filltering\n",
    "lst4 =  [ l for l in lst2 if l % 3 == 0 ] \n",
    "print(lst4)"
   ]
  },
  {
   "cell_type": "code",
   "execution_count": 323,
   "id": "1748ca97",
   "metadata": {
    "slideshow": {
     "slide_type": "skip"
    }
   },
   "outputs": [
    {
     "name": "stdout",
     "output_type": "stream",
     "text": [
      "['a.exe', 'function.exe', 'b.exe', 'run.exe']\n"
     ]
    }
   ],
   "source": [
    "# (12) 다음 파일이름들을 담은 리스트에서 확장자가 exe인 파일만 골라서 새로운 리스트에 담으시오.\n",
    "#                                                                        (string의 endswith()함수 이용)\n",
    "file_name=[\"test.txt\", \"a.exe\", \"jupyter.bat\", \"function.exe\", \"b.exe\", \"cat.jpg\", \"dog.png\", \"run.exe\", \"i.dll\"]\n",
    "\n",
    "# endswith( ) , startswith( ) Ture 인것만 file 에 넣음\n",
    "file1 = [ file for file in file_name if file.endswith('.exe' ) ]\n",
    "print(file1)"
   ]
  },
  {
   "cell_type": "code",
   "execution_count": 322,
   "id": "fe63ae90",
   "metadata": {
    "slideshow": {
     "slide_type": "skip"
    }
   },
   "outputs": [
    {
     "name": "stdout",
     "output_type": "stream",
     "text": [
      "['mystroy.txt', 'jupyter.bat', 'function.exe']\n"
     ]
    }
   ],
   "source": [
    "#(13) 다음 중 10글자 이상인 파일명(확장자포함)만 가지는 리스트를 만드시오.\n",
    "file_name=[\"mystroy.txt\", \"a.exe\", \"jupyter.bat\", \"function.exe\", \"b.exe\", \"cat.jpg\", \"dog.png\", \"run.exe\", \"i.dll\"]\n",
    "\n",
    "# 각 파일명의 글자수를 저장\n",
    "file2 = [ file for file in file_name if len(file) >= 10 ] \n",
    "print(file2)"
   ]
  },
  {
   "cell_type": "code",
   "execution_count": 321,
   "id": "a0cc04fa",
   "metadata": {
    "slideshow": {
     "slide_type": "skip"
    }
   },
   "outputs": [
    {
     "name": "stdout",
     "output_type": "stream",
     "text": [
      "['c', 'g', 'h', 'k']\n"
     ]
    }
   ],
   "source": [
    "#(14) 다음 리스트에서 소문자만 가지는 새로운 리스트를 만드시오.\n",
    "str_list = [\"A\", \"B\", \"c\", \"D\", \"E\", \"F\", \"g\", \"h\", \"I\", \"J\", \"k\"]\n",
    "\n",
    "# .islower => 소문자인가 , isupper => 대문자인가\n",
    "file3 = [ s for s in str_list if s.islower() ] \n",
    "print(file3)"
   ]
  }
 ],
 "metadata": {
  "kernelspec": {
   "display_name": "Python 3 (ipykernel)",
   "language": "python",
   "name": "python3"
  },
  "language_info": {
   "codemirror_mode": {
    "name": "ipython",
    "version": 3
   },
   "file_extension": ".py",
   "mimetype": "text/x-python",
   "name": "python",
   "nbconvert_exporter": "python",
   "pygments_lexer": "ipython3",
   "version": "3.11.4"
  },
  "toc": {
   "base_numbering": 1,
   "nav_menu": {},
   "number_sections": true,
   "sideBar": true,
   "skip_h1_title": false,
   "title_cell": "Table of Contents",
   "title_sidebar": "Contents",
   "toc_cell": false,
   "toc_position": {},
   "toc_section_display": true,
   "toc_window_display": false
  },
  "varInspector": {
   "cols": {
    "lenName": 16,
    "lenType": 16,
    "lenVar": 40
   },
   "kernels_config": {
    "python": {
     "delete_cmd_postfix": "",
     "delete_cmd_prefix": "del ",
     "library": "var_list.py",
     "varRefreshCmd": "print(var_dic_list())"
    },
    "r": {
     "delete_cmd_postfix": ") ",
     "delete_cmd_prefix": "rm(",
     "library": "var_list.r",
     "varRefreshCmd": "cat(var_dic_list()) "
    }
   },
   "types_to_exclude": [
    "module",
    "function",
    "builtin_function_or_method",
    "instance",
    "_Feature"
   ],
   "window_display": false
  }
 },
 "nbformat": 4,
 "nbformat_minor": 5
}
