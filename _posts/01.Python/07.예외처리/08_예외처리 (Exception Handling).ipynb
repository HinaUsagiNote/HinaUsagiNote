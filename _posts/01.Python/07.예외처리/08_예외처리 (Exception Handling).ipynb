{
 "cells": [
  {
   "cell_type": "markdown",
   "metadata": {
    "slideshow": {
     "slide_type": "slide"
    }
   },
   "source": [
    "# 오류\n",
    "\n",
    "- 함수나 메소드가 처리 도중 다음 명령문을 실행할 수 없는 상황\n",
    "- 오류 중 처리가능한 것을 Exception(예외) 라고 한다. 그리고 그 예외를 처리하는 것을 Exception Handling 이라고 한다.\n",
    "\n",
    "![개요](images/ch08_01.png)\n"
   ]
  },
  {
   "cell_type": "markdown",
   "metadata": {
    "slideshow": {
     "slide_type": "slide"
    }
   },
   "source": [
    "## 오류의 종류\n",
    "- **파이썬 문법을 어겨서 발생하는 오류**\n",
    "    - 코드 상 100% 발생하는 오류\n",
    "    - 코드를 수정해 야한다.\n",
    "    - 보통 이런 오류는 컴파일 방식 언어의 경우 컴파일 때 에러를 내서 수정하도록 한다.\n",
    "- **실행 환경의 문제로 발생하는 오류**\n",
    "    - 코드상에서는 Exception의 발생여부를 확신할 수 없다.\n",
    "    - 만약 발생할 경우 어떻게 처리할지를 구현해야 한다."
   ]
  },
  {
   "cell_type": "code",
   "execution_count": 3,
   "metadata": {
    "slideshow": {
     "slide_type": "fragment"
    }
   },
   "outputs": [],
   "source": [
    "def set_age(self,age):\n",
    "    if age >= 0:\n",
    "        self.age = age\n",
    "    # 프로그램이 정상적인 실행을 못했을 때\n",
    "    else:\n",
    "        '예외 발생'\n",
    "# Exception 실행할때 오류 발생 여부 X\n",
    "## 하지만 추측은 할수있다. "
   ]
  },
  {
   "cell_type": "markdown",
   "metadata": {
    "slideshow": {
     "slide_type": "slide"
    }
   },
   "source": [
    "## Exception handling\n",
    "Exception이 발생되어 프로그램이 더이상 실행될 수 없는 상황을 처리(handling)해서 정상화 시키는 작업을 말한다.  \n",
    "try - except 구문을 이용해 처리한다."
   ]
  },
  {
   "cell_type": "markdown",
   "metadata": {
    "slideshow": {
     "slide_type": "fragment"
    }
   },
   "source": [
    "###  try, except 구문\n",
    "\n",
    "```python\n",
    "try:\n",
    "    Exception 발생가능한 코드 블록\n",
    "except [Exception클래스 이름 [as 변수]] :\n",
    "    처리 코드   \n",
    "```"
   ]
  },
  {
   "cell_type": "markdown",
   "metadata": {
    "slideshow": {
     "slide_type": "fragment"
    }
   },
   "source": [
    "- **try block**\n",
    "    - Exception 발생 가능성 있는 코드와 그 코드와 연결된 코드들을 블록으로 묶는다.\n",
    "        - 연결된 코드란 Exception이 발생 안해야만 실행되는 코드를 말한다.\n",
    "- **except block**\n",
    "    - 발생한 Exception을 처리하는 코드 블록을 작성한다.\n",
    "        - try block의 코드를 실행하다 exception이 발생하면 except block이 실행된다. Exception이 발생하지 않으면 실행되지 않는다.\n",
    "    - try block에서 발생한 모든 Exception을 처리하는 경우 `except:` 로 선언한다.\n",
    "    - try block에서 발생한 특정 Exception만 따로 처리할 경우 `except Exception클래스 이름` 을 선언한다.\n",
    "        - 모든 Exception들은 클래스로 정의 되어 있다. 그 클래스 이름을 적어준다.\n",
    "        - **Exception 들 별로 각각 처리할 수 있으면 이 경우 except 구문(처리구문)을 연속해서 작성하면 된다.**\n",
    "    - try block에서 발생한 특정 Exception만 따로 처리하고 그 Exception이 왜 발생했는지 등의 정보를 사용할 경우 `except Exception 클래스 이름 as 변수명` 으로 선언하고 변수명을 이용해 정보를 조회한다.\n",
    "        "
   ]
  },
  {
   "cell_type": "code",
   "execution_count": 15,
   "metadata": {},
   "outputs": [
    {
     "name": "stdout",
     "output_type": "stream",
     "text": [
      "프로그램 시작\n",
      "정수:123\n",
      "결과: 0\n",
      "프로그램 종료\n"
     ]
    }
   ],
   "source": [
    "print(\"프로그램 시작\")    # 1\n",
    "\n",
    "num = int(input(\"정수:\"))# 2.Exception 발생 가능성이 있는 코드.\n",
    "result = 10 // num       # 3\n",
    "print(\"결과:\", result)   # 4\n",
    "   \n",
    "print(\"프로그램 종료\") "
   ]
  },
  {
   "cell_type": "code",
   "execution_count": 16,
   "metadata": {
    "slideshow": {
     "slide_type": "fragment"
    }
   },
   "outputs": [
    {
     "name": "stdout",
     "output_type": "stream",
     "text": [
      "프로그램 시작\n",
      "정수:0\n",
      "실행도중 문제가 발생했습니다. 일단 처리했습니다.\n",
      "프로그램 종료 ==> 다음작업\n"
     ]
    }
   ],
   "source": [
    "# Exception Error 하나만 처리\n",
    "print(\"프로그램 시작\")    # 1\n",
    "\n",
    "try:\n",
    "    num = int(input(\"정수:\"))#  2.Exception 발생 가능성이 있는 코드.\n",
    "    result = 10 // num       # 3. Exception 발생 가능성이 있는 코드.\n",
    "    print(\"결과:\", result)   # 4\n",
    "except:\n",
    "    print(\"실행도중 문제가 발생했습니다. 일단 처리했습니다.\")  # EH\n",
    "    \n",
    "    \n",
    "print(\"프로그램 종료 ==> 다음작업\")    # 5\n",
    "\n",
    "\n",
    "# 정상흐름: 1, 2, 3, 4, 5\n",
    "# 2번에서 Exception 발생: 1, 2(x), 3(x), 4(x), EH, 5\n",
    "#      -> 1, EH, 5\n",
    "# 3번에서 Exception 발생: 1. 2, 3(x), 4(x), EH, \n",
    "#      -> 1, 2, EH, 5"
   ]
  },
  {
   "cell_type": "code",
   "execution_count": 19,
   "metadata": {},
   "outputs": [
    {
     "name": "stdout",
     "output_type": "stream",
     "text": [
      "프로그램 시작\n",
      "점수:123\n",
      "결과: 0\n",
      "실행도중 문제가 발생했습니다. 일단 처리했습니다\n",
      "e 변수출력: name 'result2' is not defined\n",
      "프로그램 종료 ==> 다음작업\n"
     ]
    }
   ],
   "source": [
    "# Exception 났을 때 클래스 이름을 정해줘야한다. => 클래스 : 파이썬 내장에 있는 에러 클래스 이름과 같이 넣어야함\n",
    "## 에러 블륵은 그냥 실행을 안하고 그냥 넘어감 ( 기록 남음 )\n",
    "### 에러가 난 블록은 출력을 그만하고 다음 코드블록으로 넘어감 ( 해결이 안됨 )\n",
    "print('프로그램 시작') # 1\n",
    "\n",
    "try:\n",
    "    num = int(input('점수:')) # 2 Excetion 발생 가능성이 있는 코드,\n",
    "    result = 10 // num # 3 Excetion 발생 가능성 있는 코드 \n",
    "    print('결과:',result) # 4\n",
    "    print('결과2:', result2) # NameError Exception 발생 \n",
    "except ValueError as ve: # ValueError 를 처리하는 Block\n",
    "    print('정수로 변환을 못했습니다.- ValueError 발생 -') # EH 1 ( Excetion Handling )\n",
    "    print('ve 변수출력:',ve)\n",
    "except ZeroDivisionError as ze: # ZeroDivisionError 를 처리하는 Block\n",
    "    print('0으로는 못나눕니다. - ZeroDivisionError 발생 -') # EH 2 ( Excetion Handling )\n",
    "    print('ze 변수출력:',ze)\n",
    "except Exception as e : # 두 Excetion을 제외한 나머지 Excetion 을 처리.\n",
    "    print('실행도중 문제가 발생했습니다. 일단 처리했습니다') # EH 3 ( Excetion Handling )\n",
    "    print('e 변수출력:',e)\n",
    "print('프로그램 종료 ==> 다음작업') # 5\n",
    "\n",
    "# Try -> ValueError 발생 : 1, EH1, 5\n",
    "# Try -> ZeroDivisionEroor 발생 : 1, 2, EH2, 5\n",
    "# Try -> ValueError, ZeroDivisionError 제외된 exception 발생( NameError )\n",
    "#                  1, 2, 3, 4, EH3, 5"
   ]
  },
  {
   "cell_type": "markdown",
   "metadata": {
    "slideshow": {
     "slide_type": "subslide"
    }
   },
   "source": [
    "### finally 구문\n",
    "\n",
    "- 예외 발생여부, 처리 여부와 관계없이 무조건 실행되는 코드블록\n",
    "    - try 구문에 **반드시 실행되야 하는 코드블록을 작성할때 사용한다.**\n",
    "    - 보통 프로그램이 외부자원과 연결해서 데이터를 주고 받는 작업을 할때 마지막 연결을 종료하는 작업을 finally 블록에 넣는다.\n",
    "- finally 는 except 보다 먼저 올 수 없다.\n",
    "    - 구문순서\n",
    "        1. try - except - finally\n",
    "        1. try - except\n",
    "        1. try - finally"
   ]
  },
  {
   "cell_type": "code",
   "execution_count": 25,
   "metadata": {
    "slideshow": {
     "slide_type": "fragment"
    }
   },
   "outputs": [
    {
     "name": "stdout",
     "output_type": "stream",
     "text": [
      "시작\n",
      "1\n",
      "2\n",
      "무조건 실행한다.\n",
      "종료\n"
     ]
    }
   ],
   "source": [
    "\n",
    "print('시작')\n",
    "try:\n",
    "    print(1)\n",
    "    a= 10 / 1\n",
    "    print(2)\n",
    "#     b = int('aa')\n",
    "except ValueError:\n",
    "    print(3)\n",
    "# 도중에 무조건 에러가 나도 Finally를 실행\n",
    "finally:\n",
    "    print('무조건 실행한다.')\n",
    "print('종료')\n"
   ]
  },
  {
   "cell_type": "code",
   "execution_count": 17,
   "metadata": {},
   "outputs": [
    {
     "name": "stdout",
     "output_type": "stream",
     "text": [
      "aaaa\n",
      "예외발생\n",
      "무조건실행할 코드\n"
     ]
    }
   ],
   "source": [
    "try:\n",
    "    a = int(input())\n",
    "except:\n",
    "    print(\"예외발생\")\n",
    "else:\n",
    "    print(a + 10)\n",
    "finally:\n",
    "    print(\"무조건실행할 코드\")"
   ]
  },
  {
   "cell_type": "markdown",
   "metadata": {
    "slideshow": {
     "slide_type": "slide"
    }
   },
   "source": [
    "## Exception 발생 시키기\n",
    "\n",
    "### 사용자 정의 Exception 클래스 구현\n",
    "\n",
    "- 파이썬은 Exception 상황을 클래스로 정의해 사용한다.\n",
    "    - Exception이 발생하는 상황과 관련된 attribute들과 메소드들을 정의한 클래스\n",
    "    \n",
    "- 구현\n",
    "    - `Exception` 내장클래스를 **상속받는다.**\n",
    "    - 클래스 이름은 Exception 상황을 설명할 수 있는 이름을 준다.\n",
    "    "
   ]
  },
  {
   "cell_type": "code",
   "execution_count": 18,
   "metadata": {
    "slideshow": {
     "slide_type": "fragment"
    }
   },
   "outputs": [],
   "source": [
    "# 월에 1 ~ 12 이외의 값을 대입할 때 발생시킬 exception 클래스 정의\n",
    "class InvalidMonthException(Exception):\n",
    "    def __init__(self, invalid_month):\n",
    "        # attribute로 입력된 \"잘못된 월\" 값을 저장.\n",
    "        self.invalid_month = invalid_month\n",
    "        \n",
    "    def __str__(self):\n",
    "        # Exception Error 메세지를 문자열로 반환.\n",
    "        return f\"{self.invalid_month}는 사용할 수 없는 월입니다. 1 ~ 12 만 가능합니다.\""
   ]
  },
  {
   "cell_type": "markdown",
   "metadata": {
    "slideshow": {
     "slide_type": "slide"
    }
   },
   "source": [
    "### Exception 발생시키기\n",
    "- 함수나 메소드가 더이상 작업을 진행 할 수 없는 조건이 되면 Exception을 강제로 발생시킨다.\n",
    "- **Call Stack Mechanism**\n",
    "    - 발생한 Exception은 처리를 하지 않으면 caller에게 전달된다.\n",
    "        - 발생한 Exception에 대한 처리가 모든 caller에서 안되면 결국 파이썬 실행환경까지 전달되어 프로그램은 비정상적으로 종료 되게 된다."
   ]
  },
  {
   "cell_type": "code",
   "execution_count": null,
   "metadata": {
    "slideshow": {
     "slide_type": "fragment"
    }
   },
   "outputs": [],
   "source": []
  },
  {
   "cell_type": "markdown",
   "metadata": {
    "slideshow": {
     "slide_type": "subslide"
    }
   },
   "source": [
    "### raise 구문\n",
    "- Exception을 강제로 발생시킨다.\n",
    "    - 업무 규칙을 어겼거나 다음 명령문을 실행할 수 없는 조건이 되면 진행을 멈추고 caller로 요청에게 작업을 처리 못했음을 알리며 돌아가도록 할때 exception을 발생시킨다.\n",
    "    - 구문\n",
    "    ```python\n",
    "        raise Exception객체\n",
    "    ```\n",
    "- **raise와 return**\n",
    "    - 함수나 메소드에서 return과 raise 구문이 실행되면 모두 caller로 돌아간다.\n",
    "    - return은 정상적으로 끝나서 돌아가는 의미이다. 그래서 처리결과가 있으면 그 값을 가지고 돌아간다.\n",
    "        - caller는 그 다음작업을 이어서 하면 된다.\n",
    "    - raise는 실행도중 문제(Exception)가 생겨 비정상적으로 끝나서 돌아가는 의미이다. 그래서 비정상적인 상황 정보를 가지는 Exception객체를 반환값으로 가지고 돌아간다.\n",
    "        - caller는 try - except구문으로 발생한 exception을 처리하여 프로그램을 정상화 하거나 자신도 caller에게 exception을 발생시키는 처리를 한다.\n",
    "        "
   ]
  },
  {
   "cell_type": "code",
   "execution_count": 24,
   "metadata": {
    "slideshow": {
     "slide_type": "fragment"
    }
   },
   "outputs": [],
   "source": [
    "def use_month(month):\n",
    "    if month < 1 or month > 13:\n",
    "        # 처리할수 없는 월. 호출한 곳으로 돌아간다. ==> 비정상(예외발생)종료상태로 돌아간다.\n",
    "        raise InvalidMonthException(month) # 비정상 return\n",
    "    print('month:',month)\n",
    "    return None"
   ]
  },
  {
   "cell_type": "code",
   "execution_count": 28,
   "metadata": {},
   "outputs": [
    {
     "ename": "InvalidMonthException",
     "evalue": "50는 사용할 수 없는 월입니다. 1 ~ 12 만 가능합니다.",
     "output_type": "error",
     "traceback": [
      "\u001b[1;31m---------------------------------------------------------------------------\u001b[0m",
      "\u001b[1;31mInvalidMonthException\u001b[0m                     Traceback (most recent call last)",
      "Cell \u001b[1;32mIn[28], line 1\u001b[0m\n\u001b[1;32m----> 1\u001b[0m use_month(\u001b[38;5;241m50\u001b[39m)\n",
      "Cell \u001b[1;32mIn[24], line 4\u001b[0m, in \u001b[0;36muse_month\u001b[1;34m(month)\u001b[0m\n\u001b[0;32m      1\u001b[0m \u001b[38;5;28;01mdef\u001b[39;00m \u001b[38;5;21muse_month\u001b[39m(month):\n\u001b[0;32m      2\u001b[0m     \u001b[38;5;28;01mif\u001b[39;00m month \u001b[38;5;241m<\u001b[39m \u001b[38;5;241m1\u001b[39m \u001b[38;5;129;01mor\u001b[39;00m month \u001b[38;5;241m>\u001b[39m \u001b[38;5;241m13\u001b[39m:\n\u001b[0;32m      3\u001b[0m         \u001b[38;5;66;03m# 처리할수 없는 월. 호출한 곳으로 돌아간다. ==> 비정상(예외발생)종료상태로 돌아간다.\u001b[39;00m\n\u001b[1;32m----> 4\u001b[0m         \u001b[38;5;28;01mraise\u001b[39;00m InvalidMonthException(month) \u001b[38;5;66;03m# 비정상 return\u001b[39;00m\n\u001b[0;32m      5\u001b[0m     \u001b[38;5;28mprint\u001b[39m(\u001b[38;5;124m'\u001b[39m\u001b[38;5;124mmonth:\u001b[39m\u001b[38;5;124m'\u001b[39m,month)\n\u001b[0;32m      6\u001b[0m     \u001b[38;5;28;01mreturn\u001b[39;00m \u001b[38;5;28;01mNone\u001b[39;00m\n",
      "\u001b[1;31mInvalidMonthException\u001b[0m: 50는 사용할 수 없는 월입니다. 1 ~ 12 만 가능합니다."
     ]
    }
   ],
   "source": [
    "use_month(50)"
   ]
  },
  {
   "cell_type": "code",
   "execution_count": 25,
   "metadata": {
    "slideshow": {
     "slide_type": "fragment"
    }
   },
   "outputs": [
    {
     "name": "stdout",
     "output_type": "stream",
     "text": [
      "month: 3\n"
     ]
    }
   ],
   "source": [
    "use_month(3)"
   ]
  },
  {
   "cell_type": "code",
   "execution_count": 29,
   "metadata": {
    "slideshow": {
     "slide_type": "fragment"
    }
   },
   "outputs": [
    {
     "name": "stdout",
     "output_type": "stream",
     "text": [
      "month: 5\n",
      "use_day(30)\n",
      "use_year(2020)\n"
     ]
    }
   ],
   "source": [
    "use_month(5) #1. 월 사용\n",
    "print(\"use_day(30)\")  #2. 일 사용\n",
    "print(\"use_year(2020)\")#3. 년도를 사용"
   ]
  },
  {
   "cell_type": "code",
   "execution_count": 15,
   "metadata": {
    "slideshow": {
     "slide_type": "fragment"
    }
   },
   "outputs": [
    {
     "name": "stdout",
     "output_type": "stream",
     "text": [
      "시작\n",
      "예외처리함 123는 사용할 수 없는 월입니다. 1 ~ 12 만 가능합니다.\n",
      "123\n",
      "종료\n"
     ]
    }
   ],
   "source": [
    "print('시작')\n",
    "try:\n",
    "    print(use_month(123)) # 발생 가능성이 있는 코드 Exce\n",
    "    print('use_month(30)') # 2. 일\n",
    "    print('use_year(2023)') # 3. 년도\n",
    "except InvalidMonthException as e: # e에는 raise한 Exception 객체가 할당.\n",
    "    print('예외처리함', e) # InvalidMonthException 문자열로 만들어서 print 함\n",
    "    print(e.invalid_month) # 123\n",
    "print('종료')"
   ]
  },
  {
   "cell_type": "code",
   "execution_count": 49,
   "metadata": {},
   "outputs": [],
   "source": [
    "# a -> b -> c -> d  -> c -> b -> a 종료 ====> callstack\n",
    "def a():\n",
    "    b()\n",
    "def b():\n",
    "    c()\n",
    "def c():\n",
    "    d()\n",
    "def d():\n",
    "    a = 10 / 0"
   ]
  },
  {
   "cell_type": "code",
   "execution_count": 50,
   "metadata": {},
   "outputs": [
    {
     "name": "stdout",
     "output_type": "stream",
     "text": [
      "처리-a\n"
     ]
    }
   ],
   "source": [
    "try:\n",
    "    a()\n",
    "except:\n",
    "    print('처리-a')"
   ]
  },
  {
   "cell_type": "code",
   "execution_count": 51,
   "metadata": {},
   "outputs": [],
   "source": [
    "# 재고량이 부족할 때 발생시킬 exception class\n",
    "class NotEnoughStockException(Exception):\n",
    "    \n",
    "    def __init__(self, stock_amount):\n",
    "        self.__stock_amount = stock_amount\n",
    "        \n",
    "    def __str__(self): # Exception 메세지를 반환\n",
    "        return f\"재고량 보다 주문량이 더 많습니다. 현재 재고량: {self.__stock_amount}\"\n",
    "    \n",
    "    @property\n",
    "    def stock_amount(self):  #getter\n",
    "        return self.__stock_amount\n",
    "    # setter는 정의 안함.==> 초기값을 변경 못하게 하겠다. ===> Immutable(불변) 타입"
   ]
  },
  {
   "cell_type": "code",
   "execution_count": 52,
   "metadata": {},
   "outputs": [],
   "source": [
    "### 주문처리 toy 함수\n",
    "\n",
    "def order_item(order_amount:int):\n",
    "    \"\"\"\n",
    "    주문 처리 함수\n",
    "    \n",
    "    Paramter\n",
    "        order_amount: int - 주문 개수\n",
    "    Return\n",
    "    Raise (Exception)\n",
    "        NotEnoughStockException - 주문량이 재고량보다 많으면 발생.\n",
    "        AException - \n",
    "        BException -\n",
    "    \"\"\"\n",
    "    print(\"1.재고량 조회\")\n",
    "    stock_amount = 10 # 조회한 재고량.\n",
    "    print(\"2. 주문처리 시작\")\n",
    "    \n",
    "    if stock_amount < order_amount: # 주문량이 더 많으면 예외발생\n",
    "        raise NotEnoughStockException(stock_amount)\n",
    "        \n",
    "    print(\"3. 주문처리\")\n",
    "    stock_amount -= order_amount\n",
    "    print(\"4. 주문처리 종료\")\n",
    "    print(\"남은 재고량:\", stock_amount)"
   ]
  },
  {
   "cell_type": "code",
   "execution_count": 53,
   "metadata": {},
   "outputs": [
    {
     "name": "stdout",
     "output_type": "stream",
     "text": [
      "1.재고량 조회\n",
      "2. 주문처리 시작\n",
      "3. 주문처리\n",
      "4. 주문처리 종료\n",
      "남은 재고량: 2\n"
     ]
    }
   ],
   "source": [
    "try:\n",
    "    order_item(8) \n",
    "except NotEnoughStockException as e:\n",
    "    print('exeption 처리:', e)\n",
    "    order_item(e.stock_amount)"
   ]
  },
  {
   "cell_type": "code",
   "execution_count": 54,
   "metadata": {},
   "outputs": [
    {
     "name": "stdout",
     "output_type": "stream",
     "text": [
      "1.재고량 조회\n",
      "2. 주문처리 시작\n",
      "exeption 처리: 재고량 보다 주문량이 더 많습니다. 현재 재고량: 10\n",
      "1.재고량 조회\n",
      "2. 주문처리 시작\n",
      "3. 주문처리\n",
      "4. 주문처리 종료\n",
      "남은 재고량: 0\n"
     ]
    }
   ],
   "source": [
    "try:\n",
    "    order_item(50) \n",
    "except NotEnoughStockException as e:\n",
    "    print('exeption 처리:', e)\n",
    "    order_item(e.stock_amount)"
   ]
  }
 ],
 "metadata": {
  "kernelspec": {
   "display_name": "Python 3 (ipykernel)",
   "language": "python",
   "name": "python3"
  },
  "language_info": {
   "codemirror_mode": {
    "name": "ipython",
    "version": 3
   },
   "file_extension": ".py",
   "mimetype": "text/x-python",
   "name": "python",
   "nbconvert_exporter": "python",
   "pygments_lexer": "ipython3",
   "version": "3.11.4"
  },
  "toc": {
   "base_numbering": 1,
   "nav_menu": {},
   "number_sections": true,
   "sideBar": true,
   "skip_h1_title": false,
   "title_cell": "Table of Contents",
   "title_sidebar": "Contents",
   "toc_cell": false,
   "toc_position": {},
   "toc_section_display": true,
   "toc_window_display": false
  },
  "varInspector": {
   "cols": {
    "lenName": 16,
    "lenType": 16,
    "lenVar": 40
   },
   "kernels_config": {
    "python": {
     "delete_cmd_postfix": "",
     "delete_cmd_prefix": "del ",
     "library": "var_list.py",
     "varRefreshCmd": "print(var_dic_list())"
    },
    "r": {
     "delete_cmd_postfix": ") ",
     "delete_cmd_prefix": "rm(",
     "library": "var_list.r",
     "varRefreshCmd": "cat(var_dic_list()) "
    }
   },
   "types_to_exclude": [
    "module",
    "function",
    "builtin_function_or_method",
    "instance",
    "_Feature"
   ],
   "window_display": false
  }
 },
 "nbformat": 4,
 "nbformat_minor": 4
}
