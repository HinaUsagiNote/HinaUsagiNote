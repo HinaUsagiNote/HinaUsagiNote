{
 "cells": [
  {
   "cell_type": "markdown",
   "metadata": {
    "slideshow": {
     "slide_type": "slide"
    }
   },
   "source": [
    "# 객체지향 프로그래밍 (Object Oriented Programming)\n",
    "\n",
    "프로그램을 구성하는 변수와 함수들에서 서로 연관성있는 것 끼리 묶어서 모듈화하는 개발하는 언어들을 객체지향프로그래밍 언어라고 한다."
   ]
  },
  {
   "cell_type": "markdown",
   "metadata": {
    "slideshow": {
     "slide_type": "fragment"
    }
   },
   "source": [
    "# Instance(객체)\n",
    "- 연관성 있는 값들과 그 값들을 처리하는 함수(메소드)들을 묶어서 가지고 있는 것(값).\n",
    "- 객체의 구성요소\n",
    "    - 속성(Attribute)\n",
    "        - 객체의 데이터/상태로 객체를 구성하는 값들.\n",
    "    - 메소드(method)\n",
    "        - 객체가 제공하는 기능으로 주로 Attribute들을 처리한다.\n",
    "        "
   ]
  },
  {
   "cell_type": "markdown",
   "metadata": {
    "slideshow": {
     "slide_type": "subslide"
    }
   },
   "source": [
    "## Class(클래스) 정의\n",
    "\n",
    "- class란: 객체의 설계도\n",
    "    - 동일한 형태의 객체들이 가져야 하는 Attribute와 Method들을 정의 한 것\n",
    "        - 클래스를 정의할 때 어떤 속성과 메소드를 가지는지 먼저 설계해야 한다.\n",
    "    - 클래스로 부터 객체(instance)를 생성한 뒤 사용한다.\n",
    "```python\n",
    "class 클래스이름:  #선언부\n",
    "    #클래스 구현\n",
    "    #메소드들을 정의\n",
    "```\n",
    "- 클래스 이름의 관례: 파스칼 표기법-각 단어의 첫글자는 대문자 나머진 소문자로 정의한다.\n",
    "    - ex) Person, Student, HighSchoolStudent\n",
    "    "
   ]
  },
  {
   "cell_type": "markdown",
   "metadata": {
    "slideshow": {
     "slide_type": "fragment"
    }
   },
   "source": [
    "## 클래스로부터 객체(Instance) 생성\n",
    "- 클래스는 데이터 타입 instance는 값이다.\n",
    "\n",
    "```python\n",
    "변수 = 클래스이름()\n",
    "```"
   ]
  },
  {
   "cell_type": "code",
   "execution_count": 68,
   "metadata": {
    "slideshow": {
     "slide_type": "fragment"
    }
   },
   "outputs": [],
   "source": [
    "# 아무것도 없는 클래스 생성\n",
    "class Person:\n",
    "    pass\n",
    "# 인스턴스( Instance ) : 값, Class : Data Type\n",
    "p = Person() # Instance 생성"
   ]
  },
  {
   "cell_type": "code",
   "execution_count": 69,
   "metadata": {
    "slideshow": {
     "slide_type": "fragment"
    }
   },
   "outputs": [
    {
     "name": "stdout",
     "output_type": "stream",
     "text": [
      "<class '__main__.Person'>\n"
     ]
    }
   ],
   "source": [
    "print(type(p))    "
   ]
  },
  {
   "cell_type": "markdown",
   "metadata": {
    "slideshow": {
     "slide_type": "subslide"
    }
   },
   "source": [
    "## Attribute(속성) \n",
    "- attribute는 객체의 데이터, 객체가 가지는 값, 객체의 상태\n",
    "\n",
    "### 객체에 속성을 추가, 조회\n",
    "- 객체의 속성 추가(값 변경)\n",
    "    1. Initializer(생성자)를 통한 추가 ( 보통 )\n",
    "    2. 객체.속성명 = 값 (추가/변경) \n",
    "    3. 메소드를 통한 추가/변경 ( 추천 -> 정보 은닉 ) \n",
    "    - 1번 방식 (Initializer)은 초기화할 때. 2, 3은 속성값을 변경할 때 적용.\n",
    "- 속성 값 조회\n",
    "    - 객체.속성명\n",
    "- **객체.\\_\\_dict\\_\\_**\n",
    "    - 객체가 가지고 있는 Attribute들을 dictionary로 반환한다."
   ]
  },
  {
   "cell_type": "code",
   "execution_count": 70,
   "metadata": {
    "slideshow": {
     "slide_type": "fragment"
    }
   },
   "outputs": [],
   "source": [
    "# 2. 객체에 송석을 추가, 조회 : 객체.속성명 = 값 ( 추가 / 값 )\n",
    "p = Person() # 객체 생성 및 변수에 할당"
   ]
  },
  {
   "cell_type": "code",
   "execution_count": 71,
   "metadata": {
    "slideshow": {
     "slide_type": "fragment"
    }
   },
   "outputs": [
    {
     "name": "stdout",
     "output_type": "stream",
     "text": [
      "{}\n"
     ]
    }
   ],
   "source": [
    "print(p.__dict__) # 객체가 가지는 속성들을 조회"
   ]
  },
  {
   "cell_type": "code",
   "execution_count": 72,
   "metadata": {
    "slideshow": {
     "slide_type": "fragment"
    }
   },
   "outputs": [],
   "source": [
    "# 속성값들을 추가\n",
    "p.name = \"홍길동\"\n",
    "p.age = 30\n",
    "p.address = \"인천\"\n",
    "p.tall = 174.5"
   ]
  },
  {
   "cell_type": "code",
   "execution_count": 73,
   "metadata": {
    "slideshow": {
     "slide_type": "fragment"
    }
   },
   "outputs": [
    {
     "name": "stdout",
     "output_type": "stream",
     "text": [
      "{'name': '홍길동', 'age': 30, 'address': '인천', 'tall': 174.5}\n"
     ]
    }
   ],
   "source": [
    "print(p.__dict__) # P 의 정보를 나타냄"
   ]
  },
  {
   "cell_type": "code",
   "execution_count": 74,
   "metadata": {
    "slideshow": {
     "slide_type": "fragment"
    }
   },
   "outputs": [
    {
     "name": "stdout",
     "output_type": "stream",
     "text": [
      "홍길동유재석 50 인천서울 194.7\n"
     ]
    }
   ],
   "source": [
    "# 속성값들을 조회, 추가\n",
    "print( p.name+'유재석', p.age+20, p.address+'서울', p.tall+20.2 )"
   ]
  },
  {
   "cell_type": "code",
   "execution_count": 75,
   "metadata": {
    "slideshow": {
     "slide_type": "fragment"
    }
   },
   "outputs": [
    {
     "name": "stdout",
     "output_type": "stream",
     "text": [
      "홍길동은 30세이고 인천에 살고있습니다.\n"
     ]
    }
   ],
   "source": [
    "print(f'{p.name}은 {p.age}세이고 {p.address}에 살고있습니다.')"
   ]
  },
  {
   "cell_type": "code",
   "execution_count": 76,
   "metadata": {
    "slideshow": {
     "slide_type": "fragment"
    }
   },
   "outputs": [],
   "source": [
    "p2 = Person() # Person instance를 생성해서 p2에 대입"
   ]
  },
  {
   "cell_type": "code",
   "execution_count": 77,
   "metadata": {
    "slideshow": {
     "slide_type": "fragment"
    }
   },
   "outputs": [
    {
     "name": "stdout",
     "output_type": "stream",
     "text": [
      "{}\n"
     ]
    }
   ],
   "source": [
    "print(p2.__dict__)"
   ]
  },
  {
   "cell_type": "code",
   "execution_count": 78,
   "metadata": {
    "slideshow": {
     "slide_type": "fragment"
    }
   },
   "outputs": [],
   "source": [
    "p2.name = '정준하'\n",
    "p2.age = 20\n",
    "p2.address = '부산'\n",
    "p2.email = 'a@a.com'"
   ]
  },
  {
   "cell_type": "code",
   "execution_count": 79,
   "metadata": {
    "slideshow": {
     "slide_type": "fragment"
    }
   },
   "outputs": [
    {
     "name": "stdout",
     "output_type": "stream",
     "text": [
      "{'name': '정준하', 'age': 20, 'address': '부산', 'email': 'a@a.com'}\n"
     ]
    }
   ],
   "source": [
    "print(p2.__dict__)"
   ]
  },
  {
   "cell_type": "code",
   "execution_count": 80,
   "metadata": {
    "slideshow": {
     "slide_type": "fragment"
    }
   },
   "outputs": [
    {
     "name": "stdout",
     "output_type": "stream",
     "text": [
      "정준하 20 부산 a@a.com\n"
     ]
    }
   ],
   "source": [
    "print( p2.name, p2.age, p2.address, p2.email )"
   ]
  },
  {
   "cell_type": "code",
   "execution_count": 81,
   "metadata": {
    "slideshow": {
     "slide_type": "fragment"
    }
   },
   "outputs": [
    {
     "name": "stdout",
     "output_type": "stream",
     "text": [
      "정준하이고 20세 부산에살고있습니다.\n"
     ]
    }
   ],
   "source": [
    "print( f'{p2.name}이고 {p2.age}세 {p2.address}에살고있습니다.' )"
   ]
  },
  {
   "cell_type": "markdown",
   "metadata": {
    "slideshow": {
     "slide_type": "subslide"
    }
   },
   "source": [
    "### 생성자(Initializer)\n",
    "- 객체를 생성할 때 호출되는 특수메소드로 attribute들 초기화에 하는 코드를 구현한다.\n",
    "    - Inializer를 이용해 초기화하는 Attribute들이 그 클래스의 객체들이 가져야 하는 공통 Attribute가 된다.\n",
    "- 구문\n",
    "```python\n",
    "def __init__(self [,매개변수들 선언]):  #[ ] 옵션.\n",
    "    # 구현 -> attribute(instance변수) 초기화\n",
    "    self.속성명 = 값\n",
    "```\n",
    "> 변수 초기화: 처음 변수 만들어서 처음 값 대입.    "
   ]
  },
  {
   "cell_type": "markdown",
   "metadata": {
    "slideshow": {
     "slide_type": "fragment"
    }
   },
   "source": [
    "### self  parameter\n",
    "- 메소드는 반드시 한개 이상의 parameter를 선언해야 하고 그 첫번째 parameter를 말한다.\n",
    "- 메소드 호출시 그 메소드를 소유한 instance가 self parameter에 할당된다.\n",
    "- Initializer의 self\n",
    "    - 현재 만들어 지고 있는 객체를 받는다.\n",
    "- 메소드의 self\n",
    "    - 메소드를 소유한 객체를 받는다.\n",
    "- Caller에서 생성자/메소드에 전달된 argument들을 받을 parameter는 두번째 변수부터 선언한다.    \n"
   ]
  },
  {
   "cell_type": "code",
   "execution_count": 82,
   "metadata": {
    "slideshow": {
     "slide_type": "fragment"
    }
   },
   "outputs": [],
   "source": [
    "# initializer를 이용해서 attribute(객체 변수)를 초기화\n",
    "class Person:\n",
    "# initializer 클래스 안에 정의 , self를 정의\n",
    "    def __init__(self, name, age, address=None):   # *args, **kwargs\n",
    "#                        ㄴ Parameter\n",
    "        \"\"\"\n",
    "        Parameter로 name, age, address를 받아서 ( 객체가 생성되는 시점 )\n",
    "        그 값들을 attribute로 저장.       \n",
    "        \"\"\"\n",
    "        # 메소드에서 attribute 조회. self.변수명 = 값 ( 대입 ), self. 변수명 ( 조회 )\n",
    "        self.name = name\n",
    "        self.age = age # self.age -> age 속성, age : parameter 변수\n",
    "        self.address = address \n",
    "        self.email = None\n",
    "    "
   ]
  },
  {
   "cell_type": "code",
   "execution_count": 83,
   "metadata": {
    "slideshow": {
     "slide_type": "fragment"
    }
   },
   "outputs": [],
   "source": [
    "# 객체 생성 : Class 이름( 변수1 대입할 값 ( name ), 변수2 대입할 값 ( age ) ) ==>  __init__( self, 변수1, 변수2 ) 호출\n",
    "# p = Person() TypeError: Person.__init__() missing 2 required positional arguments: 'name' and 'age'\n",
    "                              # Person 클래스 안에 Argument : name , age 안불음 "
   ]
  },
  {
   "cell_type": "code",
   "execution_count": 84,
   "metadata": {
    "slideshow": {
     "slide_type": "fragment"
    }
   },
   "outputs": [],
   "source": [
    "p = Person('홍길동', 24, '서울') # '홍' -> name, 33 -> age, '서울' -> address"
   ]
  },
  {
   "cell_type": "code",
   "execution_count": 85,
   "metadata": {
    "slideshow": {
     "slide_type": "fragment"
    }
   },
   "outputs": [
    {
     "name": "stdout",
     "output_type": "stream",
     "text": [
      "{'name': '홍길동', 'age': 24, 'address': '서울', 'email': None}\n"
     ]
    }
   ],
   "source": [
    "print(p.__dict__)"
   ]
  },
  {
   "cell_type": "code",
   "execution_count": 86,
   "metadata": {
    "slideshow": {
     "slide_type": "fragment"
    }
   },
   "outputs": [],
   "source": [
    "p.tall = 174 # 가능함. 좋은 방식은 아니다. attribute 초기화는 init을 이용해서 한다.\n",
    "             # 객체 생성 후 ' 객체.변수 = 값 '은 기존 attribute의 값을 변경할 때 한다."
   ]
  },
  {
   "cell_type": "code",
   "execution_count": 87,
   "metadata": {
    "slideshow": {
     "slide_type": "fragment"
    }
   },
   "outputs": [
    {
     "name": "stdout",
     "output_type": "stream",
     "text": [
      "{'name': '홍길동', 'age': 24, 'address': '서울', 'email': None, 'tall': 174}\n"
     ]
    }
   ],
   "source": [
    "print(p.__dict__)"
   ]
  },
  {
   "cell_type": "code",
   "execution_count": 88,
   "metadata": {
    "slideshow": {
     "slide_type": "fragment"
    }
   },
   "outputs": [],
   "source": [
    "# self => Person 메모리 공간 이름\n",
    "# 1. class Person 이라는 메모리 공간을 잡아줌\n",
    "# 2. __init__() 메소드 호출 \n",
    "# 3. 생성된 객체를 반환( 리턴 ) p2 = self"
   ]
  },
  {
   "cell_type": "markdown",
   "metadata": {
    "slideshow": {
     "slide_type": "subslide"
    }
   },
   "source": [
    "### Instance 메소드(method)\n",
    "- 객체가 제공하는 기능\n",
    "- 객체의 attribute 값을 처리하는 기능을 구현한다.\n",
    "- 구문\n",
    "```python\n",
    "def 이름(self [, 매개변수들 선언]):\n",
    "    # 구현\n",
    "    # attribute 사용(조회/대입)\n",
    "    self.attribute \n",
    "```\n",
    "- self (첫번째 매개변수)\n",
    "    - 메소드를 소유한 객체를 받는 변수\n",
    "    - 호출할 때 전달하는 argument를 받는 매개변수는 두번째 부터 선언한다.\n",
    "![self](images/ch06_01.png)\n",
    "    \n",
    "- **메소드 호출**\n",
    "    - `객체.메소드이름([argument, ...])`"
   ]
  },
  {
   "cell_type": "code",
   "execution_count": 89,
   "metadata": {
    "slideshow": {
     "slide_type": "fragment"
    }
   },
   "outputs": [],
   "source": [
    "class Person:\n",
    "    \n",
    "    def __init__(self, name, age, address=None ):\n",
    "        self.name = name\n",
    "        self.age = age\n",
    "        self.address = address\n",
    "        self.email = None\n",
    "\n",
    "# 메소드 \n",
    "    def print_info(self): # argument를 안받는 메소드\n",
    "        # person의 attribute 값들을 출력\n",
    "        print(f'이름: {self.name}, 나이: {self.age}, 주소:{self.address}, 이메일: {self.email}')\n",
    "    \n",
    "    def add_age(self, age): # argument가 한개인 메소드\n",
    "        # 나이를 받아서 attribute age에 더한다.\n",
    "#         self = self.age + age 밑에 있는 것과 동일\n",
    "        self.age += age\n",
    "# 클래스 생성 완료"
   ]
  },
  {
   "cell_type": "code",
   "execution_count": 90,
   "metadata": {
    "slideshow": {
     "slide_type": "fragment"
    }
   },
   "outputs": [],
   "source": [
    "# Person 클래스를 가지고 객체를 만듬, \n",
    "p1 = Person('홍길동', 24, '서울')"
   ]
  },
  {
   "cell_type": "code",
   "execution_count": 91,
   "metadata": {
    "slideshow": {
     "slide_type": "fragment"
    }
   },
   "outputs": [
    {
     "name": "stdout",
     "output_type": "stream",
     "text": [
      "이름: 홍길동, 나이: 24, 주소:서울, 이메일: None\n"
     ]
    }
   ],
   "source": [
    "p1.print_info()"
   ]
  },
  {
   "cell_type": "code",
   "execution_count": 92,
   "metadata": {
    "slideshow": {
     "slide_type": "fragment"
    }
   },
   "outputs": [],
   "source": [
    "p1.email = 'a@a.com' # 이메일 값에 a@a.com 값을 대입 "
   ]
  },
  {
   "cell_type": "code",
   "execution_count": 93,
   "metadata": {
    "slideshow": {
     "slide_type": "fragment"
    }
   },
   "outputs": [
    {
     "name": "stdout",
     "output_type": "stream",
     "text": [
      "이름: 홍길동, 나이: 24, 주소:서울, 이메일: a@a.com\n"
     ]
    }
   ],
   "source": [
    "p1.print_info()"
   ]
  },
  {
   "cell_type": "code",
   "execution_count": 94,
   "metadata": {
    "slideshow": {
     "slide_type": "fragment"
    }
   },
   "outputs": [],
   "source": [
    "p1.add_age(3) # 현재 나이 : 24에 3을 더한다."
   ]
  },
  {
   "cell_type": "code",
   "execution_count": 95,
   "metadata": {
    "slideshow": {
     "slide_type": "fragment"
    }
   },
   "outputs": [
    {
     "name": "stdout",
     "output_type": "stream",
     "text": [
      "이름: 홍길동, 나이: 27, 주소:서울, 이메일: a@a.com\n"
     ]
    }
   ],
   "source": [
    "p1.print_info()"
   ]
  },
  {
   "cell_type": "code",
   "execution_count": 96,
   "metadata": {
    "slideshow": {
     "slide_type": "fragment"
    }
   },
   "outputs": [],
   "source": [
    "class Person1:\n",
    "    def __init__(self, name, age, address,email=None):\n",
    "        self.name = name\n",
    "        self.age = age\n",
    "        self.address = address\n",
    "        self.email = email\n",
    "    def print_info(self):\n",
    "        print(f'이름:{self.name}, 나이:{self.age}, 주소:{self.address},이메일:{self.email}')\n",
    "    def add_age(self,age):\n",
    "        self.age += age"
   ]
  },
  {
   "cell_type": "code",
   "execution_count": 97,
   "metadata": {
    "slideshow": {
     "slide_type": "fragment"
    }
   },
   "outputs": [],
   "source": [
    "p2 = Person('홍길동',20,'서울')"
   ]
  },
  {
   "cell_type": "code",
   "execution_count": 98,
   "metadata": {
    "slideshow": {
     "slide_type": "fragment"
    }
   },
   "outputs": [],
   "source": [
    "p2.email = 'g@g.com'"
   ]
  },
  {
   "cell_type": "code",
   "execution_count": 99,
   "metadata": {
    "slideshow": {
     "slide_type": "fragment"
    }
   },
   "outputs": [],
   "source": [
    "p2.add_age(2)"
   ]
  },
  {
   "cell_type": "code",
   "execution_count": 100,
   "metadata": {
    "slideshow": {
     "slide_type": "fragment"
    }
   },
   "outputs": [
    {
     "name": "stdout",
     "output_type": "stream",
     "text": [
      "이름: 홍길동, 나이: 22, 주소:서울, 이메일: g@g.com\n"
     ]
    }
   ],
   "source": [
    "p2.print_info()"
   ]
  },
  {
   "cell_type": "code",
   "execution_count": 101,
   "metadata": {
    "slideshow": {
     "slide_type": "fragment"
    }
   },
   "outputs": [],
   "source": [
    "class Ps:\n",
    "    def __init__(self,name,age,address,email=None):\n",
    "        self.name=name\n",
    "        self.age=age\n",
    "        self.address=address\n",
    "        self.email=email\n",
    "    def print_info(self):\n",
    "        print(f'이름:{self.name},나이:{self.age},주소:{self.address},이메일:{self.email}')\n",
    "    def age_add(self,age):\n",
    "        self.age=age"
   ]
  },
  {
   "cell_type": "code",
   "execution_count": 102,
   "metadata": {
    "slideshow": {
     "slide_type": "fragment"
    }
   },
   "outputs": [],
   "source": [
    "p3 = Ps('홍길동',25,'서울')"
   ]
  },
  {
   "cell_type": "code",
   "execution_count": 103,
   "metadata": {
    "slideshow": {
     "slide_type": "fragment"
    }
   },
   "outputs": [
    {
     "name": "stdout",
     "output_type": "stream",
     "text": [
      "{'name': '홍길동', 'age': 25, 'address': '서울', 'email': None}\n"
     ]
    }
   ],
   "source": [
    "print(p3.__dict__)"
   ]
  },
  {
   "cell_type": "code",
   "execution_count": 104,
   "metadata": {
    "slideshow": {
     "slide_type": "fragment"
    }
   },
   "outputs": [],
   "source": [
    "p3.email = 'p@p.com'"
   ]
  },
  {
   "cell_type": "code",
   "execution_count": 105,
   "metadata": {
    "slideshow": {
     "slide_type": "fragment"
    }
   },
   "outputs": [
    {
     "name": "stdout",
     "output_type": "stream",
     "text": [
      "이름:홍길동,나이:25,주소:서울,이메일:p@p.com\n"
     ]
    }
   ],
   "source": [
    "p3.print_info()"
   ]
  },
  {
   "cell_type": "code",
   "execution_count": 106,
   "metadata": {},
   "outputs": [],
   "source": [
    "class String:\n",
    "    def __init__(self, value):\n",
    "        self.value = value\n",
    "    def split(self):\n",
    "        print(f'{self.value}를 분리합니다')\n",
    "    def upper(self):\n",
    "        print(f'{self.value}를 대문자로 변경합니다')\n",
    "        return self.value.upper()"
   ]
  },
  {
   "cell_type": "code",
   "execution_count": 107,
   "metadata": {},
   "outputs": [],
   "source": [
    "s = String('a b c')"
   ]
  },
  {
   "cell_type": "code",
   "execution_count": 108,
   "metadata": {},
   "outputs": [
    {
     "name": "stdout",
     "output_type": "stream",
     "text": [
      "a b c를 분리합니다\n"
     ]
    }
   ],
   "source": [
    "s.split()"
   ]
  },
  {
   "cell_type": "code",
   "execution_count": 109,
   "metadata": {},
   "outputs": [
    {
     "name": "stdout",
     "output_type": "stream",
     "text": [
      "a b c를 대문자로 변경합니다\n"
     ]
    }
   ],
   "source": [
    "v = s.upper()"
   ]
  },
  {
   "cell_type": "code",
   "execution_count": 110,
   "metadata": {},
   "outputs": [
    {
     "data": {
      "text/plain": [
       "'A B C'"
      ]
     },
     "execution_count": 110,
     "metadata": {},
     "output_type": "execute_result"
    }
   ],
   "source": [
    "v"
   ]
  },
  {
   "cell_type": "markdown",
   "metadata": {
    "slideshow": {
     "slide_type": "slide"
    }
   },
   "source": [
    "## 정보 은닉 (Information Hiding)\n",
    "- Attribute의 값을 caller(객체 외부)가 마음대로 바꾸지 못하게 하기 위해 직접 호출을 막고 setter/getter 메소드를 통해 값을 변경/조회 하도록 한다.\n",
    "    - 데이터 보호가 주목적이다.\n",
    "    - 변경 메소드에 Attribube 변경 조건을 넣어 업무 규칙에 맞는 값들만 변경되도록 처리한다.\n",
    "    - **setter**\n",
    "        - Attribute의 값을 변경하는 메소드. 관례상 set 으로 시작\n",
    "    - **getter**\n",
    "        - Attribute의 값을 조회하는 메소드. 관례상 get 으로 시작\n",
    "- Attribute 직접 호출 막기\n",
    "    - Attribute의 이름을 \\_\\_(double underscore)로 시작한다. (\\_\\_로 끝나면 안된다.)\n",
    "    - 같은 클래스에서는 선언한 이름으로 사용가능하지만 외부에서는 그 이름으로 호출할 수 없게 된다.\n",
    "    "
   ]
  },
  {
   "cell_type": "code",
   "execution_count": 111,
   "metadata": {
    "slideshow": {
     "slide_type": "fragment"
    }
   },
   "outputs": [],
   "source": [
    "## Person class에 정보 은닉 적용\n",
    "### 1, attribute 변수들을 외부에서 호출 할수 없도록 만들어 준다.\n",
    "###              - self.__변수명 = 초기값 (  __ 으로 끝나면 안됨 )\n",
    "### 2. attribute 변수들을 조회(getter), 변경(setter)하는 메소드를 정의한다."
   ]
  },
  {
   "cell_type": "code",
   "execution_count": 112,
   "metadata": {},
   "outputs": [],
   "source": [
    "class Person():\n",
    "    def __init__(self, name, age, address):\n",
    "        self.name = name\n",
    "        self.__age = age # 함부로 변경하지 못하게 함\n",
    "        self.address = address\n",
    "        self.email = None\n",
    "        \n",
    "# age 값을 조회하는 메소드\n",
    "    def get_age(self):\n",
    "        return self.__age # 같은 class 에서는 __age로 호출 가능.\n",
    "# age 값을 변경하는 메소드\n",
    "    def set_age(self, age):\n",
    "        if 0 <= age <= 100:\n",
    "            self.__age = age\n",
    "        else:\n",
    "            print(f'{age}는 나이에 넣을 수 없는다. 0 ~ 100 사이 정수를 넣어주세요')   "
   ]
  },
  {
   "cell_type": "code",
   "execution_count": 113,
   "metadata": {},
   "outputs": [],
   "source": [
    "p = Person('홍길동',20,'서울')"
   ]
  },
  {
   "cell_type": "code",
   "execution_count": 114,
   "metadata": {},
   "outputs": [
    {
     "name": "stdout",
     "output_type": "stream",
     "text": [
      "홍길동 서울 None\n"
     ]
    }
   ],
   "source": [
    "print(p.name, p.address, p.email)"
   ]
  },
  {
   "cell_type": "code",
   "execution_count": 115,
   "metadata": {},
   "outputs": [
    {
     "name": "stdout",
     "output_type": "stream",
     "text": [
      "{'name': '홍길동', '_Person__age': 20, 'address': '서울', 'email': None}\n"
     ]
    }
   ],
   "source": [
    "print(p.__dict__)"
   ]
  },
  {
   "cell_type": "code",
   "execution_count": 116,
   "metadata": {},
   "outputs": [
    {
     "name": "stdout",
     "output_type": "stream",
     "text": [
      "20\n"
     ]
    }
   ],
   "source": [
    "print(p._Person__age)\n",
    "# p._Person__age = 3 # 완벽하게 막지 못함"
   ]
  },
  {
   "cell_type": "code",
   "execution_count": 117,
   "metadata": {},
   "outputs": [
    {
     "name": "stdout",
     "output_type": "stream",
     "text": [
      "{'name': '홍길동', '_Person__age': 20, 'address': '서울', 'email': None}\n"
     ]
    }
   ],
   "source": [
    "print(p.__dict__)"
   ]
  },
  {
   "cell_type": "code",
   "execution_count": 118,
   "metadata": {},
   "outputs": [
    {
     "name": "stdout",
     "output_type": "stream",
     "text": [
      "20\n"
     ]
    }
   ],
   "source": [
    "print(p.get_age())"
   ]
  },
  {
   "cell_type": "code",
   "execution_count": 119,
   "metadata": {},
   "outputs": [
    {
     "name": "stdout",
     "output_type": "stream",
     "text": [
      "250는 나이에 넣을 수 없는다. 0 ~ 100 사이 정수를 넣어주세요\n"
     ]
    }
   ],
   "source": [
    "p.set_age(250)"
   ]
  },
  {
   "cell_type": "code",
   "execution_count": 120,
   "metadata": {},
   "outputs": [
    {
     "name": "stdout",
     "output_type": "stream",
     "text": [
      "{'name': '홍길동', '_Person__age': 20, 'address': '서울', 'email': None}\n"
     ]
    }
   ],
   "source": [
    "print(p.__dict__)\n",
    "# p.set_age('스무살')"
   ]
  },
  {
   "cell_type": "markdown",
   "metadata": {
    "slideshow": {
     "slide_type": "subslide"
    }
   },
   "source": [
    "### property함수를 사용\n",
    "- 은닉된 instance 변수의 값을 사용할 때 getter/setter대신 변수를 사용하는 방식으로 호출할 수 있도록 한다.\n",
    "- 구현\n",
    "    1. getter/setter 메소드를 만든다.\n",
    "    2. 변수 = property(getter, setter) 를 등록한다.\n",
    "    3. 호출\n",
    "        - 값조회: 변수를 사용 => getter가 호출 된다.\n",
    "        - 값변경: 변수 = 변경할 값 => setter가 호출 된다."
   ]
  },
  {
   "cell_type": "code",
   "execution_count": 121,
   "metadata": {
    "slideshow": {
     "slide_type": "subslide"
    }
   },
   "outputs": [],
   "source": [
    "class Person2:\n",
    "    def __init__(self, name, age, address):\n",
    "        self.__name = name\n",
    "        self.__age = age \n",
    "        self.address = address\n",
    "        self.email = None\n",
    "        \n",
    "    def print_info(self):\n",
    "        print(f'이름:{self.name},나이:{self.age},주소:{self.address},이메일:{self.email}')\n",
    "        \n",
    "    def get_age(self):\n",
    "        return self.__age \n",
    "    def set_age(self, age):\n",
    "        if 0 <= age <= 100:\n",
    "            self.__age = age\n",
    "        else:\n",
    "            print(f'{age}는 나이에 넣을 수 없는다. 0 ~ 100 사이 정수를 넣어주세요')\n",
    "            \n",
    "    def get_name(self):\n",
    "        return self.__name\n",
    "    def set_name(self, name):\n",
    "        if len(name) >= 2:\n",
    "            self.__name = name\n",
    "        else:\n",
    "            print('이름은 두글자 이상만 가능합니다.')\n",
    "            \n",
    "    name = property(get_name, set_name)\n",
    "    age = property(get_age, set_age)"
   ]
  },
  {
   "cell_type": "code",
   "execution_count": 122,
   "metadata": {
    "slideshow": {
     "slide_type": "subslide"
    }
   },
   "outputs": [],
   "source": [
    "p2 = Person2('홍길동',40,'서울')\n",
    "# name, age 사용 -> 메소드\n",
    "p2.set_name('유재석')\n",
    "p2.set_age(20)"
   ]
  },
  {
   "cell_type": "code",
   "execution_count": 123,
   "metadata": {
    "slideshow": {
     "slide_type": "subslide"
    }
   },
   "outputs": [
    {
     "name": "stdout",
     "output_type": "stream",
     "text": [
      "이름:유재석,나이:20,주소:서울,이메일:None\n",
      "None\n"
     ]
    }
   ],
   "source": [
    "print(p2.print_info())"
   ]
  },
  {
   "cell_type": "code",
   "execution_count": 124,
   "metadata": {
    "slideshow": {
     "slide_type": "subslide"
    }
   },
   "outputs": [
    {
     "name": "stdout",
     "output_type": "stream",
     "text": [
      "20\n"
     ]
    }
   ],
   "source": [
    "print(p2.get_age())"
   ]
  },
  {
   "cell_type": "code",
   "execution_count": 125,
   "metadata": {
    "slideshow": {
     "slide_type": "subslide"
    }
   },
   "outputs": [
    {
     "name": "stdout",
     "output_type": "stream",
     "text": [
      "{'_Person2__name': '유재석', '_Person2__age': 20, 'address': '서울', 'email': None}\n"
     ]
    }
   ],
   "source": [
    "print(p2.__dict__)"
   ]
  },
  {
   "cell_type": "code",
   "execution_count": 126,
   "metadata": {
    "slideshow": {
     "slide_type": "subslide"
    }
   },
   "outputs": [
    {
     "name": "stdout",
     "output_type": "stream",
     "text": [
      "서울\n"
     ]
    }
   ],
   "source": [
    "# address, email 사용 -> 변수를 호출\n",
    "print(p2.address)"
   ]
  },
  {
   "cell_type": "code",
   "execution_count": 127,
   "metadata": {},
   "outputs": [],
   "source": [
    "p3 = Person2('유재석',40,'인천')\n",
    "p3.address = '새주소'\n",
    "p3.email = '새 이메일주소'\n",
    "p3.name = '새이름'\n",
    "p3.age = 20"
   ]
  },
  {
   "cell_type": "code",
   "execution_count": 128,
   "metadata": {},
   "outputs": [
    {
     "name": "stdout",
     "output_type": "stream",
     "text": [
      "새이름 20 새 이메일주소\n"
     ]
    }
   ],
   "source": [
    "print(p3.name,p3.age,p3.email)"
   ]
  },
  {
   "cell_type": "code",
   "execution_count": 129,
   "metadata": {},
   "outputs": [
    {
     "name": "stdout",
     "output_type": "stream",
     "text": [
      "이름은 두글자 이상만 가능합니다.\n",
      "50000는 나이에 넣을 수 없는다. 0 ~ 100 사이 정수를 넣어주세요\n",
      "이름은 두글자 이상만 가능합니다.\n"
     ]
    }
   ],
   "source": [
    "p3.name = '강'\n",
    "p3.age = 50000\n",
    "p2.name = 'g'"
   ]
  },
  {
   "cell_type": "code",
   "execution_count": 130,
   "metadata": {},
   "outputs": [
    {
     "name": "stdout",
     "output_type": "stream",
     "text": [
      "{'_Person2__name': '새이름', '_Person2__age': 20, 'address': '새주소', 'email': '새 이메일주소'}\n"
     ]
    }
   ],
   "source": [
    "print(p3.__dict__)"
   ]
  },
  {
   "cell_type": "code",
   "execution_count": 131,
   "metadata": {},
   "outputs": [
    {
     "name": "stdout",
     "output_type": "stream",
     "text": [
      "이름:새이름,나이:20,주소:새주소,이메일:새 이메일주소\n"
     ]
    }
   ],
   "source": [
    "p3.print_info()"
   ]
  },
  {
   "cell_type": "markdown",
   "metadata": {
    "slideshow": {
     "slide_type": "subslide"
    },
    "tags": []
   },
   "source": [
    "### 데코레이터(decorator)를 이용해 property 지정.\n",
    "- setter/getter 구현 + property()를 이용해 변수 등록 하는 것을 더 간단하게 구현하는 방식\n",
    "- setter/getter 메소드이름을 변수처럼 지정. (보통은 같은 이름으로 지정)\n",
    "- getter메소드: @property 데코레이터를 선언  \n",
    "- setter메소드: @getter메소드이름.setter  데코레이터를 선언.\n",
    "    - 반드시 getter 메소드를 먼저 정의한다.\n",
    "    - setter메소드 이름은 getter와 동일해야 한다.\n",
    "- getter/setter의 이름을 Attribute 변수처럼 사용한다.\n",
    "- 주의: getter/setter 메소드를 직접 호출 할 수 없다. 변수형식으로만 호출가능하다."
   ]
  },
  {
   "cell_type": "code",
   "execution_count": 132,
   "metadata": {
    "slideshow": {
     "slide_type": "fragment"
    }
   },
   "outputs": [],
   "source": [
    "class Person3:\n",
    "    def __init__(self, name, age, address):\n",
    "        self.__name = name\n",
    "        self.__age = age\n",
    "        self.address = address\n",
    "        self.email = None\n",
    "    \n",
    "    @property\n",
    "    def age(self):\n",
    "        return self.__age \n",
    "    \n",
    "    @age.setter\n",
    "    def age(self, age):\n",
    "        if 0 <= age <= 100:\n",
    "            self.__age = age\n",
    "        else:\n",
    "            print(f'{age}는 나이에 넣을 수 없는다. 0 ~ 100 사이 정수를 넣어주세요')\n",
    "    \n",
    "    @property\n",
    "    def name(self):\n",
    "        return self.__name\n",
    "    \n",
    "    @name.setter\n",
    "    def name(self, name):\n",
    "        if len(name) >= 2:\n",
    "            self.__name = name\n",
    "        else:\n",
    "            print('이름은 두글자 이상만 가능합니다.')"
   ]
  },
  {
   "cell_type": "code",
   "execution_count": 133,
   "metadata": {
    "slideshow": {
     "slide_type": "fragment"
    }
   },
   "outputs": [],
   "source": [
    "p4 = Person3('박명수',30,'서울')"
   ]
  },
  {
   "cell_type": "code",
   "execution_count": 134,
   "metadata": {
    "slideshow": {
     "slide_type": "fragment"
    }
   },
   "outputs": [
    {
     "name": "stdout",
     "output_type": "stream",
     "text": [
      "박명수 30 서울 None\n"
     ]
    }
   ],
   "source": [
    "print(p4.name, p4.age, p4.address, p4.email)"
   ]
  },
  {
   "cell_type": "code",
   "execution_count": 135,
   "metadata": {
    "slideshow": {
     "slide_type": "fragment"
    }
   },
   "outputs": [
    {
     "name": "stdout",
     "output_type": "stream",
     "text": [
      "{'_Person3__name': '박명수', '_Person3__age': 30, 'address': '서울', 'email': None}\n"
     ]
    }
   ],
   "source": [
    "print(p4.__dict__) # Person3 함수 => p4에 대입"
   ]
  },
  {
   "cell_type": "code",
   "execution_count": 136,
   "metadata": {
    "slideshow": {
     "slide_type": "fragment"
    }
   },
   "outputs": [],
   "source": [
    "p4.name = '홍길동'\n",
    "p4.address = '인천'\n",
    "p4.email = 'a@a.com'"
   ]
  },
  {
   "cell_type": "code",
   "execution_count": 137,
   "metadata": {
    "slideshow": {
     "slide_type": "fragment"
    }
   },
   "outputs": [
    {
     "name": "stdout",
     "output_type": "stream",
     "text": [
      "260는 나이에 넣을 수 없는다. 0 ~ 100 사이 정수를 넣어주세요\n"
     ]
    }
   ],
   "source": [
    "p4.age = 260"
   ]
  },
  {
   "cell_type": "code",
   "execution_count": 138,
   "metadata": {
    "slideshow": {
     "slide_type": "fragment"
    }
   },
   "outputs": [
    {
     "name": "stdout",
     "output_type": "stream",
     "text": [
      "홍길동 30 인천 a@a.com\n"
     ]
    }
   ],
   "source": [
    "print(p4.name, p4.age, p4.address, p4.email) # age 0 ~ 100 사이 정수 X => 출력안됨"
   ]
  },
  {
   "cell_type": "markdown",
   "metadata": {
    "slideshow": {
     "slide_type": "subslide"
    }
   },
   "source": [
    "## 연습문제"
   ]
  },
  {
   "cell_type": "markdown",
   "metadata": {
    "slideshow": {
     "slide_type": "subslide"
    }
   },
   "source": [
    "- 제품 클래스 구현\n",
    "- 속성 : 제품ID:str 제품이름: str, 제품가격:int, 제조사이름:str\n",
    "-       정보은닉에 맞춰서 작성. 값을 대입/조회 하는 것은 변수처리 방식을 할 수 있도록 구현.\n",
    "- 메소드: 전체 정보를 출력하는 메소드\n",
    "\n",
    "메소드 : setter-4개, getter-4개. 전체정보 출력하는 메소드-1개"
   ]
  },
  {
   "cell_type": "code",
   "execution_count": 139,
   "metadata": {},
   "outputs": [],
   "source": [
    "# property() 를 이용\n",
    "class Test:\n",
    "    def __init__(self, item_id, item_name, price, make):\n",
    "        self.__item_id = item_id\n",
    "        self.__item_name = item_name\n",
    "        self.__price = price\n",
    "        self.__make = make\n",
    "    def get_item_id(self):\n",
    "        return self.__item_id\n",
    "    def set_item_id(self,new_item_id):\n",
    "        print('set_item_id()')\n",
    "        if new_item_id:\n",
    "            self.__item_id = new_item_id\n",
    "    def get_item_name(self):\n",
    "        return self.__item_name\n",
    "    def set_item_name(self, new_item_name):\n",
    "        print('set_item_name()')\n",
    "        if new_item_name:\n",
    "            self.__item_name = new_item_name\n",
    "    def get_price(self):\n",
    "        print('get_price()')\n",
    "        return self.__price\n",
    "    def set_price(self,new_price):\n",
    "        print('set_price()')\n",
    "        if new_price > 0:\n",
    "            self.__price = new_price\n",
    "    def get_make(self):\n",
    "        return self.__make\n",
    "    def set_make(self,new_make):\n",
    "        if new_make and len(new_make) >= 2:\n",
    "            self.__make = new_make\n",
    "    def print_info(self):\n",
    "        value = f\"제품:{self.__item_id}, 제품명:{self.__item_name}, 가격:{self.__price}, 제조사:{self.__make}\"\n",
    "        print(value)\n",
    "    item_id = property(get_item_id, set_item_id)\n",
    "    item_name = property(get_item_name, set_item_name)\n",
    "    price = property(get_price, set_price)\n",
    "    make = property(get_make, set_make)"
   ]
  },
  {
   "cell_type": "code",
   "execution_count": 140,
   "metadata": {},
   "outputs": [],
   "source": [
    "i = Test('노트북','삼성노트북', 200000, '삼성')"
   ]
  },
  {
   "cell_type": "code",
   "execution_count": 141,
   "metadata": {},
   "outputs": [
    {
     "name": "stdout",
     "output_type": "stream",
     "text": [
      "제품:노트북, 제품명:삼성노트북, 가격:200000, 제조사:삼성\n"
     ]
    }
   ],
   "source": [
    "i.print_info()"
   ]
  },
  {
   "cell_type": "code",
   "execution_count": 142,
   "metadata": {},
   "outputs": [
    {
     "name": "stdout",
     "output_type": "stream",
     "text": [
      "set_item_id()\n"
     ]
    }
   ],
   "source": [
    "i.item_id=None"
   ]
  },
  {
   "cell_type": "code",
   "execution_count": 143,
   "metadata": {},
   "outputs": [
    {
     "name": "stdout",
     "output_type": "stream",
     "text": [
      "노트북\n"
     ]
    }
   ],
   "source": [
    "print(i.item_id)"
   ]
  },
  {
   "cell_type": "code",
   "execution_count": 144,
   "metadata": {},
   "outputs": [
    {
     "name": "stdout",
     "output_type": "stream",
     "text": [
      "set_item_name()\n"
     ]
    }
   ],
   "source": [
    "i.item_name='LG노트북'"
   ]
  },
  {
   "cell_type": "code",
   "execution_count": 145,
   "metadata": {},
   "outputs": [
    {
     "name": "stdout",
     "output_type": "stream",
     "text": [
      "LG노트북\n"
     ]
    }
   ],
   "source": [
    "print(i.item_name)"
   ]
  },
  {
   "cell_type": "code",
   "execution_count": 146,
   "metadata": {},
   "outputs": [
    {
     "name": "stdout",
     "output_type": "stream",
     "text": [
      "set_price()\n"
     ]
    }
   ],
   "source": [
    "i.price= -123"
   ]
  },
  {
   "cell_type": "code",
   "execution_count": 147,
   "metadata": {},
   "outputs": [
    {
     "name": "stdout",
     "output_type": "stream",
     "text": [
      "get_price()\n",
      "200000\n"
     ]
    }
   ],
   "source": [
    "print(i.price) # price 값에 음수 X -> 원래 있던 price 값 출력"
   ]
  },
  {
   "cell_type": "code",
   "execution_count": 148,
   "metadata": {},
   "outputs": [
    {
     "name": "stdout",
     "output_type": "stream",
     "text": [
      "set_price()\n"
     ]
    }
   ],
   "source": [
    "i.price = 10000"
   ]
  },
  {
   "cell_type": "code",
   "execution_count": 149,
   "metadata": {},
   "outputs": [],
   "source": [
    "i.make='a'"
   ]
  },
  {
   "cell_type": "code",
   "execution_count": 150,
   "metadata": {},
   "outputs": [
    {
     "name": "stdout",
     "output_type": "stream",
     "text": [
      "삼성\n"
     ]
    }
   ],
   "source": [
    "print(i.make) # make 값 두글자 이상 X -> 원래 있었던 make 값 출력"
   ]
  },
  {
   "cell_type": "code",
   "execution_count": 151,
   "metadata": {},
   "outputs": [],
   "source": [
    "i.make='LG'"
   ]
  },
  {
   "cell_type": "code",
   "execution_count": 152,
   "metadata": {},
   "outputs": [
    {
     "name": "stdout",
     "output_type": "stream",
     "text": [
      "LG\n"
     ]
    }
   ],
   "source": [
    "print(i.make)"
   ]
  },
  {
   "cell_type": "code",
   "execution_count": 153,
   "metadata": {},
   "outputs": [
    {
     "name": "stdout",
     "output_type": "stream",
     "text": [
      "get_price()\n",
      "노트북 LG노트북 10000 LG\n"
     ]
    }
   ],
   "source": [
    "print(i.item_id, i.item_name, i.price, i.make)"
   ]
  },
  {
   "cell_type": "markdown",
   "metadata": {
    "slideshow": {
     "slide_type": "slide"
    }
   },
   "source": [
    "## 상속 (Inheritance)\n",
    "\n",
    "- 기존 클래스를 확장하여 새로운 클래스를 구현한다.\n",
    "    - 생성된 객체(instance)가 기존 클래스에 정의된 Attribute나 method를 사용할 수있고 그 외의 추가적인 member들을 가질 수 있는 클래스를 구현하는 방법.\n",
    "- **기반(Base) 클래스, 상위(Super) 클래스, 부모(Parent) 클래스**\n",
    "    - 물려 주는 클래스.\n",
    "    - 상속하는 클래스에 비해 더 추상적인 클래스가 된다. \n",
    "    - 상속하는 클래스의 데이터 타입이 된다.\n",
    "- **파생(Derived) 클래스, 하위(Sub) 클래스, 자식(Child) 클래스**\n",
    "    - 상속하는 클래스.\n",
    "    - 상속을 해준 클래스 보다 좀더 구체적인 클래스가 된다.\n",
    "- 상위 클래스와 하위 클래스는 계층관계를 이룬다.\n",
    "    - 상위 클래스는 하위 클래스 객체의 타입이 된다."
   ]
  },
  {
   "cell_type": "code",
   "execution_count": 154,
   "metadata": {},
   "outputs": [],
   "source": [
    "class Person:\n",
    "    def go(self):\n",
    "        print('간다')\n",
    "    def eat(self):\n",
    "        print('먹다')\n",
    "# Person 을 상속해서 Student를 정의\n",
    "## Class 클래스이름( 상속할 클래스이름 [ , 상속할클래스이름2, .. ] )\n",
    "### 설계도를 그릴때는 Person <- Student 화살표 그림\n",
    "class Student(Person):\n",
    "    def study(self):\n",
    "        print('학생은공부')\n",
    "\n",
    "class Teacher(Person):\n",
    "    def teach(self):\n",
    "        print('수업을가르치다')"
   ]
  },
  {
   "cell_type": "code",
   "execution_count": 155,
   "metadata": {},
   "outputs": [],
   "source": [
    "# 객체 생성\n",
    "## 부모클래스 : Person 클래스 안에 정의를 자식 클래스 : Student, Teacher 에서도 사용가능\n",
    "# t.study() Error : Teacher -> study X , Teacher, Student 서로 독립적인 객체 "
   ]
  },
  {
   "cell_type": "code",
   "execution_count": 156,
   "metadata": {},
   "outputs": [],
   "source": [
    "s = Student()"
   ]
  },
  {
   "cell_type": "code",
   "execution_count": 157,
   "metadata": {},
   "outputs": [
    {
     "name": "stdout",
     "output_type": "stream",
     "text": [
      "학생은공부\n",
      "먹다\n",
      "간다\n"
     ]
    }
   ],
   "source": [
    "s.study()\n",
    "s.eat()\n",
    "s.go()"
   ]
  },
  {
   "cell_type": "code",
   "execution_count": 158,
   "metadata": {},
   "outputs": [
    {
     "name": "stdout",
     "output_type": "stream",
     "text": [
      "수업을가르치다\n",
      "먹다\n",
      "간다\n"
     ]
    }
   ],
   "source": [
    "t = Teacher()\n",
    "t.teach()\n",
    "t.eat()\n",
    "t.go()"
   ]
  },
  {
   "cell_type": "markdown",
   "metadata": {
    "slideshow": {
     "slide_type": "subslide"
    }
   },
   "source": [
    "### 다중상속과 단일 상속\n",
    "- 다중상속\n",
    "    - 여러 클래스로부터 상속할 수 있다\n",
    "- 단일상속\n",
    "    - 하나의 클래스로 부터만 상속할 수 있다.\n",
    "- 파이썬은 다중상속을 지원한다.\n",
    "- MRO (Method Resolution Order)\n",
    "    - 다중상속시 메소드 호출할 때 그 메소드를 찾는 순서. \n",
    "    1. 자기자신\n",
    "    2. 상위클래스(하위에서 상위로 올라간다)\n",
    "        - 다중상속의 경우 먼저 선언한 클래스 부터 찾는다. (왼쪽->오른쪽)\n",
    "- MRO 순서 조회 \n",
    "    - Class이름.mro()"
   ]
  },
  {
   "cell_type": "code",
   "execution_count": 159,
   "metadata": {
    "slideshow": {
     "slide_type": "fragment"
    }
   },
   "outputs": [],
   "source": [
    "# 왼쪽 -> 오른쪽 찾기, 최상위 클래스 전체 : Object\n",
    "class D:\n",
    "    pass\n",
    "class E:\n",
    "    pass\n",
    "class F:\n",
    "    pass\n",
    "class B(D,E):\n",
    "    pass\n",
    "class C(F):\n",
    "    pass\n",
    "class A(B,C):\n",
    "    pass"
   ]
  },
  {
   "cell_type": "code",
   "execution_count": 160,
   "metadata": {
    "slideshow": {
     "slide_type": "fragment"
    }
   },
   "outputs": [
    {
     "data": {
      "text/plain": [
       "[__main__.A,\n",
       " __main__.B,\n",
       " __main__.D,\n",
       " __main__.E,\n",
       " __main__.C,\n",
       " __main__.F,\n",
       " object]"
      ]
     },
     "execution_count": 160,
     "metadata": {},
     "output_type": "execute_result"
    }
   ],
   "source": [
    "A.mro()"
   ]
  },
  {
   "cell_type": "markdown",
   "metadata": {
    "slideshow": {
     "slide_type": "subslide"
    }
   },
   "source": [
    "### Method Overriding (메소드 재정의)\n",
    "상위 클래스의 메소드의 구현부를 하위 클래스에서 다시 구현하는 것을 말한다.  \n",
    "상위 클래스는 모든 하위 클래스들에 적용할 수 있는 추상적인 구현밖에는 못한다.  \n",
    "이 경우 하위 클래스에서 그 내용을 자신에 맞게 좀더 구체적으로 재구현할 수 있게 해주는 것을 Method Overriding이라고 한다.  \n",
    "방법은 하위 클래스에서 overriding할 메소드의 선언문은 그래로 사용하고 그 구현부는 재구현하면 된다.  \n",
    "\n",
    "### super() 내장함수\n",
    "- 하위 클래스에서 상위 클래스의 instance를 반환(return) 해주는 함수\n",
    "- 구문\n",
    "```python\n",
    "super().메소드명() \n",
    "```\n",
    "- 상위 클래스의 Instance 메소드를 호출할 때 – super().메소드()\n",
    "    - 특히 method overriding을 한 클래스에서 상위 클래스의 overriding한 메소드를 호출 할 경우 반드시 `super().메소드() `형식으로 호출해야 한다.\n",
    "- 같은 클래스의 Instance 메소드를 호출할 때 – self.메소드()"
   ]
  },
  {
   "cell_type": "code",
   "execution_count": 161,
   "metadata": {
    "slideshow": {
     "slide_type": "fragment"
    }
   },
   "outputs": [],
   "source": [
    "# 메소드에서 self.xxx : 같은 클래스에 정의된 메소드나 attribute( instance 변수 ) 호출\n",
    "## super().xxx : 부모클래스에 정의된 메소드나 attribute( 부모객체의 attribute ) 호출"
   ]
  },
  {
   "cell_type": "code",
   "execution_count": 162,
   "metadata": {
    "slideshow": {
     "slide_type": "fragment"
    }
   },
   "outputs": [],
   "source": [
    "class Person2:\n",
    "    def go(self):\n",
    "        self.eat()\n",
    "        print('가다')\n",
    "#       print('스쿨버스를 타고 간다.') => Student 방식\n",
    "    def eat(self):\n",
    "        print('먹는다. - Person2')\n",
    "#       print('급식을 먹는다.') => Student 방식        \n",
    "class Student2(Person2):\n",
    "    # go() 메소드를 Student 클래스에 맞게 좀더 구체화된 내용으로 재정의( overriding ) 한다.\n",
    "    # 상위클래스에 정의된 메소드와 동일한 선언(이름)으로 메소드를 구현.\n",
    "    ## 부모클래스와 같은 일을 함, 같은 속성의 메소드 -> 동일한 이름 메소드 구현\n",
    "    def go(self):\n",
    "        print('스쿨버스 타고 등교한다.')\n",
    "    def eat(self):\n",
    "        print('학교식당에간다')\n",
    "        print('급식을 받는다')\n",
    "        #print('먹는다') # Super Class에 정의한 eat()을 실행시킨다.\n",
    "        super().eat() # super() : 부모클래스를 가르킨다.\n",
    "    def study(self):\n",
    "        print('학생이 공부한다.,2')\n",
    "class Teacher2(Person2):\n",
    "    def teach(self):\n",
    "        print('교사가 공부한다,2')"
   ]
  },
  {
   "cell_type": "code",
   "execution_count": 163,
   "metadata": {
    "slideshow": {
     "slide_type": "fragment"
    }
   },
   "outputs": [
    {
     "name": "stdout",
     "output_type": "stream",
     "text": [
      "교사가 공부한다,2\n",
      "먹는다. - Person2\n",
      "가다\n",
      "먹는다. - Person2\n"
     ]
    }
   ],
   "source": [
    "t = Teacher2()\n",
    "t.teach()\n",
    "t.go()\n",
    "t.eat()"
   ]
  },
  {
   "cell_type": "code",
   "execution_count": 164,
   "metadata": {
    "slideshow": {
     "slide_type": "fragment"
    }
   },
   "outputs": [
    {
     "name": "stdout",
     "output_type": "stream",
     "text": [
      "학생이 공부한다.,2\n",
      "스쿨버스 타고 등교한다.\n"
     ]
    }
   ],
   "source": [
    "s = Student2()\n",
    "s.study()\n",
    "s.go()"
   ]
  },
  {
   "cell_type": "code",
   "execution_count": 165,
   "metadata": {
    "slideshow": {
     "slide_type": "fragment"
    }
   },
   "outputs": [
    {
     "name": "stdout",
     "output_type": "stream",
     "text": [
      "학교식당에간다\n",
      "급식을 받는다\n",
      "먹는다. - Person2\n"
     ]
    }
   ],
   "source": [
    "s.eat()"
   ]
  },
  {
   "cell_type": "code",
   "execution_count": 166,
   "metadata": {
    "slideshow": {
     "slide_type": "fragment"
    }
   },
   "outputs": [
    {
     "data": {
      "text/plain": [
       "[__main__.Teacher2, __main__.Person2, object]"
      ]
     },
     "execution_count": 166,
     "metadata": {},
     "output_type": "execute_result"
    }
   ],
   "source": [
    "Teacher2.mro()"
   ]
  },
  {
   "cell_type": "code",
   "execution_count": 167,
   "metadata": {},
   "outputs": [],
   "source": [
    "# 상속과 Attribute\n",
    "class Person3:\n",
    "    \n",
    "    def __init__( self, name, age, address=None ):\n",
    "        self.__name = name\n",
    "        self.__age = age\n",
    "        self.__address = address\n",
    "        \n",
    "    @property\n",
    "    def name(self):\n",
    "        return self.__name\n",
    "    @name.setter\n",
    "    def name(self, name):\n",
    "        if name:\n",
    "            self.__name = name\n",
    "        else:\n",
    "            print('이름을 변경 못함')\n",
    "    \n",
    "    @property\n",
    "    def age(self):\n",
    "        return self.__age\n",
    "    @age.setter\n",
    "    def age(self, age):\n",
    "        if 8 <= age <= 19:\n",
    "            self.__age = age\n",
    "        else:\n",
    "            print('나이을 변경 못함')\n",
    "\n",
    "    @property\n",
    "    def address(self):\n",
    "        return self.__address\n",
    "    @address.setter\n",
    "    def address(self, address):\n",
    "        if address:\n",
    "            self.__address = address\n",
    "        else:\n",
    "            print('주소을 변경 못함')\n",
    "\n",
    "    # 나이를 더하는 메소드\n",
    "    def add_age( self, age ):\n",
    "        self.age = self.age + age\n",
    "#         @age.setter : age = @property: age + 파라미터 age\n",
    "    # Person 객체의 속성값들을 하나의 문자열로 묶어서 반환.\n",
    "    def get_info( self ): # getter 메소드 호출.\n",
    "        return f'이름:{self.name}, 나이:{self.age},주소:{self.address}'\n"
   ]
  },
  {
   "cell_type": "code",
   "execution_count": 168,
   "metadata": {},
   "outputs": [],
   "source": [
    "# Student의 속성 : name , age, address => 공통 속성, grade ( 성적 - 학생의 속성 )\n",
    "class Student3( Person3 ):\n",
    "    def __init__(self, name, age, address, grade ):\n",
    "        # name, age, address => 부모클래스인 Person의 속성\n",
    "        super().__init__(name, age, address)  \n",
    "        self.__grade = grade\n",
    "        \n",
    "    @property\n",
    "    def grade(self):\n",
    "        return self.__grade\n",
    "    @grade.setter\n",
    "    def grade(self, grade):\n",
    "        if grade > 0:\n",
    "            self.__grade = grade\n",
    "        else:\n",
    "            print('grade 변경못함')\n",
    "            \n",
    "    # method overridinf => Person3에 정의된 get_info()에 grade까지 return 하도록 재정의\n",
    "    def get_info( self ):\n",
    "        i = super().get_info() # 이름, 나이, 주소는 Person3( 부모클래스 )에 정의된 메소드 호춯.\n",
    "        return f'{i}, 성적:{self.grade}' # getter : grade 호출\n",
    "    "
   ]
  },
  {
   "cell_type": "code",
   "execution_count": 169,
   "metadata": {},
   "outputs": [],
   "source": [
    "# Student의 속성 : name , age, address => 공통 속성, subject (과목 - Teacher의 속성), \n",
    "# job : 직책=> 특별한 대입조건이 없음\n",
    "# 상속 : 속성 - name, age, address\n",
    "# 메소드 - add_age(), get_info()메소드\n",
    "class Teacher3(Person3):\n",
    "    \n",
    "    def __init__(self, name, age, address, subject, job=None ): # job : 직책\n",
    "        # name, age, address => 부모클래스의 __init__을 이용해서 초기화.\n",
    "        super().__init__( name, age, address )\n",
    "        self.__subject = subject\n",
    "        self.job = job # setter가 필요없는 변수\n",
    "    @property\n",
    "    def subject(self):\n",
    "        return self.__subject\n",
    "    @subject.setter\n",
    "    def subject(self, subject):\n",
    "        if subject: # if subject : None 면 else 출력\n",
    "            self.__subject = subject\n",
    "        else:\n",
    "            print('과목을 수정못함')\n",
    "            \n",
    "    # Teacher 객체의 attribute들을 반환 => get_info()를 method overriding\n",
    "    def get_info(self):\n",
    "        # 이름, 나이, 주소 -> Person3의 get_info()를 사용.\n",
    "        i = super().get_info()\n",
    "        return f\"{i}, 담당과목:{self.subject}, 담당직책:{ self.job if self.job else '없음' }\"\n",
    "        "
   ]
  },
  {
   "cell_type": "code",
   "execution_count": 170,
   "metadata": {},
   "outputs": [
    {
     "name": "stdout",
     "output_type": "stream",
     "text": [
      "이름:이선생, 나이:30,주소:부산, 담당과목:수학, 담당직책:학생주임\n"
     ]
    }
   ],
   "source": [
    "t = Teacher3('이선생', 30, '부산', '수학', '학생주임')\n",
    "info = t.get_info()\n",
    "print( info )"
   ]
  },
  {
   "cell_type": "code",
   "execution_count": 171,
   "metadata": {},
   "outputs": [
    {
     "name": "stdout",
     "output_type": "stream",
     "text": [
      "과목을 수정못함\n"
     ]
    }
   ],
   "source": [
    "t.subject = None"
   ]
  },
  {
   "cell_type": "code",
   "execution_count": 172,
   "metadata": {},
   "outputs": [],
   "source": [
    "t.job = None\n",
    "info = t.get_info() # job : 직책=> 특별한 대입조건이 없음 ->> None 값 "
   ]
  },
  {
   "cell_type": "code",
   "execution_count": 173,
   "metadata": {},
   "outputs": [
    {
     "name": "stdout",
     "output_type": "stream",
     "text": [
      "이름:이선생, 나이:30,주소:부산, 담당과목:수학, 담당직책:없음\n"
     ]
    }
   ],
   "source": [
    "print(info)"
   ]
  },
  {
   "cell_type": "code",
   "execution_count": 174,
   "metadata": {},
   "outputs": [
    {
     "name": "stdout",
     "output_type": "stream",
     "text": [
      "홍길동 24 서울 3\n"
     ]
    }
   ],
   "source": [
    "s = Student3( '홍길동', 24, '서울', 3 ) \n",
    "print(s.name, s.age, s.address, s.grade) "
   ]
  },
  {
   "cell_type": "code",
   "execution_count": 175,
   "metadata": {},
   "outputs": [
    {
     "name": "stdout",
     "output_type": "stream",
     "text": [
      "나이을 변경 못함\n"
     ]
    }
   ],
   "source": [
    "s.add_age(-3) # getter"
   ]
  },
  {
   "cell_type": "code",
   "execution_count": 176,
   "metadata": {},
   "outputs": [
    {
     "name": "stdout",
     "output_type": "stream",
     "text": [
      "24\n"
     ]
    }
   ],
   "source": [
    "print(s.age)"
   ]
  },
  {
   "cell_type": "code",
   "execution_count": 177,
   "metadata": {},
   "outputs": [
    {
     "name": "stdout",
     "output_type": "stream",
     "text": [
      "이름:홍길동, 나이:24,주소:서울, 성적:3\n"
     ]
    }
   ],
   "source": [
    "info = s.get_info() # s : Student\n",
    "print( info )"
   ]
  },
  {
   "cell_type": "code",
   "execution_count": 178,
   "metadata": {},
   "outputs": [
    {
     "name": "stdout",
     "output_type": "stream",
     "text": [
      "나이을 변경 못함\n"
     ]
    }
   ],
   "source": [
    "s.age = 120 # getter"
   ]
  },
  {
   "cell_type": "code",
   "execution_count": 179,
   "metadata": {},
   "outputs": [
    {
     "name": "stdout",
     "output_type": "stream",
     "text": [
      "이름:홍길동, 나이:24,주소:서울, 성적:3\n"
     ]
    }
   ],
   "source": [
    "print(s.get_info())"
   ]
  },
  {
   "cell_type": "code",
   "execution_count": 180,
   "metadata": {},
   "outputs": [
    {
     "name": "stdout",
     "output_type": "stream",
     "text": [
      "이름을 변경 못함\n",
      "grade 변경못함\n"
     ]
    }
   ],
   "source": [
    "s.name = None\n",
    "s.grade = -34"
   ]
  },
  {
   "cell_type": "markdown",
   "metadata": {
    "slideshow": {
     "slide_type": "slide"
    }
   },
   "source": [
    "## 객체 관련 유용한 내장 함수, 특수 변수\n",
    "-  **`isinstance(객체, 클래스이름-datatype)`** : bool\n",
    "    - 객체가 두번째 매개변수로 지정한 클래스의 타입이면 True, 아니면 False 반환\n",
    "    - 여러개의 타입여부를 확인할 경우 class이름(type)들을 **튜플(tuple)로** 묶어 준다.\n",
    "    - 상위 클래스는 하위 클래스객체의 타입이 되므로 객체와 그 객체의 상위 클래스 비교시 True가 나온다.\n",
    "- **`객체.__dict__`**\n",
    "     - 객체가 가지고 있는 Attribute 변수들과 대입된 값을 dictionary에 넣어 반환\n",
    "- **`객체.__class__`**\n",
    "    - 객체의 타입을 반환"
   ]
  },
  {
   "cell_type": "code",
   "execution_count": 181,
   "metadata": {},
   "outputs": [],
   "source": [
    "p = Person3('이름', 20, '주소')\n",
    "t = Teacher3( '이선생', 30, '부산', '영어', '교감')\n",
    "s = Student3( '홍길동', 15, '서울', 1)"
   ]
  },
  {
   "cell_type": "code",
   "execution_count": 182,
   "metadata": {},
   "outputs": [],
   "source": [
    "# 값(객체) 의 타입 = 생성한 class, 생성한 class의 상위 class들\n",
    "## t의 타입 : Teacger3, Person3, Object\n",
    "# 코드를 최소화 할수 있고 변경 추가 수정을 할수있다\n",
    "def test(person):\n",
    "    person.add_age(3)"
   ]
  },
  {
   "cell_type": "code",
   "execution_count": 183,
   "metadata": {},
   "outputs": [],
   "source": [
    "# 값(객체) 의 타입 = 생성한 class, 생성한 class의 상위 class들\n",
    "## t의 타입 : Teacger3, Person3, Object\n",
    "# 코드를 최소화 할수 있고 변경 추가 수정을 할수있다\n",
    "def test(person):\n",
    "    person.add_age(3)\n",
    "    print(person.get_info())"
   ]
  },
  {
   "cell_type": "code",
   "execution_count": 184,
   "metadata": {},
   "outputs": [
    {
     "name": "stdout",
     "output_type": "stream",
     "text": [
      "나이을 변경 못함\n",
      "이름:이름, 나이:20,주소:주소\n"
     ]
    }
   ],
   "source": [
    "test(p) # => Person add_age, Perosn get_info"
   ]
  },
  {
   "cell_type": "code",
   "execution_count": 185,
   "metadata": {},
   "outputs": [
    {
     "name": "stdout",
     "output_type": "stream",
     "text": [
      "나이을 변경 못함\n",
      "이름:이선생, 나이:30,주소:부산, 담당과목:영어, 담당직책:교감\n"
     ]
    }
   ],
   "source": [
    "test(t) # => Person add_age, Teacher get_info"
   ]
  },
  {
   "cell_type": "code",
   "execution_count": 186,
   "metadata": {},
   "outputs": [
    {
     "name": "stdout",
     "output_type": "stream",
     "text": [
      "이름:홍길동, 나이:18,주소:서울, 성적:1\n"
     ]
    }
   ],
   "source": [
    "test(s) # => Person add_age, Student get_info"
   ]
  },
  {
   "cell_type": "code",
   "execution_count": 187,
   "metadata": {},
   "outputs": [
    {
     "name": "stdout",
     "output_type": "stream",
     "text": [
      "True\n",
      "True True\n"
     ]
    }
   ],
   "source": [
    "# 변수 p의 타입이 xxx 클래스인가?\n",
    "# type(p) == Person3\n",
    "print(isinstance(p, Person3))\n",
    "print(isinstance(t, Teacher3), isinstance(s, Student3))"
   ]
  },
  {
   "cell_type": "code",
   "execution_count": 188,
   "metadata": {},
   "outputs": [
    {
     "name": "stdout",
     "output_type": "stream",
     "text": [
      "True True\n",
      "True False False\n"
     ]
    }
   ],
   "source": [
    "# 상위클래스가 자식클래스 객체의 타입이 된다\n",
    "print(isinstance(t, Person3), isinstance(s, Person3))\n",
    "print(isinstance( p, Person3 ), isinstance( p, Person), isinstance( p, str ))"
   ]
  },
  {
   "cell_type": "code",
   "execution_count": 189,
   "metadata": {},
   "outputs": [
    {
     "name": "stdout",
     "output_type": "stream",
     "text": [
      "True\n"
     ]
    }
   ],
   "source": [
    "s = 30\n",
    "print(isinstance( s, ( int, float )))"
   ]
  },
  {
   "cell_type": "code",
   "execution_count": 190,
   "metadata": {},
   "outputs": [],
   "source": [
    "def function(value):\n",
    "    if isinstance( value, (int, float)):\n",
    "        print(value ** 2)\n",
    "    else:\n",
    "        print('계산 못하는 타입', type(value))"
   ]
  },
  {
   "cell_type": "code",
   "execution_count": 191,
   "metadata": {},
   "outputs": [
    {
     "name": "stdout",
     "output_type": "stream",
     "text": [
      "100\n"
     ]
    }
   ],
   "source": [
    "function(10)"
   ]
  },
  {
   "cell_type": "code",
   "execution_count": 192,
   "metadata": {},
   "outputs": [
    {
     "name": "stdout",
     "output_type": "stream",
     "text": [
      "6.25\n"
     ]
    }
   ],
   "source": [
    "function(2.5)"
   ]
  },
  {
   "cell_type": "code",
   "execution_count": 193,
   "metadata": {},
   "outputs": [
    {
     "name": "stdout",
     "output_type": "stream",
     "text": [
      "계산 못하는 타입 <class 'str'>\n"
     ]
    }
   ],
   "source": [
    "function('10')"
   ]
  },
  {
   "cell_type": "code",
   "execution_count": 194,
   "metadata": {},
   "outputs": [],
   "source": [
    "def func(value):\n",
    "    # Student, Teacher 객체를 받아서 add_age() 이용해서 나이를 변경하고 attribute들을 출력\n",
    "    if isinstance(value, Person3): # Person3, Person3의 모든 하위 객체 ==> True\n",
    "        value.add_age(1) # 실행할때마다 + 1 => 19살이 넘어가면 Person3 if 8 <= age <= 19: \n",
    "        i = value.get_info()\n",
    "        print(i)"
   ]
  },
  {
   "cell_type": "code",
   "execution_count": 195,
   "metadata": {},
   "outputs": [],
   "source": [
    "func(s)"
   ]
  },
  {
   "cell_type": "code",
   "execution_count": 196,
   "metadata": {},
   "outputs": [
    {
     "name": "stdout",
     "output_type": "stream",
     "text": [
      "나이을 변경 못함\n",
      "이름:이선생, 나이:30,주소:부산, 담당과목:영어, 담당직책:교감\n"
     ]
    }
   ],
   "source": [
    "func('abc')\n",
    "func(t)"
   ]
  },
  {
   "cell_type": "code",
   "execution_count": 197,
   "metadata": {},
   "outputs": [
    {
     "name": "stdout",
     "output_type": "stream",
     "text": [
      "{'_Person3__name': '이름', '_Person3__age': 20, '_Person3__address': '주소'}\n"
     ]
    }
   ],
   "source": [
    "print(p.__dict__)"
   ]
  },
  {
   "cell_type": "code",
   "execution_count": 198,
   "metadata": {},
   "outputs": [
    {
     "name": "stdout",
     "output_type": "stream",
     "text": [
      "{'_Person3__name': '이선생', '_Person3__age': 30, '_Person3__address': '부산', '_Teacher3__subject': '영어', 'job': '교감'}\n"
     ]
    }
   ],
   "source": [
    "print(t.__dict__)"
   ]
  },
  {
   "cell_type": "code",
   "execution_count": 200,
   "metadata": {},
   "outputs": [
    {
     "name": "stdout",
     "output_type": "stream",
     "text": [
      "<class 'type'>\n"
     ]
    }
   ],
   "source": [
    "print(type(t.__class__))"
   ]
  },
  {
   "cell_type": "code",
   "execution_count": 201,
   "metadata": {},
   "outputs": [
    {
     "name": "stdout",
     "output_type": "stream",
     "text": [
      "Teacher3\n",
      "int\n"
     ]
    }
   ],
   "source": [
    "# 로그를 남길때\n",
    "print(t.__class__.__name__) # class 이름을 문자열로 반환.\n",
    "print(s.__class__.__name__)"
   ]
  },
  {
   "cell_type": "code",
   "execution_count": 202,
   "metadata": {},
   "outputs": [],
   "source": [
    "# 특수 메소드\n",
    "class Person:\n",
    "    # 파이썬 실행환경 호춯 메소드 : __init__ , # 파이썬 실행 환경이 __init__을 불러줌 ( Run time )\n",
    "    ## 언제 : 객체 생성할때 __init__ 실행됨\n",
    "    ### Initializer : 값을 초기화 함, 특수메소드    \n",
    "    def __init__(self):\n",
    "        print('Perosn 객체가 생성됨')"
   ]
  },
  {
   "cell_type": "code",
   "execution_count": 203,
   "metadata": {},
   "outputs": [
    {
     "name": "stdout",
     "output_type": "stream",
     "text": [
      "Perosn 객체가 생성됨\n"
     ]
    }
   ],
   "source": [
    "p = Person()"
   ]
  },
  {
   "cell_type": "code",
   "execution_count": null,
   "metadata": {},
   "outputs": [],
   "source": [
    "# 특수 메소드 ( 스페셜 메소드 ) : call bakc\n",
    "    # 메소드 -> 어느시점에 호출되는지 "
   ]
  },
  {
   "cell_type": "markdown",
   "metadata": {
    "slideshow": {
     "slide_type": "slide"
    }
   },
   "source": [
    "## 특수 메소드\n",
    "\n",
    "\n",
    "### 특수 메소드란\n",
    "- 특정한 상황에서 사용될 때 자동으로 호출되도록 파이썬 실행환경에 정의된 약속된 메소드들이다. 객체에 특정 기능들을 추가할 때 사용한다.\n",
    "    - 정의한 메소드와 그것을 호출하는 함수가 다르다.\n",
    "         - ex) `__init__()` => 객체 생성할 때 호출 된다.\n",
    "- 메소드 명이 더블 언더스코어로 시작하고 끝난다. \n",
    "    - ex) `__init__(), __str__()`\n",
    "- 매직 메소드(Magic Method), 던더(DUNDER) 메소드라고도 한다.\n",
    "- 특수메소드 종류\n",
    "    - https://docs.python.org/ko/3/reference/datamodel.html#special-method-names"
   ]
  },
  {
   "cell_type": "markdown",
   "metadata": {
    "slideshow": {
     "slide_type": "subslide"
    }
   },
   "source": [
    "### 주요 특수메소드\n",
    "- **`__init__(self [, …])`**\n",
    "    - Initializer\n",
    "    - 객체 생성시 호출 된다.\n",
    "    - 객체 생성시 Attribute의 값들을 초기화하는 것을 구현한다.\n",
    "    - self 변수로 받은 instance에 Attribute를 설정한다.\n",
    "- **`__call__(self [, …])`**\n",
    "- 객체를 함수처럼 호출 하면 실행되는 메소드\n",
    "    - Argument를 받을 Parameter 변수는 self 변수 다음에 필요한대로 선언한다.\n",
    "    - 처리결과를 반환하도록 구현할 경우 `return value` 구문을 넣는다. (필수는 아니다.)\n",
    "\n"
   ]
  },
  {
   "cell_type": "code",
   "execution_count": 207,
   "metadata": {
    "slideshow": {
     "slide_type": "fragment"
    }
   },
   "outputs": [],
   "source": [
    "class Plus:\n",
    "    def __init__( self, num1, num2 ):\n",
    "        self.num1 = num1\n",
    "        self.num2 = num2\n",
    "    \n",
    "#     def calculate(self):\n",
    "#         return self.num1 + self.num2\n",
    "    def __call__(self):\n",
    "        # 객체를 함수처름 호출할 떄 호출될 메소드\n",
    "        ## 객체가 하나의 메소드를 제공하고나 메인 메소드( 기능 )가 하나 있을 때 정의한다\n",
    "        return self.num1 + self.num2\n",
    "    "
   ]
  },
  {
   "cell_type": "code",
   "execution_count": 208,
   "metadata": {
    "slideshow": {
     "slide_type": "fragment"
    }
   },
   "outputs": [
    {
     "data": {
      "text/plain": [
       "45"
      ]
     },
     "execution_count": 208,
     "metadata": {},
     "output_type": "execute_result"
    }
   ],
   "source": [
    "plus = Plus(21, 24) # num1, num2 == 10, 20 을 객체에 넣음\n",
    "# p.calculate() => 대신 plus()로 한번에 호출가능 \n",
    "plus() # 객체() -> 객체를 함수처럼 호출( 실행 ) ===> __call__() 가 호출됨"
   ]
  },
  {
   "cell_type": "code",
   "execution_count": 209,
   "metadata": {},
   "outputs": [],
   "source": [
    "class Square:\n",
    "    def __init__( self, num):\n",
    "        self.num = num\n",
    "    \n",
    "    # n 제곱하는 메소드\n",
    "    \n",
    "    def calculate(self, n):\n",
    "        return self.num ** n\n",
    "    \n",
    "    def __call__(self, n): # 파라미터는 1개 이상 원하는 대로 정의\n",
    "        return self.num ** n"
   ]
  },
  {
   "cell_type": "code",
   "execution_count": 210,
   "metadata": {},
   "outputs": [],
   "source": [
    "square = Square(5)"
   ]
  },
  {
   "cell_type": "code",
   "execution_count": 211,
   "metadata": {},
   "outputs": [
    {
     "name": "stdout",
     "output_type": "stream",
     "text": [
      "25\n",
      "125\n"
     ]
    }
   ],
   "source": [
    "print(square.calculate(2)) # 5의 2제곱\n",
    "print(square(3)) # 5의 3제곱"
   ]
  },
  {
   "cell_type": "markdown",
   "metadata": {
    "slideshow": {
     "slide_type": "subslide"
    }
   },
   "source": [
    "- **`__repr__(self)`**\n",
    "    - Instance(객체) 자체를 표현할 수 있는 문자열을 반환한다.\n",
    "        - 보통 객체 생성하는 구문을 문자열로 반환한다.\n",
    "        - 반환된 문자열을 eval() 에 넣으면 동일한 attribute값들을 가진 객체를 생성할 수 있도록 정의한다.\n",
    "    - 내장함수 **repr(객체)** 호출할 때 이 메소드가 호출 된다.\n",
    "    - 대화형 IDE(REPL) 에서 객체를 참조하는 변수 출력할 때도 호출된다.\n",
    "> - eval(문자열)\n",
    ">     - 실행 가능한 구문의 문자열을 받아서 실행한다.\n",
    "\n",
    "- **`__str__(self)`**\n",
    "    - Instance(객체)의 Attribute들을 묶어서 문자열로 반환한다.\n",
    "    - 내장 함수 **str(객체)**  호출할 때 이 메소드가 호출 된다.\n",
    "        - str() 호출할 때 객체에 `__str__()`의 정의 안되 있으면 `__repr__()` 을 호출한다. `__repr__()`도 없으면 상위클래스에 정의된 `__str__()`을 호출한다.\n",
    "        - print() 함수는 값을 문자열로 변환해서 출력한다. 이때 그 값을 str() 에 넣어 문자열로 변환한다."
   ]
  },
  {
   "cell_type": "code",
   "execution_count": 212,
   "metadata": {
    "slideshow": {
     "slide_type": "fragment"
    }
   },
   "outputs": [],
   "source": [
    "class Person:\n",
    "    def __init__(self,name,age,address):\n",
    "        self.name = name\n",
    "        self.age = age\n",
    "        self.address = address\n",
    "    def __repr__(self): # \n",
    "        return f\"Person('{self.name}',{self.age},'{self.address}')\"\n",
    "    def __str__(self): # 많이 함 어떤 인스턴스 문자열로 구성되는지\n",
    "        return f\"이름:{self.name}\\n나이:{self.age}\\n주소:{self.address}\""
   ]
  },
  {
   "cell_type": "code",
   "execution_count": 215,
   "metadata": {
    "slideshow": {
     "slide_type": "fragment"
    }
   },
   "outputs": [],
   "source": [
    "p = Person('홍길동',23,'서울')\n",
    "v = repr(p) # p.__repr__() 호출한 결과(str)를 반환 => p 값을 만드는(생성하는) 구문을 반환."
   ]
  },
  {
   "cell_type": "code",
   "execution_count": 216,
   "metadata": {
    "slideshow": {
     "slide_type": "fragment"
    }
   },
   "outputs": [
    {
     "name": "stdout",
     "output_type": "stream",
     "text": [
      "Person('홍길동',23,'서울')\n"
     ]
    }
   ],
   "source": [
    "print(v)"
   ]
  },
  {
   "cell_type": "code",
   "execution_count": 219,
   "metadata": {
    "slideshow": {
     "slide_type": "fragment"
    }
   },
   "outputs": [
    {
     "name": "stdout",
     "output_type": "stream",
     "text": [
      "이름:홍길동\n",
      "나이:23\n",
      "주소:서울\n"
     ]
    }
   ],
   "source": [
    "v2 = str(p) # str(p) -> 값.__str__()의 반환값을 반환해준다.\n",
    "print(v2)"
   ]
  },
  {
   "cell_type": "code",
   "execution_count": 220,
   "metadata": {
    "slideshow": {
     "slide_type": "fragment"
    }
   },
   "outputs": [
    {
     "name": "stdout",
     "output_type": "stream",
     "text": [
      "2\n"
     ]
    }
   ],
   "source": [
    "print(eval('1 + 1'))"
   ]
  },
  {
   "cell_type": "code",
   "execution_count": 221,
   "metadata": {
    "slideshow": {
     "slide_type": "fragment"
    }
   },
   "outputs": [],
   "source": [
    "p2 = eval(v)"
   ]
  },
  {
   "cell_type": "code",
   "execution_count": 222,
   "metadata": {
    "slideshow": {
     "slide_type": "fragment"
    }
   },
   "outputs": [
    {
     "name": "stdout",
     "output_type": "stream",
     "text": [
      "홍길동 23 서울\n"
     ]
    }
   ],
   "source": [
    "print( p2.name, p2.age, p2.address )"
   ]
  },
  {
   "cell_type": "code",
   "execution_count": 226,
   "metadata": {
    "slideshow": {
     "slide_type": "fragment"
    }
   },
   "outputs": [],
   "source": [
    "# __repr__ : 객체-값 => 값의 표현식을 문자열로 반환. 30 -> '30', True -> 'True'\n",
    "# Square 객체(값) - Square(30) -> 'Square(30)'\n",
    "# Person('히나',24,'서울') -> 'Person('히나',24,'서울')'\n",
    "# Person('이순신'10,'인천') -> 'Person('이순신'10,'인천')'"
   ]
  },
  {
   "cell_type": "code",
   "execution_count": 230,
   "metadata": {
    "slideshow": {
     "slide_type": "fragment"
    }
   },
   "outputs": [
    {
     "name": "stdout",
     "output_type": "stream",
     "text": [
      "Hello World\n"
     ]
    },
    {
     "data": {
      "text/plain": [
       "'Hello World'"
      ]
     },
     "execution_count": 230,
     "metadata": {},
     "output_type": "execute_result"
    }
   ],
   "source": [
    "print(\"Hello World\") # 값을 문자열로 변환해서 출력\n",
    "'Hello World' #=> print(\" 'Hello World' \") # 값의 표현식을 출력 -> __repr__() 반환값을 출력"
   ]
  },
  {
   "cell_type": "code",
   "execution_count": 231,
   "metadata": {
    "slideshow": {
     "slide_type": "fragment"
    }
   },
   "outputs": [],
   "source": [
    "ss = repr('h')"
   ]
  },
  {
   "cell_type": "code",
   "execution_count": 232,
   "metadata": {
    "slideshow": {
     "slide_type": "fragment"
    }
   },
   "outputs": [
    {
     "name": "stdout",
     "output_type": "stream",
     "text": [
      "'h'\n"
     ]
    }
   ],
   "source": [
    "print(ss)"
   ]
  },
  {
   "cell_type": "code",
   "execution_count": 234,
   "metadata": {
    "slideshow": {
     "slide_type": "fragment"
    }
   },
   "outputs": [
    {
     "name": "stdout",
     "output_type": "stream",
     "text": [
      "3\n"
     ]
    }
   ],
   "source": [
    "print(len(ss)) # '3' => 작은 따움표 개수 포함"
   ]
  },
  {
   "cell_type": "markdown",
   "metadata": {
    "slideshow": {
     "slide_type": "subslide"
    }
   },
   "source": [
    "#### 연산자 재정의(Operator overriding) 관련 특수 메소드\n",
    "- 연산자의 피연산자로 객체를 사용하면 호출되는 메소드들\n",
    "- 다항연산자일 경우 가장 왼쪽의 객체에 정의된 메소드가 호출된다.\n",
    "    - `a + b` 일경우 a의 `__add__()` 가 호출된다.\n",
    "- **비교 연산자**\n",
    "    = p1.__eq__(p2) -> p1 안의 메소드를 만들어야함\n",
    "    - **`__eq__(self, other)`** : self == other\n",
    "        - == 로 객체의 내용을 비교할 때 정의 한다.\n",
    "    - **`__lt__(self, other)`** : self < other, \n",
    "    - **`__gt__(self, other)`**: self > other\n",
    "        - min()이나 max()에서 인수로 사용할 경우 정의해야 한다.\n",
    "    - **`__le__(self, other)`**: self <= other\n",
    "    - **`__ge__(self, other)`**: self >= other\n",
    "    - **`__ne__(self, other)`**: self != other"
   ]
  },
  {
   "cell_type": "markdown",
   "metadata": {
    "slideshow": {
     "slide_type": "fragment"
    }
   },
   "source": [
    "- **산술 연산자**\n",
    "    - **`__add__(self, other)`**: self + other\n",
    "    - **`__sub__(self, other)`**: self - other\n",
    "    - **`__mul__(self, other)`**: self * other\n",
    "    - **`__truediv__(self, other)`**: self / other\n",
    "    - **`__floordiv__(self, other)`**: self // other\n",
    "    - **`__mod__(self, other)`**: self % other"
   ]
  },
  {
   "cell_type": "code",
   "execution_count": 235,
   "metadata": {},
   "outputs": [],
   "source": [
    "class Person:\n",
    "    def __init__(self,name,age,address):\n",
    "        self.name = name\n",
    "        self.age = age\n",
    "        self.address = address\n",
    "    def __repr__(self):\n",
    "        return f\"Person('{self.name}',{self.age},'{self.address}')\"\n",
    "    def __str__(self): # 많이 함 어떤 인스턴스 문자열로 구성되는지\n",
    "        return f\"이름:{self.name}\\n나이:{self.age}\\n주소:{self.address}\"\n",
    "    \n",
    "    def __eq__(self, other):\n",
    "        # self == other 연산시 호출됨. - 속성값이 같으면 True가 나오도록 처리.\n",
    "        if isinstance(other,Person):\n",
    "            return self.name == other.name and self.age == other.age and self.address == other.address\n",
    "        else:\n",
    "            return False\n",
    "        \n",
    "    def __gt__(self,other):\n",
    "        # self > other 연산시 호출 - 나이 비교\n",
    "        ## 구현 하는건 사람 마다 필요한 것만 코딩함\n",
    "        if isinstance(other,Person): # \n",
    "            return self.age > other.age # other.age : 객체\n",
    "        elif isinstance(other, (int,float)):    \n",
    "            # self > 30 , self > 25.4\n",
    "            return self. age > other # other 정수\n",
    "        else:\n",
    "#             return False\n",
    "            # 에러 ( Exception ) 을 발생\n",
    "            raise TypeError(f\"Person 타입과 {type(other)}는 '>' 연산을 할수 없습니다\")\n"
   ]
  },
  {
   "cell_type": "code",
   "execution_count": 243,
   "metadata": {
    "slideshow": {
     "slide_type": "fragment"
    }
   },
   "outputs": [],
   "source": [
    "# p1.__add__(p2) , p1 + -> Person class 안에 있어야함\n",
    "# __eq__()\n",
    "p1 = Person('홍길동',23,'서울')\n",
    "p2 = Person('유재석',20,'인천')\n",
    "p4 = Person('정준하',23,'부산')\n",
    "p5 = Person('홍길동',40,'부산')"
   ]
  },
  {
   "cell_type": "code",
   "execution_count": 244,
   "metadata": {
    "slideshow": {
     "slide_type": "fragment"
    }
   },
   "outputs": [
    {
     "name": "stdout",
     "output_type": "stream",
     "text": [
      "False\n"
     ]
    }
   ],
   "source": [
    "print( p1 == p5 ) # name 값이 같아도 다른 값들이 틀리면 False"
   ]
  },
  {
   "cell_type": "code",
   "execution_count": 245,
   "metadata": {
    "slideshow": {
     "slide_type": "fragment"
    }
   },
   "outputs": [
    {
     "name": "stdout",
     "output_type": "stream",
     "text": [
      "True\n"
     ]
    }
   ],
   "source": [
    "print( p1 != p4 )"
   ]
  },
  {
   "cell_type": "code",
   "execution_count": 247,
   "metadata": {
    "slideshow": {
     "slide_type": "fragment"
    }
   },
   "outputs": [
    {
     "name": "stdout",
     "output_type": "stream",
     "text": [
      "True\n"
     ]
    }
   ],
   "source": [
    "# __gt__() \n",
    "print( p1 > p2 )"
   ]
  },
  {
   "cell_type": "code",
   "execution_count": 248,
   "metadata": {
    "slideshow": {
     "slide_type": "fragment"
    }
   },
   "outputs": [
    {
     "name": "stdout",
     "output_type": "stream",
     "text": [
      "False\n"
     ]
    }
   ],
   "source": [
    "print( p1 < p2 )"
   ]
  },
  {
   "cell_type": "code",
   "execution_count": 253,
   "metadata": {
    "slideshow": {
     "slide_type": "fragment"
    }
   },
   "outputs": [
    {
     "name": "stdout",
     "output_type": "stream",
     "text": [
      "True\n"
     ]
    }
   ],
   "source": [
    "# p1의 나이가 10보다 큰지?\n",
    "print( p1 > 10)"
   ]
  },
  {
   "cell_type": "code",
   "execution_count": 254,
   "metadata": {
    "slideshow": {
     "slide_type": "fragment"
    }
   },
   "outputs": [
    {
     "name": "stdout",
     "output_type": "stream",
     "text": [
      "True\n"
     ]
    }
   ],
   "source": [
    "print( p1 > 14.5 )"
   ]
  },
  {
   "cell_type": "code",
   "execution_count": 255,
   "metadata": {
    "slideshow": {
     "slide_type": "fragment"
    }
   },
   "outputs": [
    {
     "name": "stdout",
     "output_type": "stream",
     "text": [
      "False\n"
     ]
    }
   ],
   "source": [
    "print( p1 > 100)"
   ]
  },
  {
   "cell_type": "code",
   "execution_count": 256,
   "metadata": {
    "slideshow": {
     "slide_type": "fragment"
    }
   },
   "outputs": [
    {
     "ename": "TypeError",
     "evalue": "Person 타입과 <class 'str'>는 '>' 연산을 할수 없습니다",
     "output_type": "error",
     "traceback": [
      "\u001b[1;31m---------------------------------------------------------------------------\u001b[0m",
      "\u001b[1;31mTypeError\u001b[0m                                 Traceback (most recent call last)",
      "Cell \u001b[1;32mIn[256], line 1\u001b[0m\n\u001b[1;32m----> 1\u001b[0m p1 \u001b[38;5;241m>\u001b[39m \u001b[38;5;124m'\u001b[39m\u001b[38;5;124m스무살\u001b[39m\u001b[38;5;124m'\u001b[39m\n",
      "Cell \u001b[1;32mIn[235], line 29\u001b[0m, in \u001b[0;36mPerson.__gt__\u001b[1;34m(self, other)\u001b[0m\n\u001b[0;32m     25\u001b[0m             \u001b[38;5;28;01mreturn\u001b[39;00m \u001b[38;5;28mself\u001b[39m\u001b[38;5;241m.\u001b[39m age \u001b[38;5;241m>\u001b[39m other \u001b[38;5;66;03m# other 정수\u001b[39;00m\n\u001b[0;32m     26\u001b[0m         \u001b[38;5;28;01melse\u001b[39;00m:\n\u001b[0;32m     27\u001b[0m \u001b[38;5;66;03m#             return False\u001b[39;00m\n\u001b[0;32m     28\u001b[0m             \u001b[38;5;66;03m# 에러 ( Exception ) 을 발생\u001b[39;00m\n\u001b[1;32m---> 29\u001b[0m             \u001b[38;5;28;01mraise\u001b[39;00m \u001b[38;5;167;01mTypeError\u001b[39;00m(\u001b[38;5;124mf\u001b[39m\u001b[38;5;124m\"\u001b[39m\u001b[38;5;124mPerson 타입과 \u001b[39m\u001b[38;5;132;01m{\u001b[39;00m\u001b[38;5;28mtype\u001b[39m(other)\u001b[38;5;132;01m}\u001b[39;00m\u001b[38;5;124m는 \u001b[39m\u001b[38;5;124m'\u001b[39m\u001b[38;5;124m>\u001b[39m\u001b[38;5;124m'\u001b[39m\u001b[38;5;124m 연산을 할수 없습니다\u001b[39m\u001b[38;5;124m\"\u001b[39m)\n",
      "\u001b[1;31mTypeError\u001b[0m: Person 타입과 <class 'str'>는 '>' 연산을 할수 없습니다"
     ]
    }
   ],
   "source": [
    "p1 > '스무살'\n",
    "# Raise : TypeError: Person 타입과 <class 'str'>는 '>' 연산을 할수 없습니다"
   ]
  },
  {
   "cell_type": "markdown",
   "metadata": {
    "slideshow": {
     "slide_type": "slide"
    }
   },
   "source": [
    "# class변수, class 메소드\n",
    "- **class변수**\n",
    "    - (Intance가 아닌) 클래스 자체의 데이터\n",
    "    - Attribute가 객체별로 생성된다면, class변수는 클래스당 하나가 생성된다.\n",
    "    - 구현\n",
    "        - class 블럭에 변수 선언.\n",
    "- **class 메소드**\n",
    "    - 클래스 변수를 처리하는 메소드\n",
    "    - 구현\n",
    "        - @classmethod 데코레이터를 붙인다.\n",
    "        - 첫번째 매개변수로 클래스를 받는 변수를 선언한다. 이 변수를 이용해 클래스 변수나 다른 클래스 메소드를 호출 한다."
   ]
  },
  {
   "cell_type": "markdown",
   "metadata": {
    "slideshow": {
     "slide_type": "subslide"
    }
   },
   "source": [
    "# static 메소드\n",
    "- 클래스의 메소드로 클래스 변수와 상관없는 단순기능을 정의한다.\n",
    "    - Caller 에서 받은 argument만 가지고 일하는 메소드를 구현한다.\n",
    "- 구현\n",
    "    - @staticmethod 데코레이터를 붙인다.\n",
    "    - Parameter에 대한 규칙은 없이 필요한 변수들만 선언한다.\n",
    "    "
   ]
  },
  {
   "cell_type": "markdown",
   "metadata": {
    "slideshow": {
     "slide_type": "fragment"
    }
   },
   "source": [
    "## class 메소드/변수, static 메소드 호출\n",
    "- 클래스이름.변수\n",
    "- 클래스이름.메소드() "
   ]
  },
  {
   "cell_type": "code",
   "execution_count": 273,
   "metadata": {},
   "outputs": [],
   "source": [
    "class Circle:\n",
    "    __PI = 3.14 # class의 변수 - class variavle ( class block 변수)\n",
    "    # __변수 : 은닉 -> Circle__PI 로 변경됨\n",
    "    # pi의 값을 변경( setter ), 조회( getter )\n",
    "    @classmethod\n",
    "    def set_PI(clazz, new_PI): # 첫번째 파라미터 - class 자체를 받는다. Circle.set_PI(3.14)\n",
    "        # clazz -> class 변수, 다른 class 메소드를 호출할 때 사용.\n",
    "        if new_PI in [ 3.14, 3.14159 ]:\n",
    "            clazz.__PI = new_PI\n",
    "        else:\n",
    "            print('변경 못함 현재 PI값:', clazz.__PI)\n",
    "    @classmethod\n",
    "    def get_PI(clazz):\n",
    "        return clazz.__PI\n",
    "    \n",
    "    def __init__(self, radius):\n",
    "        # self -> attribute(instance 변수), instance method 호출\n",
    "        self.radius = radius \n",
    "    def calc_area(self): # 원의 널비\n",
    "        return self.radius * self.radius * Circle.__PI # method 에서 class 변수 사용\n",
    "    \n",
    "    @staticmethod\n",
    "    def class_version():\n",
    "        # class 변수나 instance 변수를 사용하지 않는 메소드.\n",
    "        # 함수처럼 사용하는 메소드 ( 클래스 소속. )\n",
    "        return '1.0'\n",
    "    "
   ]
  },
  {
   "cell_type": "code",
   "execution_count": 274,
   "metadata": {},
   "outputs": [],
   "source": [
    "c = Circle(5)"
   ]
  },
  {
   "cell_type": "code",
   "execution_count": 275,
   "metadata": {},
   "outputs": [
    {
     "name": "stdout",
     "output_type": "stream",
     "text": [
      "78.5\n"
     ]
    }
   ],
   "source": [
    "print(c.calc_area())"
   ]
  },
  {
   "cell_type": "code",
   "execution_count": 276,
   "metadata": {},
   "outputs": [
    {
     "name": "stdout",
     "output_type": "stream",
     "text": [
      "3.14\n"
     ]
    }
   ],
   "source": [
    "# class 변수 조회\n",
    "# print(Circle.PI)\n",
    "print(Circle.get_PI())"
   ]
  },
  {
   "cell_type": "code",
   "execution_count": 277,
   "metadata": {},
   "outputs": [
    {
     "data": {
      "text/plain": [
       "'1.0'"
      ]
     },
     "execution_count": 277,
     "metadata": {},
     "output_type": "execute_result"
    }
   ],
   "source": [
    "Circle.class_version()"
   ]
  },
  {
   "cell_type": "code",
   "execution_count": 278,
   "metadata": {},
   "outputs": [
    {
     "name": "stdout",
     "output_type": "stream",
     "text": [
      "변경 못함 현재 PI값: 3.14\n"
     ]
    }
   ],
   "source": [
    "Circle.set_PI(3.145)"
   ]
  },
  {
   "cell_type": "code",
   "execution_count": 279,
   "metadata": {},
   "outputs": [],
   "source": [
    "# class 변수 변경\n",
    "Circle.PI = 3.1415"
   ]
  },
  {
   "cell_type": "code",
   "execution_count": 280,
   "metadata": {},
   "outputs": [
    {
     "name": "stdout",
     "output_type": "stream",
     "text": [
      "3.14\n"
     ]
    }
   ],
   "source": [
    "print(Circle._Circle__PI)"
   ]
  },
  {
   "cell_type": "code",
   "execution_count": 281,
   "metadata": {},
   "outputs": [
    {
     "name": "stdout",
     "output_type": "stream",
     "text": [
      "78.5\n"
     ]
    }
   ],
   "source": [
    "print(c.calc_area())"
   ]
  }
 ],
 "metadata": {
  "kernelspec": {
   "display_name": "Python 3 (ipykernel)",
   "language": "python",
   "name": "python3"
  },
  "language_info": {
   "codemirror_mode": {
    "name": "ipython",
    "version": 3
   },
   "file_extension": ".py",
   "mimetype": "text/x-python",
   "name": "python",
   "nbconvert_exporter": "python",
   "pygments_lexer": "ipython3",
   "version": "3.11.4"
  },
  "toc": {
   "base_numbering": 1,
   "nav_menu": {},
   "number_sections": true,
   "sideBar": true,
   "skip_h1_title": false,
   "title_cell": "Table of Contents",
   "title_sidebar": "Contents",
   "toc_cell": false,
   "toc_position": {},
   "toc_section_display": true,
   "toc_window_display": false
  },
  "varInspector": {
   "cols": {
    "lenName": 16,
    "lenType": 16,
    "lenVar": 40
   },
   "kernels_config": {
    "python": {
     "delete_cmd_postfix": "",
     "delete_cmd_prefix": "del ",
     "library": "var_list.py",
     "varRefreshCmd": "print(var_dic_list())"
    },
    "r": {
     "delete_cmd_postfix": ") ",
     "delete_cmd_prefix": "rm(",
     "library": "var_list.r",
     "varRefreshCmd": "cat(var_dic_list()) "
    }
   },
   "types_to_exclude": [
    "module",
    "function",
    "builtin_function_or_method",
    "instance",
    "_Feature"
   ],
   "window_display": false
  }
 },
 "nbformat": 4,
 "nbformat_minor": 4
}
